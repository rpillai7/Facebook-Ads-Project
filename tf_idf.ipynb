{
 "cells": [
  {
   "cell_type": "code",
   "execution_count": 1,
   "id": "14b993d3",
   "metadata": {},
   "outputs": [],
   "source": [
    "import gzip\n",
    "import math\n",
    "import matplotlib.pyplot as plt\n",
    "import numpy as np\n",
    "import random\n",
    "import sklearn\n",
    "import string\n",
    "from collections import defaultdict\n",
    "from nltk.stem.porter import *\n",
    "from sklearn import linear_model\n",
    "from sklearn.manifold import TSNE"
   ]
  },
  {
   "cell_type": "code",
   "execution_count": 2,
   "id": "87940a66",
   "metadata": {},
   "outputs": [],
   "source": [
    "import pandas as pd\n",
    "import requests\n",
    "import json\n",
    "import pickle\n",
    "\n",
    "pd.set_option('display.max_rows', None)"
   ]
  },
  {
   "cell_type": "code",
   "execution_count": 3,
   "id": "4af27a83",
   "metadata": {},
   "outputs": [],
   "source": [
    "#Reads in Ads10000_election file\n",
    "\n",
    "f = open(\"Ads10000_election\", \"rb\")\n",
    "ads_election = pickle.load(f)\n",
    "f.close() "
   ]
  },
  {
   "cell_type": "code",
   "execution_count": 4,
   "id": "54fcfb19",
   "metadata": {},
   "outputs": [],
   "source": [
    "#Reads in Ads10000_vaccine file\n",
    "\n",
    "g = open(\"Ads10000_vaccine\", \"rb\")\n",
    "ads_vaccine = pickle.load(g)\n",
    "g.close() "
   ]
  },
  {
   "cell_type": "code",
   "execution_count": 5,
   "id": "2ba8f152",
   "metadata": {},
   "outputs": [
    {
     "data": {
      "text/html": [
       "<div>\n",
       "<style scoped>\n",
       "    .dataframe tbody tr th:only-of-type {\n",
       "        vertical-align: middle;\n",
       "    }\n",
       "\n",
       "    .dataframe tbody tr th {\n",
       "        vertical-align: top;\n",
       "    }\n",
       "\n",
       "    .dataframe thead th {\n",
       "        text-align: right;\n",
       "    }\n",
       "</style>\n",
       "<table border=\"1\" class=\"dataframe\">\n",
       "  <thead>\n",
       "    <tr style=\"text-align: right;\">\n",
       "      <th></th>\n",
       "      <th>ad_creation_time</th>\n",
       "      <th>ad_creative_bodies</th>\n",
       "      <th>ad_creative_link_captions</th>\n",
       "      <th>ad_creative_link_descriptions</th>\n",
       "      <th>ad_creative_link_titles</th>\n",
       "      <th>ad_delivery_start_time</th>\n",
       "      <th>ad_delivery_stop_time</th>\n",
       "      <th>estimated_audience_size</th>\n",
       "      <th>impressions</th>\n",
       "      <th>spend</th>\n",
       "      <th>id</th>\n",
       "      <th>delivery_by_region</th>\n",
       "      <th>demographic_distribution</th>\n",
       "    </tr>\n",
       "  </thead>\n",
       "  <tbody>\n",
       "    <tr>\n",
       "      <th>0</th>\n",
       "      <td>2021-02-01</td>\n",
       "      <td>[County closes downtown San Diego vaccine site...</td>\n",
       "      <td>[https://apps.apple.com/us/app/smartnews-local...</td>\n",
       "      <td>[‎SmartNews is the award-winning news app down...</td>\n",
       "      <td>[News for San Diego County]</td>\n",
       "      <td>2021-02-01</td>\n",
       "      <td>2021-02-04</td>\n",
       "      <td>{'lower_bound': '1000001'}</td>\n",
       "      <td>{'lower_bound': '0', 'upper_bound': '999'}</td>\n",
       "      <td>{'lower_bound': '0', 'upper_bound': '99'}</td>\n",
       "      <td>711213506429873</td>\n",
       "      <td>NaN</td>\n",
       "      <td>NaN</td>\n",
       "    </tr>\n",
       "    <tr>\n",
       "      <th>1</th>\n",
       "      <td>2021-02-01</td>\n",
       "      <td>[County closes downtown San Diego vaccine site...</td>\n",
       "      <td>[https://apps.apple.com/us/app/smartnews-local...</td>\n",
       "      <td>[‎SmartNews is the award-winning news app down...</td>\n",
       "      <td>[News for San Diego County]</td>\n",
       "      <td>2021-02-01</td>\n",
       "      <td>2021-02-01</td>\n",
       "      <td>{'lower_bound': '1000001'}</td>\n",
       "      <td>{'lower_bound': '0', 'upper_bound': '999'}</td>\n",
       "      <td>{'lower_bound': '0', 'upper_bound': '99'}</td>\n",
       "      <td>127634835910715</td>\n",
       "      <td>NaN</td>\n",
       "      <td>NaN</td>\n",
       "    </tr>\n",
       "    <tr>\n",
       "      <th>2</th>\n",
       "      <td>2021-02-01</td>\n",
       "      <td>[County closes downtown San Diego vaccine site...</td>\n",
       "      <td>[https://apps.apple.com/us/app/smartnews-local...</td>\n",
       "      <td>[‎SmartNews is the award-winning news app down...</td>\n",
       "      <td>[News for San Diego County]</td>\n",
       "      <td>2021-02-01</td>\n",
       "      <td>2021-02-04</td>\n",
       "      <td>{'lower_bound': '1000001'}</td>\n",
       "      <td>{'lower_bound': '0', 'upper_bound': '999'}</td>\n",
       "      <td>{'lower_bound': '0', 'upper_bound': '99'}</td>\n",
       "      <td>3821823704574505</td>\n",
       "      <td>NaN</td>\n",
       "      <td>NaN</td>\n",
       "    </tr>\n",
       "    <tr>\n",
       "      <th>3</th>\n",
       "      <td>2021-02-01</td>\n",
       "      <td>[County closes downtown San Diego vaccine site...</td>\n",
       "      <td>[https://apps.apple.com/us/app/smartnews-local...</td>\n",
       "      <td>[‎SmartNews is the award-winning news app down...</td>\n",
       "      <td>[News for San Diego County]</td>\n",
       "      <td>2021-02-01</td>\n",
       "      <td>2021-02-03</td>\n",
       "      <td>{'lower_bound': '1000001'}</td>\n",
       "      <td>{'lower_bound': '0', 'upper_bound': '999'}</td>\n",
       "      <td>{'lower_bound': '0', 'upper_bound': '99'}</td>\n",
       "      <td>745901799329077</td>\n",
       "      <td>NaN</td>\n",
       "      <td>NaN</td>\n",
       "    </tr>\n",
       "    <tr>\n",
       "      <th>4</th>\n",
       "      <td>2021-02-01</td>\n",
       "      <td>[County closes downtown San Diego vaccine site...</td>\n",
       "      <td>[https://apps.apple.com/us/app/smartnews-local...</td>\n",
       "      <td>[‎SmartNews is the award-winning news app down...</td>\n",
       "      <td>[News for San Diego County]</td>\n",
       "      <td>2021-02-01</td>\n",
       "      <td>2021-02-03</td>\n",
       "      <td>{'lower_bound': '1000001'}</td>\n",
       "      <td>{'lower_bound': '0', 'upper_bound': '999'}</td>\n",
       "      <td>{'lower_bound': '0', 'upper_bound': '99'}</td>\n",
       "      <td>172031037686911</td>\n",
       "      <td>NaN</td>\n",
       "      <td>NaN</td>\n",
       "    </tr>\n",
       "  </tbody>\n",
       "</table>\n",
       "</div>"
      ],
      "text/plain": [
       "  ad_creation_time                                 ad_creative_bodies  \\\n",
       "0       2021-02-01  [County closes downtown San Diego vaccine site...   \n",
       "1       2021-02-01  [County closes downtown San Diego vaccine site...   \n",
       "2       2021-02-01  [County closes downtown San Diego vaccine site...   \n",
       "3       2021-02-01  [County closes downtown San Diego vaccine site...   \n",
       "4       2021-02-01  [County closes downtown San Diego vaccine site...   \n",
       "\n",
       "                           ad_creative_link_captions  \\\n",
       "0  [https://apps.apple.com/us/app/smartnews-local...   \n",
       "1  [https://apps.apple.com/us/app/smartnews-local...   \n",
       "2  [https://apps.apple.com/us/app/smartnews-local...   \n",
       "3  [https://apps.apple.com/us/app/smartnews-local...   \n",
       "4  [https://apps.apple.com/us/app/smartnews-local...   \n",
       "\n",
       "                       ad_creative_link_descriptions  \\\n",
       "0  [‎SmartNews is the award-winning news app down...   \n",
       "1  [‎SmartNews is the award-winning news app down...   \n",
       "2  [‎SmartNews is the award-winning news app down...   \n",
       "3  [‎SmartNews is the award-winning news app down...   \n",
       "4  [‎SmartNews is the award-winning news app down...   \n",
       "\n",
       "       ad_creative_link_titles ad_delivery_start_time ad_delivery_stop_time  \\\n",
       "0  [News for San Diego County]             2021-02-01            2021-02-04   \n",
       "1  [News for San Diego County]             2021-02-01            2021-02-01   \n",
       "2  [News for San Diego County]             2021-02-01            2021-02-04   \n",
       "3  [News for San Diego County]             2021-02-01            2021-02-03   \n",
       "4  [News for San Diego County]             2021-02-01            2021-02-03   \n",
       "\n",
       "      estimated_audience_size                                 impressions  \\\n",
       "0  {'lower_bound': '1000001'}  {'lower_bound': '0', 'upper_bound': '999'}   \n",
       "1  {'lower_bound': '1000001'}  {'lower_bound': '0', 'upper_bound': '999'}   \n",
       "2  {'lower_bound': '1000001'}  {'lower_bound': '0', 'upper_bound': '999'}   \n",
       "3  {'lower_bound': '1000001'}  {'lower_bound': '0', 'upper_bound': '999'}   \n",
       "4  {'lower_bound': '1000001'}  {'lower_bound': '0', 'upper_bound': '999'}   \n",
       "\n",
       "                                       spend                id  \\\n",
       "0  {'lower_bound': '0', 'upper_bound': '99'}   711213506429873   \n",
       "1  {'lower_bound': '0', 'upper_bound': '99'}   127634835910715   \n",
       "2  {'lower_bound': '0', 'upper_bound': '99'}  3821823704574505   \n",
       "3  {'lower_bound': '0', 'upper_bound': '99'}   745901799329077   \n",
       "4  {'lower_bound': '0', 'upper_bound': '99'}   172031037686911   \n",
       "\n",
       "  delivery_by_region demographic_distribution  \n",
       "0                NaN                      NaN  \n",
       "1                NaN                      NaN  \n",
       "2                NaN                      NaN  \n",
       "3                NaN                      NaN  \n",
       "4                NaN                      NaN  "
      ]
     },
     "execution_count": 5,
     "metadata": {},
     "output_type": "execute_result"
    }
   ],
   "source": [
    "df_election = pd.DataFrame(ads_election)\n",
    "df_election.head()"
   ]
  },
  {
   "cell_type": "code",
   "execution_count": 6,
   "id": "ec099aba",
   "metadata": {},
   "outputs": [],
   "source": [
    "# drops all ads with no description and turns it back into json \n",
    "\n",
    "def df_to_json(df):\n",
    "    # drops all NaN data\n",
    "    dropped_NaN = df.dropna()\n",
    "    \n",
    "    # converts df to json\n",
    "    json = dropped_NaN.to_json(orient='records')\n",
    "    dataset = eval(json)\n",
    "    return dataset"
   ]
  },
  {
   "cell_type": "code",
   "execution_count": 7,
   "id": "9ad3f5b7",
   "metadata": {},
   "outputs": [
    {
     "data": {
      "text/plain": [
       "4131"
      ]
     },
     "execution_count": 7,
     "metadata": {},
     "output_type": "execute_result"
    }
   ],
   "source": [
    "# json of df_election\n",
    "election_dataset = df_to_json(df_election)\n",
    "len(election_dataset)"
   ]
  },
  {
   "cell_type": "code",
   "execution_count": 8,
   "id": "150680f9",
   "metadata": {},
   "outputs": [
    {
     "data": {
      "text/plain": [
       "6543"
      ]
     },
     "execution_count": 8,
     "metadata": {},
     "output_type": "execute_result"
    }
   ],
   "source": [
    "# lowering and removing punctuation \n",
    "# counts number of occurences of each word, stored in wordCount\n",
    "wordCount = defaultdict(int)\n",
    "punctuation = set(string.punctuation)\n",
    "for d in election_dataset:\n",
    "    r = ''.join([c for c in d['ad_creative_bodies'][0].lower() if not c in punctuation])\n",
    "    for w in r.split():\n",
    "        wordCount[w] += 1\n",
    "len(wordCount)"
   ]
  },
  {
   "cell_type": "code",
   "execution_count": 9,
   "id": "4920d989",
   "metadata": {},
   "outputs": [],
   "source": [
    "counts = [(wordCount[w], w) for w in wordCount]\n",
    "counts.sort()\n",
    "counts.reverse()"
   ]
  },
  {
   "cell_type": "code",
   "execution_count": 10,
   "id": "e2bb1587",
   "metadata": {},
   "outputs": [],
   "source": [
    "words = [x[1] for x in counts[:]]"
   ]
  },
  {
   "cell_type": "code",
   "execution_count": 11,
   "id": "268dc00e",
   "metadata": {},
   "outputs": [],
   "source": [
    "# gets frequency of each word in the entire dataset \n",
    "df = defaultdict(int)\n",
    "for d in election_dataset:\n",
    "    r = ''.join([c for c in d['ad_creative_bodies'][0].lower() if not c in punctuation])\n",
    "    for w in set(r.split()):\n",
    "        df[w] += 1"
   ]
  },
  {
   "cell_type": "code",
   "execution_count": 12,
   "id": "78da8e5f",
   "metadata": {},
   "outputs": [],
   "source": [
    "rev = election_dataset[0]"
   ]
  },
  {
   "cell_type": "markdown",
   "id": "5a9a6bd7",
   "metadata": {},
   "source": [
    "Getting TF - IDF for a single document"
   ]
  },
  {
   "cell_type": "code",
   "execution_count": 13,
   "id": "2ba78ca2",
   "metadata": {},
   "outputs": [],
   "source": [
    "tf = defaultdict(int)\n",
    "r = ''.join([c for c in rev['ad_creative_bodies'][0].lower() if not c in punctuation])\n",
    "for w in r.split():\n",
    "    # Note = rather than +=, different versions of tf could be used instead\n",
    "    tf[w] = 1\n",
    "    \n",
    "tfidf = dict(zip(words,[tf[w] * math.log2(len(election_dataset) / df[w]) for w in words]))\n",
    "tfidfQuery = [tf[w] * math.log2(len(election_dataset) / df[w]) for w in words]"
   ]
  },
  {
   "cell_type": "code",
   "execution_count": 14,
   "id": "0300781c",
   "metadata": {},
   "outputs": [],
   "source": [
    "maxTf = [(tf[w],w) for w in words]\n",
    "maxTf.sort(reverse=True)\n",
    "maxTfIdf = [(tfidf[w],w) for w in words]\n",
    "maxTfIdf.sort(reverse=True)"
   ]
  },
  {
   "cell_type": "code",
   "execution_count": 15,
   "id": "f1b57f04",
   "metadata": {},
   "outputs": [
    {
     "data": {
      "text/plain": [
       "[(12.01227534485612, 'tennessee’s'),\n",
       " (12.01227534485612, 'tennesseans'),\n",
       " (12.01227534485612, 'tdh'),\n",
       " (12.01227534485612, 'reminds'),\n",
       " (12.01227534485612, 'prioritizes'),\n",
       " (12.01227534485612, 'metropolitan'),\n",
       " (12.01227534485612, 'instructions'),\n",
       " (12.01227534485612, 'httpscovid19tngovcovid19vaccinesvaccinephases'),\n",
       " (12.01227534485612,\n",
       "  'httpscovid19tngovcovid19vaccinescountyvaccineinformation'),\n",
       " (12.01227534485612, 'feb')]"
      ]
     },
     "execution_count": 15,
     "metadata": {},
     "output_type": "execute_result"
    }
   ],
   "source": [
    "# words with highest TF-IDF\n",
    "maxTfIdf[:10]"
   ]
  },
  {
   "cell_type": "code",
   "execution_count": 16,
   "id": "54e964c3",
   "metadata": {
    "scrolled": true
   },
   "outputs": [
    {
     "data": {
      "text/plain": [
       "range(0, 10)"
      ]
     },
     "execution_count": 16,
     "metadata": {},
     "output_type": "execute_result"
    }
   ],
   "source": [
    "maxTfIdf[:-10:-1]\n",
    "range(10)"
   ]
  },
  {
   "cell_type": "code",
   "execution_count": 17,
   "id": "5b70b54b",
   "metadata": {},
   "outputs": [],
   "source": [
    "my_dict = {}\n",
    "stopwords = ['http','html','www','\\\\']\n",
    "\n",
    "for x in range(len(election_dataset)):\n",
    "    \n",
    "    rev = election_dataset[x]\n",
    "    tf = defaultdict(int)\n",
    "    r = ''.join([c for c in rev['ad_creative_bodies'][0].lower() if not c in punctuation])\n",
    "    \n",
    "    for w in r.split():\n",
    "    # Note = rather than +=, different versions of tf could be used instead\n",
    "        tf[w] = 1\n",
    "    \n",
    "    tfidf = dict(zip(words,[tf[w] * math.log2(len(election_dataset) / df[w]) for w in words]))\n",
    "    tfidfQuery = [tf[w] * math.log2(len(election_dataset) / df[w]) for w in words]\n",
    "\n",
    "    maxTf = [(tf[w],w) for w in words]\n",
    "    maxTf.sort(reverse=True)\n",
    "    maxTfIdf = [(tfidf[w],w) for w in words]\n",
    "    maxTfIdf.sort(reverse=True)\n",
    "    \n",
    "    tf_value = maxTfIdf[0][0]\n",
    "    tf_list = []\n",
    "    \n",
    "    for i in range(len(maxTfIdf)):\n",
    "        \n",
    "        if maxTfIdf[i][0] != tf_value:\n",
    "            break\n",
    "        tf_list.append(maxTfIdf[i][1])\n",
    "    tf_list = [ele for ele in tf_list if all(ch not in ele for ch in stopwords)]\n",
    "        \n",
    "    my_dict[f'document {x}'] = {'top_TfIdf':tf_list}\n"
   ]
  },
  {
   "cell_type": "code",
   "execution_count": 18,
   "id": "d4b24356",
   "metadata": {},
   "outputs": [
    {
     "data": {
      "text/plain": [
       "4131"
      ]
     },
     "execution_count": 18,
     "metadata": {},
     "output_type": "execute_result"
    }
   ],
   "source": [
    "len(my_dict)"
   ]
  },
  {
   "cell_type": "code",
   "execution_count": 19,
   "id": "b02ade1e",
   "metadata": {},
   "outputs": [
    {
     "data": {
      "text/plain": [
       "4131"
      ]
     },
     "execution_count": 19,
     "metadata": {},
     "output_type": "execute_result"
    }
   ],
   "source": [
    "len(election_dataset)"
   ]
  },
  {
   "cell_type": "code",
   "execution_count": 21,
   "id": "eb81a5d5",
   "metadata": {},
   "outputs": [],
   "source": [
    "# find highest TF - IDF of each document \n",
    "# groupby each TF - IDF and get the number of times each words was the highest \n",
    "# sentiment analysis of a single word \n",
    "# compare sentiment analysis of these words to documents that have TF - IDF"
   ]
  },
  {
   "cell_type": "markdown",
   "id": "8c45fa1b",
   "metadata": {},
   "source": [
    "# Cosine Similarity "
   ]
  },
  {
   "cell_type": "code",
   "execution_count": 22,
   "id": "1c5f141d",
   "metadata": {},
   "outputs": [],
   "source": [
    "def Cosine(x1,x2):\n",
    "    numer = 0\n",
    "    norm1 = 0\n",
    "    norm2 = 0\n",
    "    for a1,a2 in zip(x1,x2):\n",
    "        numer += a1*a2\n",
    "        norm1 += a1**2\n",
    "        norm2 += a2**2\n",
    "    if norm1*norm2:\n",
    "        return numer / math.sqrt(norm1*norm2)\n",
    "    return 0\n"
   ]
  },
  {
   "cell_type": "code",
   "execution_count": 23,
   "id": "b41bfbed",
   "metadata": {},
   "outputs": [],
   "source": [
    "similarities = []\n",
    "for rev2 in election_dataset:\n",
    "    tf = defaultdict(int)\n",
    "    r = ''.join([c for c in rev2['ad_creative_bodies'][0].lower() if not c in punctuation])\n",
    "    for w in r.split():\n",
    "        # Note = rather than +=\n",
    "        tf[w] = 1\n",
    "    tfidf2 = [tf[w] * math.log2(len(election_dataset) / df[w]) for w in words]\n",
    "    similarities.append((Cosine(tfidfQuery, tfidf2), rev2['ad_creative_bodies']))\n"
   ]
  },
  {
   "cell_type": "code",
   "execution_count": 24,
   "id": "9b9d541b",
   "metadata": {},
   "outputs": [],
   "source": [
    "similarities.sort(reverse=True)"
   ]
  },
  {
   "cell_type": "code",
   "execution_count": 27,
   "id": "afa4fd03",
   "metadata": {},
   "outputs": [
    {
     "data": {
      "text/plain": [
       "4131"
      ]
     },
     "execution_count": 27,
     "metadata": {},
     "output_type": "execute_result"
    }
   ],
   "source": [
    "len(similarities)"
   ]
  },
  {
   "cell_type": "code",
   "execution_count": 25,
   "id": "16c576b8",
   "metadata": {},
   "outputs": [
    {
     "data": {
      "text/plain": [
       "[(1.0,\n",
       "  ['America, under Trump, is no longer the world leader it used to be.  Instead it\\'s \"America First\" and the last and the only nation.  This approach isn\\'t working very well with 80,000 deaths from Covid-19.  And if some other country gets the vaccine first, will they want to share with a country who thinks they\\'re the First and the Last and the Only?  Maybe not.  https:\\\\/\\\\/www.theguardian.com\\\\/commentisfree\\\\/2020\\\\/may\\\\/12\\\\/trump-is-making-america-an-obstacle-in-the-global-fight-against-covid-19']),\n",
       " (1.0,\n",
       "  ['America, under Trump, is no longer the world leader it used to be.  Instead it\\'s \"America First\" and the last and the only nation.  This approach isn\\'t working very well with 80,000 deaths from Covid-19.  And if some other country gets the vaccine first, will they want to share with a country who thinks they\\'re the First and the Last and the Only?  Maybe not.  https:\\\\/\\\\/www.theguardian.com\\\\/commentisfree\\\\/2020\\\\/may\\\\/12\\\\/trump-is-making-america-an-obstacle-in-the-global-fight-against-covid-19']),\n",
       " (0.13446342409059145,\n",
       "  ['NEW STORY: Employers Weigh Coronavirus Vaccine Requirements\\n*\\n*\\n\"Certainly mandates can have their place, but they must be used judiciously,\" Moore said. \"They\\'re not the first tool that we implement when it comes to a new vaccine.\"']),\n",
       " (0.13446342409059145,\n",
       "  ['NEW STORY: Employers Weigh Coronavirus Vaccine Requirements\\n*\\n*\\n\"Certainly mandates can have their place, but they must be used judiciously,\" Moore said. \"They\\'re not the first tool that we implement when it comes to a new vaccine.\"']),\n",
       " (0.13446342409059145,\n",
       "  ['NEW STORY: Employers Weigh Coronavirus Vaccine Requirements\\n*\\n*\\n\"Certainly mandates can have their place, but they must be used judiciously,\" Moore said. \"They\\'re not the first tool that we implement when it comes to a new vaccine.\"']),\n",
       " (0.13446342409059145,\n",
       "  ['NEW STORY: Employers Weigh Coronavirus Vaccine Requirements\\n*\\n*\\n\"Certainly mandates can have their place, but they must be used judiciously,\" Moore said. \"They\\'re not the first tool that we implement when it comes to a new vaccine.\"']),\n",
       " (0.13446342409059145,\n",
       "  ['NEW STORY: Employers Weigh Coronavirus Vaccine Requirements\\n*\\n*\\n\"Certainly mandates can have their place, but they must be used judiciously,\" Moore said. \"They\\'re not the first tool that we implement when it comes to a new vaccine.\"']),\n",
       " (0.12137766716482958,\n",
       "  [\"In a year of unknowns, some things remain tried and true. Like flu shots. This year, more than any other in recent memory, it's especially important to get vaccinated. \\n\\nIn the 2018-19 flu season, about 49% of Americans received a flu vaccine, averting an estimated 4.4 million illnesses, 58,000 hospitalizations, and 3,500 deaths, according to the CDC. Getting vaccinated isn't just a personal good; it's a public one as well.\\n\\nWith #COVID19 still spreading through our communities, health experts say a flu shot now can prevent hospitals being overwhelmed and testing resources being strained.\"]),\n",
       " (0.12137766716482958,\n",
       "  [\"In a year of unknowns, some things remain tried and true. Like flu shots. This year, more than any other in recent memory, it's especially important to get vaccinated. \\n\\nIn the 2018-19 flu season, about 49% of Americans received a flu vaccine, averting an estimated 4.4 million illnesses, 58,000 hospitalizations, and 3,500 deaths, according to the CDC. Getting vaccinated isn't just a personal good; it's a public one as well.\\n\\nWith #COVID19 still spreading through our communities, health experts say a flu shot now can prevent hospitals being overwhelmed and testing resources being strained.\"]),\n",
       " (0.12137766716482958,\n",
       "  [\"In a year of unknowns, some things remain tried and true. Like flu shots. This year, more than any other in recent memory, it's especially important to get vaccinated. \\n\\nIn the 2018-19 flu season, about 49% of Americans received a flu vaccine, averting an estimated 4.4 million illnesses, 58,000 hospitalizations, and 3,500 deaths, according to the CDC. Getting vaccinated isn't just a personal good; it's a public one as well.\\n\\nWith #COVID19 still spreading through our communities, health experts say a flu shot now can prevent hospitals being overwhelmed and testing resources being strained.\"])]"
      ]
     },
     "execution_count": 25,
     "metadata": {},
     "output_type": "execute_result"
    }
   ],
   "source": [
    "similarities[:10]"
   ]
  }
 ],
 "metadata": {
  "interpreter": {
   "hash": "8dd86752c2542c7669fcedc44e69ed967da7c5dfbd27e2a8abfd5bd85116076e"
  },
  "kernelspec": {
   "display_name": "Python 3 (ipykernel)",
   "language": "python",
   "name": "python3"
  },
  "language_info": {
   "codemirror_mode": {
    "name": "ipython",
    "version": 3
   },
   "file_extension": ".py",
   "mimetype": "text/x-python",
   "name": "python",
   "nbconvert_exporter": "python",
   "pygments_lexer": "ipython3",
   "version": "3.9.7"
  }
 },
 "nbformat": 4,
 "nbformat_minor": 5
}
