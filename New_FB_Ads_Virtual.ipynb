{
 "cells": [
  {
   "cell_type": "code",
   "execution_count": 1,
   "id": "b46a2d2f",
   "metadata": {},
   "outputs": [
    {
     "name": "stderr",
     "output_type": "stream",
     "text": [
      "/Users/emilychen/opt/anaconda3/envs/fbads/lib/python3.7/site-packages/tqdm/auto.py:22: TqdmWarning: IProgress not found. Please update jupyter and ipywidgets. See https://ipywidgets.readthedocs.io/en/stable/user_install.html\n",
      "  from .autonotebook import tqdm as notebook_tqdm\n"
     ]
    }
   ],
   "source": [
    "from transformers import pipeline\n",
    "import pickle\n",
    "import json\n",
    "import pandas as pd\n",
    "import ast\n",
    "\n",
    "\n",
    "import tensorflow as tf\n",
    "import tensorflow_hub as hub\n",
    "#import tensorflow_text as text"
   ]
  },
  {
   "cell_type": "code",
   "execution_count": 2,
   "id": "0f6c70da",
   "metadata": {},
   "outputs": [],
   "source": [
    "import requests\n",
    "from bs4 import BeautifulSoup\n",
    "import re"
   ]
  },
  {
   "cell_type": "code",
   "execution_count": null,
   "id": "870d3311",
   "metadata": {},
   "outputs": [],
   "source": []
  },
  {
   "cell_type": "markdown",
   "id": "ca450878",
   "metadata": {},
   "source": [
    "## Election Ads"
   ]
  },
  {
   "cell_type": "code",
   "execution_count": 3,
   "id": "996b26f5",
   "metadata": {},
   "outputs": [
    {
     "data": {
      "text/html": [
       "<div>\n",
       "<style scoped>\n",
       "    .dataframe tbody tr th:only-of-type {\n",
       "        vertical-align: middle;\n",
       "    }\n",
       "\n",
       "    .dataframe tbody tr th {\n",
       "        vertical-align: top;\n",
       "    }\n",
       "\n",
       "    .dataframe thead th {\n",
       "        text-align: right;\n",
       "    }\n",
       "</style>\n",
       "<table border=\"1\" class=\"dataframe\">\n",
       "  <thead>\n",
       "    <tr style=\"text-align: right;\">\n",
       "      <th></th>\n",
       "      <th>Unnamed: 0</th>\n",
       "      <th>ad_creative_bodies</th>\n",
       "      <th>demographic_distribution</th>\n",
       "      <th>delivery_by_region</th>\n",
       "      <th>estimated_audience_size</th>\n",
       "      <th>spend</th>\n",
       "      <th>impressions</th>\n",
       "      <th>cumulative_impressions_by_region</th>\n",
       "      <th>cum_spend</th>\n",
       "    </tr>\n",
       "  </thead>\n",
       "  <tbody>\n",
       "    <tr>\n",
       "      <th>0</th>\n",
       "      <td>0</td>\n",
       "      <td></td>\n",
       "      <td>[[{'percentage': '0.000876', 'age': '45-54', '...</td>\n",
       "      <td>[[{'percentage': '1', 'region': 'New York'}], ...</td>\n",
       "      <td>[{'lower_bound': '10001', 'upper_bound': '5000...</td>\n",
       "      <td>[{'lower_bound': '300', 'upper_bound': '399'},...</td>\n",
       "      <td>[{'lower_bound': '8000', 'upper_bound': '8999'...</td>\n",
       "      <td>{'New York': 28498.5, 'Georgia': 7999.0, 'Conn...</td>\n",
       "      <td>1347.5</td>\n",
       "    </tr>\n",
       "    <tr>\n",
       "      <th>1</th>\n",
       "      <td>1</td>\n",
       "      <td>!!!The government cannot fight CORRUPTION - th...</td>\n",
       "      <td>[[{'percentage': '0.000933', 'age': '18-24', '...</td>\n",
       "      <td>[[{'percentage': '0.00185', 'region': 'Rhode I...</td>\n",
       "      <td>[{'lower_bound': '1000001'}]</td>\n",
       "      <td>[{'lower_bound': '0', 'upper_bound': '99'}]</td>\n",
       "      <td>[{'lower_bound': '1000', 'upper_bound': '1999'}]</td>\n",
       "      <td>{'Rhode Island': 1499.5, 'New York': 1499.5, '...</td>\n",
       "      <td>49.5</td>\n",
       "    </tr>\n",
       "    <tr>\n",
       "      <th>2</th>\n",
       "      <td>2</td>\n",
       "      <td>!!🚨Endorsement Alert🚨!! \\n\\nThank you Byron Po...</td>\n",
       "      <td>[[{'percentage': '0.004039', 'age': '65+', 'ge...</td>\n",
       "      <td>[[{'percentage': '0.002281', 'region': 'Unknow...</td>\n",
       "      <td>[{'lower_bound': '100001', 'upper_bound': '500...</td>\n",
       "      <td>[{'lower_bound': '100', 'upper_bound': '199'}]</td>\n",
       "      <td>[{'lower_bound': '2000', 'upper_bound': '2999'}]</td>\n",
       "      <td>{'Unknown': 2499.5, 'New Mexico': 2499.5}</td>\n",
       "      <td>149.5</td>\n",
       "    </tr>\n",
       "    <tr>\n",
       "      <th>3</th>\n",
       "      <td>3</td>\n",
       "      <td>\" An astute CPA told me 45 years ago, Math nev...</td>\n",
       "      <td>[[{'percentage': '0.00112', 'age': '18-24', 'g...</td>\n",
       "      <td>[[{'percentage': '1', 'region': 'Ohio'}], [{'p...</td>\n",
       "      <td>[{'lower_bound': '100001', 'upper_bound': '500...</td>\n",
       "      <td>[{'lower_bound': '0', 'upper_bound': '99'}, {'...</td>\n",
       "      <td>[{'lower_bound': '2000', 'upper_bound': '2999'...</td>\n",
       "      <td>{'Ohio': 5999.0}</td>\n",
       "      <td>99.0</td>\n",
       "    </tr>\n",
       "    <tr>\n",
       "      <th>4</th>\n",
       "      <td>4</td>\n",
       "      <td>\"....Framingham should not go back to the ways...</td>\n",
       "      <td>[[{'percentage': '0.004255', 'age': '45-54', '...</td>\n",
       "      <td>[[{'percentage': '1', 'region': 'Massachusetts...</td>\n",
       "      <td>[{'lower_bound': '50001', 'upper_bound': '1000...</td>\n",
       "      <td>[{'lower_bound': '0', 'upper_bound': '99'}, {'...</td>\n",
       "      <td>[{'lower_bound': '0', 'upper_bound': '999'}, {...</td>\n",
       "      <td>{'Massachusetts': 999.0, 'Connecticut': 499.5,...</td>\n",
       "      <td>99.0</td>\n",
       "    </tr>\n",
       "  </tbody>\n",
       "</table>\n",
       "</div>"
      ],
      "text/plain": [
       "   Unnamed: 0                                 ad_creative_bodies  \\\n",
       "0           0                                                      \n",
       "1           1  !!!The government cannot fight CORRUPTION - th...   \n",
       "2           2  !!🚨Endorsement Alert🚨!! \\n\\nThank you Byron Po...   \n",
       "3           3  \" An astute CPA told me 45 years ago, Math nev...   \n",
       "4           4  \"....Framingham should not go back to the ways...   \n",
       "\n",
       "                            demographic_distribution  \\\n",
       "0  [[{'percentage': '0.000876', 'age': '45-54', '...   \n",
       "1  [[{'percentage': '0.000933', 'age': '18-24', '...   \n",
       "2  [[{'percentage': '0.004039', 'age': '65+', 'ge...   \n",
       "3  [[{'percentage': '0.00112', 'age': '18-24', 'g...   \n",
       "4  [[{'percentage': '0.004255', 'age': '45-54', '...   \n",
       "\n",
       "                                  delivery_by_region  \\\n",
       "0  [[{'percentage': '1', 'region': 'New York'}], ...   \n",
       "1  [[{'percentage': '0.00185', 'region': 'Rhode I...   \n",
       "2  [[{'percentage': '0.002281', 'region': 'Unknow...   \n",
       "3  [[{'percentage': '1', 'region': 'Ohio'}], [{'p...   \n",
       "4  [[{'percentage': '1', 'region': 'Massachusetts...   \n",
       "\n",
       "                             estimated_audience_size  \\\n",
       "0  [{'lower_bound': '10001', 'upper_bound': '5000...   \n",
       "1                       [{'lower_bound': '1000001'}]   \n",
       "2  [{'lower_bound': '100001', 'upper_bound': '500...   \n",
       "3  [{'lower_bound': '100001', 'upper_bound': '500...   \n",
       "4  [{'lower_bound': '50001', 'upper_bound': '1000...   \n",
       "\n",
       "                                               spend  \\\n",
       "0  [{'lower_bound': '300', 'upper_bound': '399'},...   \n",
       "1        [{'lower_bound': '0', 'upper_bound': '99'}]   \n",
       "2     [{'lower_bound': '100', 'upper_bound': '199'}]   \n",
       "3  [{'lower_bound': '0', 'upper_bound': '99'}, {'...   \n",
       "4  [{'lower_bound': '0', 'upper_bound': '99'}, {'...   \n",
       "\n",
       "                                         impressions  \\\n",
       "0  [{'lower_bound': '8000', 'upper_bound': '8999'...   \n",
       "1   [{'lower_bound': '1000', 'upper_bound': '1999'}]   \n",
       "2   [{'lower_bound': '2000', 'upper_bound': '2999'}]   \n",
       "3  [{'lower_bound': '2000', 'upper_bound': '2999'...   \n",
       "4  [{'lower_bound': '0', 'upper_bound': '999'}, {...   \n",
       "\n",
       "                    cumulative_impressions_by_region  cum_spend  \n",
       "0  {'New York': 28498.5, 'Georgia': 7999.0, 'Conn...     1347.5  \n",
       "1  {'Rhode Island': 1499.5, 'New York': 1499.5, '...       49.5  \n",
       "2          {'Unknown': 2499.5, 'New Mexico': 2499.5}      149.5  \n",
       "3                                   {'Ohio': 5999.0}       99.0  \n",
       "4  {'Massachusetts': 999.0, 'Connecticut': 499.5,...       99.0  "
      ]
     },
     "execution_count": 3,
     "metadata": {},
     "output_type": "execute_result"
    }
   ],
   "source": [
    "new_df = pd.read_csv('emily.csv.crdownload')\n",
    "new_df.head()"
   ]
  },
  {
   "cell_type": "markdown",
   "id": "c72bc5d3",
   "metadata": {},
   "source": [
    "## Sentiment Analysis"
   ]
  },
  {
   "cell_type": "code",
   "execution_count": 4,
   "id": "e09d6a27",
   "metadata": {},
   "outputs": [],
   "source": [
    "def find_label(x):\n",
    "    for class_dict in classifier(x[:512]):\n",
    "        return(class_dict['label'])"
   ]
  },
  {
   "cell_type": "code",
   "execution_count": 5,
   "id": "3b2cc8ae",
   "metadata": {},
   "outputs": [
    {
     "name": "stderr",
     "output_type": "stream",
     "text": [
      "No model was supplied, defaulted to distilbert-base-uncased-finetuned-sst-2-english (https://huggingface.co/distilbert-base-uncased-finetuned-sst-2-english)\n",
      "2022-04-26 02:02:23.909009: I tensorflow/core/platform/cpu_feature_guard.cc:142] This TensorFlow binary is optimized with oneAPI Deep Neural Network Library (oneDNN)to use the following CPU instructions in performance-critical operations:  AVX2 FMA\n",
      "To enable them in other operations, rebuild TensorFlow with the appropriate compiler flags.\n",
      "2022-04-26 02:02:23.967025: I tensorflow/compiler/xla/service/service.cc:168] XLA service 0x7f79eec45b60 initialized for platform Host (this does not guarantee that XLA will be used). Devices:\n",
      "2022-04-26 02:02:23.967047: I tensorflow/compiler/xla/service/service.cc:176]   StreamExecutor device (0): Host, Default Version\n",
      "2022-04-26 02:02:24.000346: W tensorflow/python/util/util.cc:348] Sets are not currently considered sequences, but this may change in the future, so consider avoiding using them.\n",
      "All model checkpoint layers were used when initializing TFDistilBertForSequenceClassification.\n",
      "\n",
      "All the layers of TFDistilBertForSequenceClassification were initialized from the model checkpoint at distilbert-base-uncased-finetuned-sst-2-english.\n",
      "If your task is similar to the task the model of the checkpoint was trained on, you can already use TFDistilBertForSequenceClassification for predictions without further training.\n"
     ]
    }
   ],
   "source": [
    "classifier = pipeline(\"sentiment-analysis\")"
   ]
  },
  {
   "cell_type": "code",
   "execution_count": 6,
   "id": "fa122755",
   "metadata": {},
   "outputs": [
    {
     "data": {
      "text/html": [
       "<div>\n",
       "<style scoped>\n",
       "    .dataframe tbody tr th:only-of-type {\n",
       "        vertical-align: middle;\n",
       "    }\n",
       "\n",
       "    .dataframe tbody tr th {\n",
       "        vertical-align: top;\n",
       "    }\n",
       "\n",
       "    .dataframe thead th {\n",
       "        text-align: right;\n",
       "    }\n",
       "</style>\n",
       "<table border=\"1\" class=\"dataframe\">\n",
       "  <thead>\n",
       "    <tr style=\"text-align: right;\">\n",
       "      <th></th>\n",
       "      <th>Unnamed: 0</th>\n",
       "      <th>ad_creative_bodies</th>\n",
       "      <th>demographic_distribution</th>\n",
       "      <th>delivery_by_region</th>\n",
       "      <th>estimated_audience_size</th>\n",
       "      <th>spend</th>\n",
       "      <th>impressions</th>\n",
       "      <th>cumulative_impressions_by_region</th>\n",
       "      <th>cum_spend</th>\n",
       "      <th>sentiment</th>\n",
       "    </tr>\n",
       "  </thead>\n",
       "  <tbody>\n",
       "    <tr>\n",
       "      <th>0</th>\n",
       "      <td>0</td>\n",
       "      <td></td>\n",
       "      <td>[[{'percentage': '0.000876', 'age': '45-54', '...</td>\n",
       "      <td>[[{'percentage': '1', 'region': 'New York'}], ...</td>\n",
       "      <td>[{'lower_bound': '10001', 'upper_bound': '5000...</td>\n",
       "      <td>[{'lower_bound': '300', 'upper_bound': '399'},...</td>\n",
       "      <td>[{'lower_bound': '8000', 'upper_bound': '8999'...</td>\n",
       "      <td>{'New York': 28498.5, 'Georgia': 7999.0, 'Conn...</td>\n",
       "      <td>1347.5</td>\n",
       "      <td>POSITIVE</td>\n",
       "    </tr>\n",
       "    <tr>\n",
       "      <th>1</th>\n",
       "      <td>1</td>\n",
       "      <td>!!!The government cannot fight CORRUPTION - th...</td>\n",
       "      <td>[[{'percentage': '0.000933', 'age': '18-24', '...</td>\n",
       "      <td>[[{'percentage': '0.00185', 'region': 'Rhode I...</td>\n",
       "      <td>[{'lower_bound': '1000001'}]</td>\n",
       "      <td>[{'lower_bound': '0', 'upper_bound': '99'}]</td>\n",
       "      <td>[{'lower_bound': '1000', 'upper_bound': '1999'}]</td>\n",
       "      <td>{'Rhode Island': 1499.5, 'New York': 1499.5, '...</td>\n",
       "      <td>49.5</td>\n",
       "      <td>NEGATIVE</td>\n",
       "    </tr>\n",
       "    <tr>\n",
       "      <th>2</th>\n",
       "      <td>2</td>\n",
       "      <td>!!🚨Endorsement Alert🚨!! \\n\\nThank you Byron Po...</td>\n",
       "      <td>[[{'percentage': '0.004039', 'age': '65+', 'ge...</td>\n",
       "      <td>[[{'percentage': '0.002281', 'region': 'Unknow...</td>\n",
       "      <td>[{'lower_bound': '100001', 'upper_bound': '500...</td>\n",
       "      <td>[{'lower_bound': '100', 'upper_bound': '199'}]</td>\n",
       "      <td>[{'lower_bound': '2000', 'upper_bound': '2999'}]</td>\n",
       "      <td>{'Unknown': 2499.5, 'New Mexico': 2499.5}</td>\n",
       "      <td>149.5</td>\n",
       "      <td>POSITIVE</td>\n",
       "    </tr>\n",
       "    <tr>\n",
       "      <th>3</th>\n",
       "      <td>3</td>\n",
       "      <td>\" An astute CPA told me 45 years ago, Math nev...</td>\n",
       "      <td>[[{'percentage': '0.00112', 'age': '18-24', 'g...</td>\n",
       "      <td>[[{'percentage': '1', 'region': 'Ohio'}], [{'p...</td>\n",
       "      <td>[{'lower_bound': '100001', 'upper_bound': '500...</td>\n",
       "      <td>[{'lower_bound': '0', 'upper_bound': '99'}, {'...</td>\n",
       "      <td>[{'lower_bound': '2000', 'upper_bound': '2999'...</td>\n",
       "      <td>{'Ohio': 5999.0}</td>\n",
       "      <td>99.0</td>\n",
       "      <td>POSITIVE</td>\n",
       "    </tr>\n",
       "    <tr>\n",
       "      <th>4</th>\n",
       "      <td>4</td>\n",
       "      <td>\"....Framingham should not go back to the ways...</td>\n",
       "      <td>[[{'percentage': '0.004255', 'age': '45-54', '...</td>\n",
       "      <td>[[{'percentage': '1', 'region': 'Massachusetts...</td>\n",
       "      <td>[{'lower_bound': '50001', 'upper_bound': '1000...</td>\n",
       "      <td>[{'lower_bound': '0', 'upper_bound': '99'}, {'...</td>\n",
       "      <td>[{'lower_bound': '0', 'upper_bound': '999'}, {...</td>\n",
       "      <td>{'Massachusetts': 999.0, 'Connecticut': 499.5,...</td>\n",
       "      <td>99.0</td>\n",
       "      <td>POSITIVE</td>\n",
       "    </tr>\n",
       "  </tbody>\n",
       "</table>\n",
       "</div>"
      ],
      "text/plain": [
       "   Unnamed: 0                                 ad_creative_bodies  \\\n",
       "0           0                                                      \n",
       "1           1  !!!The government cannot fight CORRUPTION - th...   \n",
       "2           2  !!🚨Endorsement Alert🚨!! \\n\\nThank you Byron Po...   \n",
       "3           3  \" An astute CPA told me 45 years ago, Math nev...   \n",
       "4           4  \"....Framingham should not go back to the ways...   \n",
       "\n",
       "                            demographic_distribution  \\\n",
       "0  [[{'percentage': '0.000876', 'age': '45-54', '...   \n",
       "1  [[{'percentage': '0.000933', 'age': '18-24', '...   \n",
       "2  [[{'percentage': '0.004039', 'age': '65+', 'ge...   \n",
       "3  [[{'percentage': '0.00112', 'age': '18-24', 'g...   \n",
       "4  [[{'percentage': '0.004255', 'age': '45-54', '...   \n",
       "\n",
       "                                  delivery_by_region  \\\n",
       "0  [[{'percentage': '1', 'region': 'New York'}], ...   \n",
       "1  [[{'percentage': '0.00185', 'region': 'Rhode I...   \n",
       "2  [[{'percentage': '0.002281', 'region': 'Unknow...   \n",
       "3  [[{'percentage': '1', 'region': 'Ohio'}], [{'p...   \n",
       "4  [[{'percentage': '1', 'region': 'Massachusetts...   \n",
       "\n",
       "                             estimated_audience_size  \\\n",
       "0  [{'lower_bound': '10001', 'upper_bound': '5000...   \n",
       "1                       [{'lower_bound': '1000001'}]   \n",
       "2  [{'lower_bound': '100001', 'upper_bound': '500...   \n",
       "3  [{'lower_bound': '100001', 'upper_bound': '500...   \n",
       "4  [{'lower_bound': '50001', 'upper_bound': '1000...   \n",
       "\n",
       "                                               spend  \\\n",
       "0  [{'lower_bound': '300', 'upper_bound': '399'},...   \n",
       "1        [{'lower_bound': '0', 'upper_bound': '99'}]   \n",
       "2     [{'lower_bound': '100', 'upper_bound': '199'}]   \n",
       "3  [{'lower_bound': '0', 'upper_bound': '99'}, {'...   \n",
       "4  [{'lower_bound': '0', 'upper_bound': '99'}, {'...   \n",
       "\n",
       "                                         impressions  \\\n",
       "0  [{'lower_bound': '8000', 'upper_bound': '8999'...   \n",
       "1   [{'lower_bound': '1000', 'upper_bound': '1999'}]   \n",
       "2   [{'lower_bound': '2000', 'upper_bound': '2999'}]   \n",
       "3  [{'lower_bound': '2000', 'upper_bound': '2999'...   \n",
       "4  [{'lower_bound': '0', 'upper_bound': '999'}, {...   \n",
       "\n",
       "                    cumulative_impressions_by_region  cum_spend sentiment  \n",
       "0  {'New York': 28498.5, 'Georgia': 7999.0, 'Conn...     1347.5  POSITIVE  \n",
       "1  {'Rhode Island': 1499.5, 'New York': 1499.5, '...       49.5  NEGATIVE  \n",
       "2          {'Unknown': 2499.5, 'New Mexico': 2499.5}      149.5  POSITIVE  \n",
       "3                                   {'Ohio': 5999.0}       99.0  POSITIVE  \n",
       "4  {'Massachusetts': 999.0, 'Connecticut': 499.5,...       99.0  POSITIVE  "
      ]
     },
     "execution_count": 6,
     "metadata": {},
     "output_type": "execute_result"
    }
   ],
   "source": [
    "new_df['sentiment'] = new_df.get('ad_creative_bodies').apply(find_label)"
   ]
  },
  {
   "cell_type": "code",
   "execution_count": 8,
   "id": "22f0d652",
   "metadata": {},
   "outputs": [],
   "source": [
    "new_df['cumulative_impressions_by_region'] = new_df['cumulative_impressions_by_region'].apply(ast.literal_eval)"
   ]
  },
  {
   "cell_type": "code",
   "execution_count": 9,
   "id": "63faa675",
   "metadata": {},
   "outputs": [
    {
     "data": {
      "text/html": [
       "<div>\n",
       "<style scoped>\n",
       "    .dataframe tbody tr th:only-of-type {\n",
       "        vertical-align: middle;\n",
       "    }\n",
       "\n",
       "    .dataframe tbody tr th {\n",
       "        vertical-align: top;\n",
       "    }\n",
       "\n",
       "    .dataframe thead th {\n",
       "        text-align: right;\n",
       "    }\n",
       "</style>\n",
       "<table border=\"1\" class=\"dataframe\">\n",
       "  <thead>\n",
       "    <tr style=\"text-align: right;\">\n",
       "      <th></th>\n",
       "      <th>Unnamed: 0</th>\n",
       "      <th>ad_creative_bodies</th>\n",
       "      <th>demographic_distribution</th>\n",
       "      <th>delivery_by_region</th>\n",
       "      <th>estimated_audience_size</th>\n",
       "      <th>spend</th>\n",
       "      <th>impressions</th>\n",
       "      <th>cumulative_impressions_by_region</th>\n",
       "      <th>cum_spend</th>\n",
       "      <th>sentiment</th>\n",
       "    </tr>\n",
       "  </thead>\n",
       "  <tbody>\n",
       "    <tr>\n",
       "      <th>0</th>\n",
       "      <td>0</td>\n",
       "      <td></td>\n",
       "      <td>[[{'percentage': '0.000876', 'age': '45-54', '...</td>\n",
       "      <td>[[{'percentage': '1', 'region': 'New York'}], ...</td>\n",
       "      <td>[{'lower_bound': '10001', 'upper_bound': '5000...</td>\n",
       "      <td>[{'lower_bound': '300', 'upper_bound': '399'},...</td>\n",
       "      <td>[{'lower_bound': '8000', 'upper_bound': '8999'...</td>\n",
       "      <td>{'New York': 28498.5, 'Georgia': 7999.0, 'Conn...</td>\n",
       "      <td>1347.5</td>\n",
       "      <td>POSITIVE</td>\n",
       "    </tr>\n",
       "    <tr>\n",
       "      <th>1</th>\n",
       "      <td>1</td>\n",
       "      <td>!!!The government cannot fight CORRUPTION - th...</td>\n",
       "      <td>[[{'percentage': '0.000933', 'age': '18-24', '...</td>\n",
       "      <td>[[{'percentage': '0.00185', 'region': 'Rhode I...</td>\n",
       "      <td>[{'lower_bound': '1000001'}]</td>\n",
       "      <td>[{'lower_bound': '0', 'upper_bound': '99'}]</td>\n",
       "      <td>[{'lower_bound': '1000', 'upper_bound': '1999'}]</td>\n",
       "      <td>{'Rhode Island': 1499.5, 'New York': 1499.5, '...</td>\n",
       "      <td>49.5</td>\n",
       "      <td>NEGATIVE</td>\n",
       "    </tr>\n",
       "    <tr>\n",
       "      <th>2</th>\n",
       "      <td>2</td>\n",
       "      <td>!!🚨Endorsement Alert🚨!! \\n\\nThank you Byron Po...</td>\n",
       "      <td>[[{'percentage': '0.004039', 'age': '65+', 'ge...</td>\n",
       "      <td>[[{'percentage': '0.002281', 'region': 'Unknow...</td>\n",
       "      <td>[{'lower_bound': '100001', 'upper_bound': '500...</td>\n",
       "      <td>[{'lower_bound': '100', 'upper_bound': '199'}]</td>\n",
       "      <td>[{'lower_bound': '2000', 'upper_bound': '2999'}]</td>\n",
       "      <td>{'Unknown': 2499.5, 'New Mexico': 2499.5}</td>\n",
       "      <td>149.5</td>\n",
       "      <td>POSITIVE</td>\n",
       "    </tr>\n",
       "    <tr>\n",
       "      <th>3</th>\n",
       "      <td>3</td>\n",
       "      <td>\" An astute CPA told me 45 years ago, Math nev...</td>\n",
       "      <td>[[{'percentage': '0.00112', 'age': '18-24', 'g...</td>\n",
       "      <td>[[{'percentage': '1', 'region': 'Ohio'}], [{'p...</td>\n",
       "      <td>[{'lower_bound': '100001', 'upper_bound': '500...</td>\n",
       "      <td>[{'lower_bound': '0', 'upper_bound': '99'}, {'...</td>\n",
       "      <td>[{'lower_bound': '2000', 'upper_bound': '2999'...</td>\n",
       "      <td>{'Ohio': 5999.0}</td>\n",
       "      <td>99.0</td>\n",
       "      <td>POSITIVE</td>\n",
       "    </tr>\n",
       "    <tr>\n",
       "      <th>4</th>\n",
       "      <td>4</td>\n",
       "      <td>\"....Framingham should not go back to the ways...</td>\n",
       "      <td>[[{'percentage': '0.004255', 'age': '45-54', '...</td>\n",
       "      <td>[[{'percentage': '1', 'region': 'Massachusetts...</td>\n",
       "      <td>[{'lower_bound': '50001', 'upper_bound': '1000...</td>\n",
       "      <td>[{'lower_bound': '0', 'upper_bound': '99'}, {'...</td>\n",
       "      <td>[{'lower_bound': '0', 'upper_bound': '999'}, {...</td>\n",
       "      <td>{'Massachusetts': 999.0, 'Connecticut': 499.5,...</td>\n",
       "      <td>99.0</td>\n",
       "      <td>POSITIVE</td>\n",
       "    </tr>\n",
       "  </tbody>\n",
       "</table>\n",
       "</div>"
      ],
      "text/plain": [
       "   Unnamed: 0                                 ad_creative_bodies  \\\n",
       "0           0                                                      \n",
       "1           1  !!!The government cannot fight CORRUPTION - th...   \n",
       "2           2  !!🚨Endorsement Alert🚨!! \\n\\nThank you Byron Po...   \n",
       "3           3  \" An astute CPA told me 45 years ago, Math nev...   \n",
       "4           4  \"....Framingham should not go back to the ways...   \n",
       "\n",
       "                            demographic_distribution  \\\n",
       "0  [[{'percentage': '0.000876', 'age': '45-54', '...   \n",
       "1  [[{'percentage': '0.000933', 'age': '18-24', '...   \n",
       "2  [[{'percentage': '0.004039', 'age': '65+', 'ge...   \n",
       "3  [[{'percentage': '0.00112', 'age': '18-24', 'g...   \n",
       "4  [[{'percentage': '0.004255', 'age': '45-54', '...   \n",
       "\n",
       "                                  delivery_by_region  \\\n",
       "0  [[{'percentage': '1', 'region': 'New York'}], ...   \n",
       "1  [[{'percentage': '0.00185', 'region': 'Rhode I...   \n",
       "2  [[{'percentage': '0.002281', 'region': 'Unknow...   \n",
       "3  [[{'percentage': '1', 'region': 'Ohio'}], [{'p...   \n",
       "4  [[{'percentage': '1', 'region': 'Massachusetts...   \n",
       "\n",
       "                             estimated_audience_size  \\\n",
       "0  [{'lower_bound': '10001', 'upper_bound': '5000...   \n",
       "1                       [{'lower_bound': '1000001'}]   \n",
       "2  [{'lower_bound': '100001', 'upper_bound': '500...   \n",
       "3  [{'lower_bound': '100001', 'upper_bound': '500...   \n",
       "4  [{'lower_bound': '50001', 'upper_bound': '1000...   \n",
       "\n",
       "                                               spend  \\\n",
       "0  [{'lower_bound': '300', 'upper_bound': '399'},...   \n",
       "1        [{'lower_bound': '0', 'upper_bound': '99'}]   \n",
       "2     [{'lower_bound': '100', 'upper_bound': '199'}]   \n",
       "3  [{'lower_bound': '0', 'upper_bound': '99'}, {'...   \n",
       "4  [{'lower_bound': '0', 'upper_bound': '99'}, {'...   \n",
       "\n",
       "                                         impressions  \\\n",
       "0  [{'lower_bound': '8000', 'upper_bound': '8999'...   \n",
       "1   [{'lower_bound': '1000', 'upper_bound': '1999'}]   \n",
       "2   [{'lower_bound': '2000', 'upper_bound': '2999'}]   \n",
       "3  [{'lower_bound': '2000', 'upper_bound': '2999'...   \n",
       "4  [{'lower_bound': '0', 'upper_bound': '999'}, {...   \n",
       "\n",
       "                    cumulative_impressions_by_region  cum_spend sentiment  \n",
       "0  {'New York': 28498.5, 'Georgia': 7999.0, 'Conn...     1347.5  POSITIVE  \n",
       "1  {'Rhode Island': 1499.5, 'New York': 1499.5, '...       49.5  NEGATIVE  \n",
       "2          {'Unknown': 2499.5, 'New Mexico': 2499.5}      149.5  POSITIVE  \n",
       "3                                   {'Ohio': 5999.0}       99.0  POSITIVE  \n",
       "4  {'Massachusetts': 999.0, 'Connecticut': 499.5,...       99.0  POSITIVE  "
      ]
     },
     "execution_count": 9,
     "metadata": {},
     "output_type": "execute_result"
    }
   ],
   "source": [
    "new_df.head()"
   ]
  },
  {
   "cell_type": "markdown",
   "id": "33c73ac4",
   "metadata": {},
   "source": [
    "# Visualizing Positive Election Ads"
   ]
  },
  {
   "cell_type": "code",
   "execution_count": 57,
   "id": "4b7c5fed",
   "metadata": {},
   "outputs": [],
   "source": [
    "us_states = ['Alabama', 'Alaska', 'Arizona', 'Arkansas', 'California', 'Colorado', 'Connecticut', 'Washington, District of Columbia', 'Delaware', 'Florida', 'Georgia', 'Hawaii', 'Idaho', 'Illinois', 'Indiana', 'Iowa', 'Kansas', 'Kentucky', 'Louisiana', 'Maine', 'Maryland', 'Massachusetts', 'Michigan', 'Minnesota', 'Mississippi', 'Missouri', 'Montana', 'Nebraska', 'Nevada', 'New Hampshire', 'New Jersey', 'New Mexico', 'New York', 'North Carolina', 'North Dakota', 'Ohio', 'Oklahoma', 'Oregon', 'Pennsylvania', 'Rhode Island', 'South Carolina', 'South Dakota', 'Tennessee', 'Texas', 'Utah', 'Vermont', 'Virginia', 'Washington', 'West Virginia', 'Wisconsin', 'Wyoming']"
   ]
  },
  {
   "cell_type": "code",
   "execution_count": 77,
   "id": "b53e9063",
   "metadata": {},
   "outputs": [
    {
     "name": "stdout",
     "output_type": "stream",
     "text": [
      "11737\n"
     ]
    }
   ],
   "source": [
    "df_list = []\n",
    "for index, row in new_df.iterrows():\n",
    "    curr_dict = row['cumulative_impressions_by_region']\n",
    "    d = pd.DataFrame({'region': curr_dict.keys(), 'impressions': curr_dict.values()})\n",
    "    d['sentiment'] = row['sentiment']\n",
    "    df_list.append(d)\n",
    "print(len(df_list))"
   ]
  },
  {
   "cell_type": "code",
   "execution_count": 78,
   "id": "283342f0",
   "metadata": {},
   "outputs": [
    {
     "data": {
      "text/html": [
       "<div>\n",
       "<style scoped>\n",
       "    .dataframe tbody tr th:only-of-type {\n",
       "        vertical-align: middle;\n",
       "    }\n",
       "\n",
       "    .dataframe tbody tr th {\n",
       "        vertical-align: top;\n",
       "    }\n",
       "\n",
       "    .dataframe thead th {\n",
       "        text-align: right;\n",
       "    }\n",
       "</style>\n",
       "<table border=\"1\" class=\"dataframe\">\n",
       "  <thead>\n",
       "    <tr style=\"text-align: right;\">\n",
       "      <th></th>\n",
       "      <th>region</th>\n",
       "      <th>impressions</th>\n",
       "      <th>sentiment</th>\n",
       "    </tr>\n",
       "  </thead>\n",
       "  <tbody>\n",
       "    <tr>\n",
       "      <th>0</th>\n",
       "      <td>New York</td>\n",
       "      <td>28498.5</td>\n",
       "      <td>POSITIVE</td>\n",
       "    </tr>\n",
       "    <tr>\n",
       "      <th>1</th>\n",
       "      <td>Georgia</td>\n",
       "      <td>7999.0</td>\n",
       "      <td>POSITIVE</td>\n",
       "    </tr>\n",
       "    <tr>\n",
       "      <th>2</th>\n",
       "      <td>Connecticut</td>\n",
       "      <td>74999.5</td>\n",
       "      <td>POSITIVE</td>\n",
       "    </tr>\n",
       "    <tr>\n",
       "      <th>3</th>\n",
       "      <td>Massachusetts</td>\n",
       "      <td>74999.5</td>\n",
       "      <td>POSITIVE</td>\n",
       "    </tr>\n",
       "    <tr>\n",
       "      <th>4</th>\n",
       "      <td>Alaska</td>\n",
       "      <td>2499.5</td>\n",
       "      <td>POSITIVE</td>\n",
       "    </tr>\n",
       "  </tbody>\n",
       "</table>\n",
       "</div>"
      ],
      "text/plain": [
       "          region  impressions sentiment\n",
       "0       New York      28498.5  POSITIVE\n",
       "1        Georgia       7999.0  POSITIVE\n",
       "2    Connecticut      74999.5  POSITIVE\n",
       "3  Massachusetts      74999.5  POSITIVE\n",
       "4         Alaska       2499.5  POSITIVE"
      ]
     },
     "execution_count": 78,
     "metadata": {},
     "output_type": "execute_result"
    }
   ],
   "source": [
    "positive_df = pd.concat(df_list, ignore_index = True)\n",
    "positive_df = positive_df[positive_df['sentiment'] == 'POSITIVE']\n",
    "positive_df.head()"
   ]
  },
  {
   "cell_type": "code",
   "execution_count": 79,
   "id": "cf73e79e",
   "metadata": {},
   "outputs": [
    {
     "data": {
      "text/plain": [
       "(83603, 3)"
      ]
     },
     "execution_count": 79,
     "metadata": {},
     "output_type": "execute_result"
    }
   ],
   "source": [
    "positive_df.shape"
   ]
  },
  {
   "cell_type": "code",
   "execution_count": 80,
   "id": "b2a9905f",
   "metadata": {},
   "outputs": [
    {
     "data": {
      "text/html": [
       "<div>\n",
       "<style scoped>\n",
       "    .dataframe tbody tr th:only-of-type {\n",
       "        vertical-align: middle;\n",
       "    }\n",
       "\n",
       "    .dataframe tbody tr th {\n",
       "        vertical-align: top;\n",
       "    }\n",
       "\n",
       "    .dataframe thead th {\n",
       "        text-align: right;\n",
       "    }\n",
       "</style>\n",
       "<table border=\"1\" class=\"dataframe\">\n",
       "  <thead>\n",
       "    <tr style=\"text-align: right;\">\n",
       "      <th></th>\n",
       "      <th>region</th>\n",
       "      <th>impressions</th>\n",
       "    </tr>\n",
       "  </thead>\n",
       "  <tbody>\n",
       "    <tr>\n",
       "      <th>21</th>\n",
       "      <td>Alabama</td>\n",
       "      <td>46553.555377</td>\n",
       "    </tr>\n",
       "    <tr>\n",
       "      <th>22</th>\n",
       "      <td>Alaska</td>\n",
       "      <td>55148.079359</td>\n",
       "    </tr>\n",
       "    <tr>\n",
       "      <th>42</th>\n",
       "      <td>Arizona</td>\n",
       "      <td>45462.158084</td>\n",
       "    </tr>\n",
       "    <tr>\n",
       "      <th>43</th>\n",
       "      <td>Arkansas</td>\n",
       "      <td>49483.253705</td>\n",
       "    </tr>\n",
       "    <tr>\n",
       "      <th>129</th>\n",
       "      <td>California</td>\n",
       "      <td>43529.148925</td>\n",
       "    </tr>\n",
       "  </tbody>\n",
       "</table>\n",
       "</div>"
      ],
      "text/plain": [
       "         region   impressions\n",
       "21      Alabama  46553.555377\n",
       "22       Alaska  55148.079359\n",
       "42      Arizona  45462.158084\n",
       "43     Arkansas  49483.253705\n",
       "129  California  43529.148925"
      ]
     },
     "execution_count": 80,
     "metadata": {},
     "output_type": "execute_result"
    }
   ],
   "source": [
    "positive_df = positive_df.groupby('region').mean().reset_index()\n",
    "positive_df = positive_df[positive_df.get('region').isin(us_states) == True]\n",
    "positive_df.head()"
   ]
  },
  {
   "cell_type": "code",
   "execution_count": 81,
   "id": "c6bc37d9",
   "metadata": {},
   "outputs": [],
   "source": [
    "positive_df.get('region').iloc[47] = 'District of Columbia'\n",
    "positive_df.sort_values(by = 'region', inplace = True)"
   ]
  },
  {
   "cell_type": "code",
   "execution_count": 82,
   "id": "2c7e4910",
   "metadata": {},
   "outputs": [
    {
     "data": {
      "text/html": [
       "<div>\n",
       "<style scoped>\n",
       "    .dataframe tbody tr th:only-of-type {\n",
       "        vertical-align: middle;\n",
       "    }\n",
       "\n",
       "    .dataframe tbody tr th {\n",
       "        vertical-align: top;\n",
       "    }\n",
       "\n",
       "    .dataframe thead th {\n",
       "        text-align: right;\n",
       "    }\n",
       "</style>\n",
       "<table border=\"1\" class=\"dataframe\">\n",
       "  <thead>\n",
       "    <tr style=\"text-align: right;\">\n",
       "      <th></th>\n",
       "      <th>region</th>\n",
       "      <th>impressions</th>\n",
       "      <th>id</th>\n",
       "    </tr>\n",
       "  </thead>\n",
       "  <tbody>\n",
       "    <tr>\n",
       "      <th>21</th>\n",
       "      <td>Alabama</td>\n",
       "      <td>46553.555377</td>\n",
       "      <td>1</td>\n",
       "    </tr>\n",
       "    <tr>\n",
       "      <th>22</th>\n",
       "      <td>Alaska</td>\n",
       "      <td>55148.079359</td>\n",
       "      <td>2</td>\n",
       "    </tr>\n",
       "    <tr>\n",
       "      <th>42</th>\n",
       "      <td>Arizona</td>\n",
       "      <td>45462.158084</td>\n",
       "      <td>4</td>\n",
       "    </tr>\n",
       "    <tr>\n",
       "      <th>43</th>\n",
       "      <td>Arkansas</td>\n",
       "      <td>49483.253705</td>\n",
       "      <td>5</td>\n",
       "    </tr>\n",
       "    <tr>\n",
       "      <th>129</th>\n",
       "      <td>California</td>\n",
       "      <td>43529.148925</td>\n",
       "      <td>6</td>\n",
       "    </tr>\n",
       "  </tbody>\n",
       "</table>\n",
       "</div>"
      ],
      "text/plain": [
       "         region   impressions  id\n",
       "21      Alabama  46553.555377   1\n",
       "22       Alaska  55148.079359   2\n",
       "42      Arizona  45462.158084   4\n",
       "43     Arkansas  49483.253705   5\n",
       "129  California  43529.148925   6"
      ]
     },
     "execution_count": 82,
     "metadata": {},
     "output_type": "execute_result"
    }
   ],
   "source": [
    "import altair as alt\n",
    "import geopandas as gpd\n",
    "import json\n",
    "from vega_datasets import data\n",
    "pop = data.population_engineers_hurricanes()\n",
    "positive_df['id'] = list(pop.get('id'))[:-1]\n",
    "positive_df.head()"
   ]
  },
  {
   "cell_type": "code",
   "execution_count": 83,
   "id": "70473c7c",
   "metadata": {},
   "outputs": [
    {
     "data": {
      "text/plain": [
       "RendererRegistry.enable('default')"
      ]
     },
     "execution_count": 83,
     "metadata": {},
     "output_type": "execute_result"
    }
   ],
   "source": [
    "alt.renderers.enable('default')"
   ]
  },
  {
   "cell_type": "code",
   "execution_count": 84,
   "id": "3cb442ad",
   "metadata": {},
   "outputs": [
    {
     "data": {
      "text/html": [
       "\n",
       "<div id=\"altair-viz-ee5084169f7045febba4c79193a4f4b8\"></div>\n",
       "<script type=\"text/javascript\">\n",
       "  var VEGA_DEBUG = (typeof VEGA_DEBUG == \"undefined\") ? {} : VEGA_DEBUG;\n",
       "  (function(spec, embedOpt){\n",
       "    let outputDiv = document.currentScript.previousElementSibling;\n",
       "    if (outputDiv.id !== \"altair-viz-ee5084169f7045febba4c79193a4f4b8\") {\n",
       "      outputDiv = document.getElementById(\"altair-viz-ee5084169f7045febba4c79193a4f4b8\");\n",
       "    }\n",
       "    const paths = {\n",
       "      \"vega\": \"https://cdn.jsdelivr.net/npm//vega@5?noext\",\n",
       "      \"vega-lib\": \"https://cdn.jsdelivr.net/npm//vega-lib?noext\",\n",
       "      \"vega-lite\": \"https://cdn.jsdelivr.net/npm//vega-lite@4.17.0?noext\",\n",
       "      \"vega-embed\": \"https://cdn.jsdelivr.net/npm//vega-embed@6?noext\",\n",
       "    };\n",
       "\n",
       "    function maybeLoadScript(lib, version) {\n",
       "      var key = `${lib.replace(\"-\", \"\")}_version`;\n",
       "      return (VEGA_DEBUG[key] == version) ?\n",
       "        Promise.resolve(paths[lib]) :\n",
       "        new Promise(function(resolve, reject) {\n",
       "          var s = document.createElement('script');\n",
       "          document.getElementsByTagName(\"head\")[0].appendChild(s);\n",
       "          s.async = true;\n",
       "          s.onload = () => {\n",
       "            VEGA_DEBUG[key] = version;\n",
       "            return resolve(paths[lib]);\n",
       "          };\n",
       "          s.onerror = () => reject(`Error loading script: ${paths[lib]}`);\n",
       "          s.src = paths[lib];\n",
       "        });\n",
       "    }\n",
       "\n",
       "    function showError(err) {\n",
       "      outputDiv.innerHTML = `<div class=\"error\" style=\"color:red;\">${err}</div>`;\n",
       "      throw err;\n",
       "    }\n",
       "\n",
       "    function displayChart(vegaEmbed) {\n",
       "      vegaEmbed(outputDiv, spec, embedOpt)\n",
       "        .catch(err => showError(`Javascript Error: ${err.message}<br>This usually means there's a typo in your chart specification. See the javascript console for the full traceback.`));\n",
       "    }\n",
       "\n",
       "    if(typeof define === \"function\" && define.amd) {\n",
       "      requirejs.config({paths});\n",
       "      require([\"vega-embed\"], displayChart, err => showError(`Error loading script: ${err.message}`));\n",
       "    } else {\n",
       "      maybeLoadScript(\"vega\", \"5\")\n",
       "        .then(() => maybeLoadScript(\"vega-lite\", \"4.17.0\"))\n",
       "        .then(() => maybeLoadScript(\"vega-embed\", \"6\"))\n",
       "        .catch(showError)\n",
       "        .then(() => displayChart(vegaEmbed));\n",
       "    }\n",
       "  })({\"config\": {\"view\": {\"continuousWidth\": 400, \"continuousHeight\": 300}}, \"data\": {\"url\": \"https://cdn.jsdelivr.net/npm/vega-datasets@v1.29.0/data/us-10m.json\", \"format\": {\"feature\": \"states\", \"type\": \"topojson\"}}, \"mark\": {\"type\": \"geoshape\", \"fill\": \"lightgray\", \"stroke\": \"white\"}, \"height\": 300, \"projection\": {\"type\": \"albersUsa\"}, \"width\": 500, \"$schema\": \"https://vega.github.io/schema/vega-lite/v4.17.0.json\"}, {\"mode\": \"vega-lite\"});\n",
       "</script>"
      ],
      "text/plain": [
       "alt.Chart(...)"
      ]
     },
     "execution_count": 84,
     "metadata": {},
     "output_type": "execute_result"
    }
   ],
   "source": [
    "states = alt.topo_feature(data.us_10m.url, feature='states')\n",
    "\n",
    "alt.Chart(states).mark_geoshape(\n",
    "    fill='lightgray',\n",
    "    stroke='white'\n",
    ").project('albersUsa').properties(\n",
    "    width=500,\n",
    "    height=300\n",
    ")"
   ]
  },
  {
   "cell_type": "code",
   "execution_count": 85,
   "id": "17e836e8",
   "metadata": {},
   "outputs": [
    {
     "data": {
      "text/html": [
       "\n",
       "<div id=\"altair-viz-9c7f2b8d5440434191dd7ff58ebcc6b0\"></div>\n",
       "<script type=\"text/javascript\">\n",
       "  var VEGA_DEBUG = (typeof VEGA_DEBUG == \"undefined\") ? {} : VEGA_DEBUG;\n",
       "  (function(spec, embedOpt){\n",
       "    let outputDiv = document.currentScript.previousElementSibling;\n",
       "    if (outputDiv.id !== \"altair-viz-9c7f2b8d5440434191dd7ff58ebcc6b0\") {\n",
       "      outputDiv = document.getElementById(\"altair-viz-9c7f2b8d5440434191dd7ff58ebcc6b0\");\n",
       "    }\n",
       "    const paths = {\n",
       "      \"vega\": \"https://cdn.jsdelivr.net/npm//vega@5?noext\",\n",
       "      \"vega-lib\": \"https://cdn.jsdelivr.net/npm//vega-lib?noext\",\n",
       "      \"vega-lite\": \"https://cdn.jsdelivr.net/npm//vega-lite@4.17.0?noext\",\n",
       "      \"vega-embed\": \"https://cdn.jsdelivr.net/npm//vega-embed@6?noext\",\n",
       "    };\n",
       "\n",
       "    function maybeLoadScript(lib, version) {\n",
       "      var key = `${lib.replace(\"-\", \"\")}_version`;\n",
       "      return (VEGA_DEBUG[key] == version) ?\n",
       "        Promise.resolve(paths[lib]) :\n",
       "        new Promise(function(resolve, reject) {\n",
       "          var s = document.createElement('script');\n",
       "          document.getElementsByTagName(\"head\")[0].appendChild(s);\n",
       "          s.async = true;\n",
       "          s.onload = () => {\n",
       "            VEGA_DEBUG[key] = version;\n",
       "            return resolve(paths[lib]);\n",
       "          };\n",
       "          s.onerror = () => reject(`Error loading script: ${paths[lib]}`);\n",
       "          s.src = paths[lib];\n",
       "        });\n",
       "    }\n",
       "\n",
       "    function showError(err) {\n",
       "      outputDiv.innerHTML = `<div class=\"error\" style=\"color:red;\">${err}</div>`;\n",
       "      throw err;\n",
       "    }\n",
       "\n",
       "    function displayChart(vegaEmbed) {\n",
       "      vegaEmbed(outputDiv, spec, embedOpt)\n",
       "        .catch(err => showError(`Javascript Error: ${err.message}<br>This usually means there's a typo in your chart specification. See the javascript console for the full traceback.`));\n",
       "    }\n",
       "\n",
       "    if(typeof define === \"function\" && define.amd) {\n",
       "      requirejs.config({paths});\n",
       "      require([\"vega-embed\"], displayChart, err => showError(`Error loading script: ${err.message}`));\n",
       "    } else {\n",
       "      maybeLoadScript(\"vega\", \"5\")\n",
       "        .then(() => maybeLoadScript(\"vega-lite\", \"4.17.0\"))\n",
       "        .then(() => maybeLoadScript(\"vega-embed\", \"6\"))\n",
       "        .catch(showError)\n",
       "        .then(() => displayChart(vegaEmbed));\n",
       "    }\n",
       "  })({\"config\": {\"view\": {\"continuousWidth\": 400, \"continuousHeight\": 300}}, \"layer\": [{\"mark\": \"geoshape\", \"encoding\": {\"color\": {\"field\": \"impressions\", \"type\": \"quantitative\"}}, \"height\": 300, \"projection\": {\"type\": \"albersUsa\"}, \"title\": \"Average Impressions: Positive Election Ads\", \"transform\": [{\"lookup\": \"id\", \"from\": {\"data\": {\"name\": \"data-353ddb65e5174f83d9d164c503db9b7c\"}, \"key\": \"id\", \"fields\": [\"region\", \"impressions\", \"id\"]}}], \"width\": 500}, {\"mark\": {\"type\": \"geoshape\", \"fillOpacity\": 0, \"stroke\": \"black\"}, \"height\": 300, \"projection\": {\"type\": \"albersUsa\"}, \"width\": 500}], \"data\": {\"url\": \"https://cdn.jsdelivr.net/npm/vega-datasets@v1.29.0/data/us-10m.json\", \"format\": {\"feature\": \"states\", \"type\": \"topojson\"}}, \"$schema\": \"https://vega.github.io/schema/vega-lite/v4.17.0.json\", \"datasets\": {\"data-353ddb65e5174f83d9d164c503db9b7c\": [{\"region\": \"Alabama\", \"impressions\": 46553.555376690274, \"id\": 1}, {\"region\": \"Alaska\", \"impressions\": 55148.07935855263, \"id\": 2}, {\"region\": \"Arizona\", \"impressions\": 45462.158083832335, \"id\": 4}, {\"region\": \"Arkansas\", \"impressions\": 49483.25370501059, \"id\": 5}, {\"region\": \"California\", \"impressions\": 43529.14892501311, \"id\": 6}, {\"region\": \"Colorado\", \"impressions\": 41630.28295454545, \"id\": 8}, {\"region\": \"Connecticut\", \"impressions\": 42744.9446290144, \"id\": 9}, {\"region\": \"Delaware\", \"impressions\": 56890.755961844196, \"id\": 10}, {\"region\": \"District of Columbia\", \"impressions\": 53661.97680608365, \"id\": 11}, {\"region\": \"Florida\", \"impressions\": 39983.3017507724, \"id\": 12}, {\"region\": \"Georgia\", \"impressions\": 40041.05635245902, \"id\": 13}, {\"region\": \"Hawaii\", \"impressions\": 53131.44817073171, \"id\": 15}, {\"region\": \"Idaho\", \"impressions\": 48879.09417199716, \"id\": 16}, {\"region\": \"Illinois\", \"impressions\": 44255.20450606586, \"id\": 17}, {\"region\": \"Indiana\", \"impressions\": 45859.73459119497, \"id\": 18}, {\"region\": \"Iowa\", \"impressions\": 47579.6463654224, \"id\": 19}, {\"region\": \"Kansas\", \"impressions\": 46104.725, \"id\": 20}, {\"region\": \"Kentucky\", \"impressions\": 45457.90892077355, \"id\": 21}, {\"region\": \"Louisiana\", \"impressions\": 46895.88664215686, \"id\": 22}, {\"region\": \"Maine\", \"impressions\": 48298.32790858726, \"id\": 23}, {\"region\": \"Maryland\", \"impressions\": 46877.89738251041, \"id\": 24}, {\"region\": \"Massachusetts\", \"impressions\": 39362.29102496017, \"id\": 25}, {\"region\": \"Michigan\", \"impressions\": 43126.00965909091, \"id\": 26}, {\"region\": \"Minnesota\", \"impressions\": 44961.67728107777, \"id\": 27}, {\"region\": \"Mississippi\", \"impressions\": 49978.334517045456, \"id\": 28}, {\"region\": \"Missouri\", \"impressions\": 46345.17131979695, \"id\": 29}, {\"region\": \"Montana\", \"impressions\": 53510.22519685039, \"id\": 30}, {\"region\": \"Nebraska\", \"impressions\": 53198.20327102804, \"id\": 31}, {\"region\": \"Nevada\", \"impressions\": 48995.35403937542, \"id\": 32}, {\"region\": \"New Hampshire\", \"impressions\": 50513.93473684211, \"id\": 33}, {\"region\": \"New Jersey\", \"impressions\": 44571.28096330275, \"id\": 34}, {\"region\": \"New Mexico\", \"impressions\": 46945.781713900134, \"id\": 35}, {\"region\": \"New York\", \"impressions\": 37627.568602540836, \"id\": 36}, {\"region\": \"North Carolina\", \"impressions\": 40271.70586734694, \"id\": 37}, {\"region\": \"North Dakota\", \"impressions\": 60330.16275797373, \"id\": 38}, {\"region\": \"Ohio\", \"impressions\": 38083.28532608696, \"id\": 39}, {\"region\": \"Oklahoma\", \"impressions\": 48376.59910529938, \"id\": 40}, {\"region\": \"Oregon\", \"impressions\": 45863.19381107492, \"id\": 41}, {\"region\": \"Pennsylvania\", \"impressions\": 41499.01539201539, \"id\": 42}, {\"region\": \"Rhode Island\", \"impressions\": 51125.77659574468, \"id\": 44}, {\"region\": \"South Carolina\", \"impressions\": 42980.377998829725, \"id\": 45}, {\"region\": \"South Dakota\", \"impressions\": 58089.061958405546, \"id\": 46}, {\"region\": \"Tennessee\", \"impressions\": 42904.337900874634, \"id\": 47}, {\"region\": \"Texas\", \"impressions\": 39245.219946571684, \"id\": 48}, {\"region\": \"Utah\", \"impressions\": 46299.626249167224, \"id\": 49}, {\"region\": \"Vermont\", \"impressions\": 53692.63698630137, \"id\": 50}, {\"region\": \"Virginia\", \"impressions\": 48986.827533265096, \"id\": 51}, {\"region\": \"Washington\", \"impressions\": 44185.411304870715, \"id\": 53}, {\"region\": \"West Virginia\", \"impressions\": 54293.92943692089, \"id\": 54}, {\"region\": \"Wisconsin\", \"impressions\": 46595.15153412649, \"id\": 55}, {\"region\": \"Wyoming\", \"impressions\": 57823.28113879004, \"id\": 56}]}}, {\"mode\": \"vega-lite\"});\n",
       "</script>"
      ],
      "text/plain": [
       "alt.LayerChart(...)"
      ]
     },
     "execution_count": 85,
     "metadata": {},
     "output_type": "execute_result"
    }
   ],
   "source": [
    "from vega_datasets import data\n",
    "\n",
    "states = alt.topo_feature(data.us_10m.url, 'states')\n",
    "\n",
    "variable_list = ['impressions']\n",
    "\n",
    "# Creating configs for color,selection,hovering\n",
    "hover = alt.selection(type='single', on='mouseover', nearest=True,\n",
    "                      fields=['x', 'y'])\n",
    "\n",
    "plot = alt.Chart(states).mark_geoshape().encode(\n",
    "    color='impressions:Q'\n",
    ").transform_lookup(\n",
    "    lookup='id',\n",
    "    from_=alt.LookupData(positive_df, 'id', list(positive_df.columns))\n",
    ").properties(\n",
    "    width=500,\n",
    "    height=300,\n",
    "    title = 'Average Impressions: Positive Election Ads'\n",
    ").project(\n",
    "    type='albersUsa'\n",
    ")\n",
    "\n",
    "outline = alt.Chart(states).mark_geoshape(stroke='black', fillOpacity=0).project(\n",
    "    type='albersUsa'\n",
    ").properties(\n",
    "    width=500,\n",
    "    height=300\n",
    ")\n",
    "\n",
    "alt.layer(plot,outline)"
   ]
  },
  {
   "cell_type": "markdown",
   "id": "2d45136f",
   "metadata": {},
   "source": [
    "# Visualize Negative Election Ads"
   ]
  },
  {
   "cell_type": "code",
   "execution_count": 86,
   "id": "9305dad6",
   "metadata": {},
   "outputs": [
    {
     "data": {
      "text/html": [
       "<div>\n",
       "<style scoped>\n",
       "    .dataframe tbody tr th:only-of-type {\n",
       "        vertical-align: middle;\n",
       "    }\n",
       "\n",
       "    .dataframe tbody tr th {\n",
       "        vertical-align: top;\n",
       "    }\n",
       "\n",
       "    .dataframe thead th {\n",
       "        text-align: right;\n",
       "    }\n",
       "</style>\n",
       "<table border=\"1\" class=\"dataframe\">\n",
       "  <thead>\n",
       "    <tr style=\"text-align: right;\">\n",
       "      <th></th>\n",
       "      <th>region</th>\n",
       "      <th>impressions</th>\n",
       "    </tr>\n",
       "  </thead>\n",
       "  <tbody>\n",
       "    <tr>\n",
       "      <th>11</th>\n",
       "      <td>Alabama</td>\n",
       "      <td>72847.621115</td>\n",
       "    </tr>\n",
       "    <tr>\n",
       "      <th>13</th>\n",
       "      <td>Alaska</td>\n",
       "      <td>83410.965352</td>\n",
       "    </tr>\n",
       "    <tr>\n",
       "      <th>20</th>\n",
       "      <td>Arizona</td>\n",
       "      <td>66803.629827</td>\n",
       "    </tr>\n",
       "    <tr>\n",
       "      <th>21</th>\n",
       "      <td>Arkansas</td>\n",
       "      <td>77064.358634</td>\n",
       "    </tr>\n",
       "    <tr>\n",
       "      <th>57</th>\n",
       "      <td>California</td>\n",
       "      <td>67430.063402</td>\n",
       "    </tr>\n",
       "  </tbody>\n",
       "</table>\n",
       "</div>"
      ],
      "text/plain": [
       "        region   impressions\n",
       "11     Alabama  72847.621115\n",
       "13      Alaska  83410.965352\n",
       "20     Arizona  66803.629827\n",
       "21    Arkansas  77064.358634\n",
       "57  California  67430.063402"
      ]
     },
     "execution_count": 86,
     "metadata": {},
     "output_type": "execute_result"
    }
   ],
   "source": [
    "negative_df = pd.concat(df_list, ignore_index = True)\n",
    "negative_df = negative_df[negative_df['sentiment'] == 'NEGATIVE']\n",
    "negative_df = negative_df.groupby('region').mean().reset_index()\n",
    "negative_df = negative_df[negative_df.get('region').isin(us_states) == True]\n",
    "negative_df.head()"
   ]
  },
  {
   "cell_type": "code",
   "execution_count": 87,
   "id": "04df232b",
   "metadata": {},
   "outputs": [
    {
     "data": {
      "text/plain": [
       "(51, 2)"
      ]
     },
     "execution_count": 87,
     "metadata": {},
     "output_type": "execute_result"
    }
   ],
   "source": [
    "negative_df.shape"
   ]
  },
  {
   "cell_type": "code",
   "execution_count": 88,
   "id": "3465dbe8",
   "metadata": {},
   "outputs": [],
   "source": [
    "negative_df.get('region').iloc[47] = 'District of Columbia'\n",
    "negative_df.sort_values(by = 'region', inplace = True)"
   ]
  },
  {
   "cell_type": "code",
   "execution_count": 89,
   "id": "a136931b",
   "metadata": {},
   "outputs": [
    {
     "data": {
      "text/html": [
       "<div>\n",
       "<style scoped>\n",
       "    .dataframe tbody tr th:only-of-type {\n",
       "        vertical-align: middle;\n",
       "    }\n",
       "\n",
       "    .dataframe tbody tr th {\n",
       "        vertical-align: top;\n",
       "    }\n",
       "\n",
       "    .dataframe thead th {\n",
       "        text-align: right;\n",
       "    }\n",
       "</style>\n",
       "<table border=\"1\" class=\"dataframe\">\n",
       "  <thead>\n",
       "    <tr style=\"text-align: right;\">\n",
       "      <th></th>\n",
       "      <th>region</th>\n",
       "      <th>impressions</th>\n",
       "      <th>id</th>\n",
       "    </tr>\n",
       "  </thead>\n",
       "  <tbody>\n",
       "    <tr>\n",
       "      <th>11</th>\n",
       "      <td>Alabama</td>\n",
       "      <td>72847.621115</td>\n",
       "      <td>1</td>\n",
       "    </tr>\n",
       "    <tr>\n",
       "      <th>13</th>\n",
       "      <td>Alaska</td>\n",
       "      <td>83410.965352</td>\n",
       "      <td>2</td>\n",
       "    </tr>\n",
       "    <tr>\n",
       "      <th>20</th>\n",
       "      <td>Arizona</td>\n",
       "      <td>66803.629827</td>\n",
       "      <td>4</td>\n",
       "    </tr>\n",
       "    <tr>\n",
       "      <th>21</th>\n",
       "      <td>Arkansas</td>\n",
       "      <td>77064.358634</td>\n",
       "      <td>5</td>\n",
       "    </tr>\n",
       "    <tr>\n",
       "      <th>57</th>\n",
       "      <td>California</td>\n",
       "      <td>67430.063402</td>\n",
       "      <td>6</td>\n",
       "    </tr>\n",
       "  </tbody>\n",
       "</table>\n",
       "</div>"
      ],
      "text/plain": [
       "        region   impressions  id\n",
       "11     Alabama  72847.621115   1\n",
       "13      Alaska  83410.965352   2\n",
       "20     Arizona  66803.629827   4\n",
       "21    Arkansas  77064.358634   5\n",
       "57  California  67430.063402   6"
      ]
     },
     "execution_count": 89,
     "metadata": {},
     "output_type": "execute_result"
    }
   ],
   "source": [
    "pop = data.population_engineers_hurricanes()\n",
    "negative_df['id'] = list(pop.get('id'))[:-1]\n",
    "negative_df.head()"
   ]
  },
  {
   "cell_type": "code",
   "execution_count": 90,
   "id": "95fabd26",
   "metadata": {},
   "outputs": [
    {
     "data": {
      "text/html": [
       "\n",
       "<div id=\"altair-viz-54bb154cb0a14b39bc21d13c6b701282\"></div>\n",
       "<script type=\"text/javascript\">\n",
       "  var VEGA_DEBUG = (typeof VEGA_DEBUG == \"undefined\") ? {} : VEGA_DEBUG;\n",
       "  (function(spec, embedOpt){\n",
       "    let outputDiv = document.currentScript.previousElementSibling;\n",
       "    if (outputDiv.id !== \"altair-viz-54bb154cb0a14b39bc21d13c6b701282\") {\n",
       "      outputDiv = document.getElementById(\"altair-viz-54bb154cb0a14b39bc21d13c6b701282\");\n",
       "    }\n",
       "    const paths = {\n",
       "      \"vega\": \"https://cdn.jsdelivr.net/npm//vega@5?noext\",\n",
       "      \"vega-lib\": \"https://cdn.jsdelivr.net/npm//vega-lib?noext\",\n",
       "      \"vega-lite\": \"https://cdn.jsdelivr.net/npm//vega-lite@4.17.0?noext\",\n",
       "      \"vega-embed\": \"https://cdn.jsdelivr.net/npm//vega-embed@6?noext\",\n",
       "    };\n",
       "\n",
       "    function maybeLoadScript(lib, version) {\n",
       "      var key = `${lib.replace(\"-\", \"\")}_version`;\n",
       "      return (VEGA_DEBUG[key] == version) ?\n",
       "        Promise.resolve(paths[lib]) :\n",
       "        new Promise(function(resolve, reject) {\n",
       "          var s = document.createElement('script');\n",
       "          document.getElementsByTagName(\"head\")[0].appendChild(s);\n",
       "          s.async = true;\n",
       "          s.onload = () => {\n",
       "            VEGA_DEBUG[key] = version;\n",
       "            return resolve(paths[lib]);\n",
       "          };\n",
       "          s.onerror = () => reject(`Error loading script: ${paths[lib]}`);\n",
       "          s.src = paths[lib];\n",
       "        });\n",
       "    }\n",
       "\n",
       "    function showError(err) {\n",
       "      outputDiv.innerHTML = `<div class=\"error\" style=\"color:red;\">${err}</div>`;\n",
       "      throw err;\n",
       "    }\n",
       "\n",
       "    function displayChart(vegaEmbed) {\n",
       "      vegaEmbed(outputDiv, spec, embedOpt)\n",
       "        .catch(err => showError(`Javascript Error: ${err.message}<br>This usually means there's a typo in your chart specification. See the javascript console for the full traceback.`));\n",
       "    }\n",
       "\n",
       "    if(typeof define === \"function\" && define.amd) {\n",
       "      requirejs.config({paths});\n",
       "      require([\"vega-embed\"], displayChart, err => showError(`Error loading script: ${err.message}`));\n",
       "    } else {\n",
       "      maybeLoadScript(\"vega\", \"5\")\n",
       "        .then(() => maybeLoadScript(\"vega-lite\", \"4.17.0\"))\n",
       "        .then(() => maybeLoadScript(\"vega-embed\", \"6\"))\n",
       "        .catch(showError)\n",
       "        .then(() => displayChart(vegaEmbed));\n",
       "    }\n",
       "  })({\"config\": {\"view\": {\"continuousWidth\": 400, \"continuousHeight\": 300}}, \"layer\": [{\"mark\": \"geoshape\", \"encoding\": {\"color\": {\"field\": \"impressions\", \"type\": \"quantitative\"}}, \"height\": 300, \"projection\": {\"type\": \"albersUsa\"}, \"title\": \"Average Impressions: Negative Ads\", \"transform\": [{\"lookup\": \"id\", \"from\": {\"data\": {\"name\": \"data-6b822eb93ab93c93a240810c21445cef\"}, \"key\": \"id\", \"fields\": [\"region\", \"impressions\", \"id\"]}}], \"width\": 500}, {\"mark\": {\"type\": \"geoshape\", \"fillOpacity\": 0, \"stroke\": \"black\"}, \"height\": 300, \"projection\": {\"type\": \"albersUsa\"}, \"width\": 500}], \"data\": {\"url\": \"https://cdn.jsdelivr.net/npm/vega-datasets@v1.29.0/data/us-10m.json\", \"format\": {\"feature\": \"states\", \"type\": \"topojson\"}}, \"$schema\": \"https://vega.github.io/schema/vega-lite/v4.17.0.json\", \"datasets\": {\"data-6b822eb93ab93c93a240810c21445cef\": [{\"region\": \"Alabama\", \"impressions\": 72847.62111517368, \"id\": 1}, {\"region\": \"Alaska\", \"impressions\": 83410.96535181237, \"id\": 2}, {\"region\": \"Arizona\", \"impressions\": 66803.62982744453, \"id\": 4}, {\"region\": \"Arkansas\", \"impressions\": 77064.3586337761, \"id\": 5}, {\"region\": \"California\", \"impressions\": 67430.06340167046, \"id\": 6}, {\"region\": \"Colorado\", \"impressions\": 67400.53538717736, \"id\": 8}, {\"region\": \"Connecticut\", \"impressions\": 72510.15026132404, \"id\": 9}, {\"region\": \"Delaware\", \"impressions\": 83169.63711340206, \"id\": 10}, {\"region\": \"District of Columbia\", \"impressions\": 82913.89505494505, \"id\": 11}, {\"region\": \"Florida\", \"impressions\": 64689.88753799392, \"id\": 12}, {\"region\": \"Georgia\", \"impressions\": 64016.62395754359, \"id\": 13}, {\"region\": \"Hawaii\", \"impressions\": 82330.38136456211, \"id\": 15}, {\"region\": \"Idaho\", \"impressions\": 78005.81367690783, \"id\": 16}, {\"region\": \"Illinois\", \"impressions\": 68763.41415410386, \"id\": 17}, {\"region\": \"Indiana\", \"impressions\": 71156.42358078602, \"id\": 18}, {\"region\": \"Iowa\", \"impressions\": 74278.83363886343, \"id\": 19}, {\"region\": \"Kansas\", \"impressions\": 73228.39545454546, \"id\": 20}, {\"region\": \"Kentucky\", \"impressions\": 69468.18143100511, \"id\": 21}, {\"region\": \"Louisiana\", \"impressions\": 75225.00796460177, \"id\": 22}, {\"region\": \"Maine\", \"impressions\": 76180.29619047619, \"id\": 23}, {\"region\": \"Maryland\", \"impressions\": 71528.80239273928, \"id\": 24}, {\"region\": \"Massachusetts\", \"impressions\": 66815.99503722084, \"id\": 25}, {\"region\": \"Michigan\", \"impressions\": 68601.14309210527, \"id\": 26}, {\"region\": \"Minnesota\", \"impressions\": 70339.4884649512, \"id\": 27}, {\"region\": \"Mississippi\", \"impressions\": 79280.69169960474, \"id\": 28}, {\"region\": \"Missouri\", \"impressions\": 70951.94746059545, \"id\": 29}, {\"region\": \"Montana\", \"impressions\": 81747.85803757829, \"id\": 30}, {\"region\": \"Nebraska\", \"impressions\": 81112.85, \"id\": 31}, {\"region\": \"Nevada\", \"impressions\": 74706.93016759776, \"id\": 32}, {\"region\": \"New Hampshire\", \"impressions\": 79792.26134122288, \"id\": 33}, {\"region\": \"New Jersey\", \"impressions\": 62564.919517102615, \"id\": 34}, {\"region\": \"New Mexico\", \"impressions\": 74630.4070754717, \"id\": 35}, {\"region\": \"New York\", \"impressions\": 60762.03670012547, \"id\": 36}, {\"region\": \"North Carolina\", \"impressions\": 68183.90415704389, \"id\": 37}, {\"region\": \"North Dakota\", \"impressions\": 94263.26100244498, \"id\": 38}, {\"region\": \"Ohio\", \"impressions\": 60945.10559234732, \"id\": 39}, {\"region\": \"Oklahoma\", \"impressions\": 75589.98551401868, \"id\": 40}, {\"region\": \"Oregon\", \"impressions\": 71711.68238993711, \"id\": 41}, {\"region\": \"Pennsylvania\", \"impressions\": 62508.930962343096, \"id\": 42}, {\"region\": \"Rhode Island\", \"impressions\": 80629.43892339544, \"id\": 44}, {\"region\": \"South Carolina\", \"impressions\": 69617.39552238806, \"id\": 45}, {\"region\": \"South Dakota\", \"impressions\": 88275.81093394077, \"id\": 46}, {\"region\": \"Tennessee\", \"impressions\": 71908.82439446366, \"id\": 47}, {\"region\": \"Texas\", \"impressions\": 64862.08281573499, \"id\": 48}, {\"region\": \"Utah\", \"impressions\": 75075.99479659414, \"id\": 49}, {\"region\": \"Vermont\", \"impressions\": 82702.35782747604, \"id\": 50}, {\"region\": \"Virginia\", \"impressions\": 71444.38764450866, \"id\": 51}, {\"region\": \"Washington\", \"impressions\": 67923.75677966102, \"id\": 53}, {\"region\": \"West Virginia\", \"impressions\": 79334.21469740634, \"id\": 54}, {\"region\": \"Wisconsin\", \"impressions\": 72678.47642348755, \"id\": 55}, {\"region\": \"Wyoming\", \"impressions\": 89689.3243873979, \"id\": 56}]}}, {\"mode\": \"vega-lite\"});\n",
       "</script>"
      ],
      "text/plain": [
       "alt.LayerChart(...)"
      ]
     },
     "execution_count": 90,
     "metadata": {},
     "output_type": "execute_result"
    }
   ],
   "source": [
    "alt.renderers.enable('default')\n",
    "\n",
    "from vega_datasets import data\n",
    "\n",
    "states = alt.topo_feature(data.us_10m.url, 'states')\n",
    "\n",
    "variable_list = ['impressions']\n",
    "\n",
    "# Creating configs for color,selection,hovering\n",
    "hover = alt.selection(type='single', on='mouseover', nearest=True,\n",
    "                      fields=['x', 'y'])\n",
    "\n",
    "plot = alt.Chart(states).mark_geoshape().encode(\n",
    "    color='impressions:Q'\n",
    ").transform_lookup(\n",
    "    lookup='id',\n",
    "    from_=alt.LookupData(negative_df, 'id', list(negative_df.columns))\n",
    ").properties(\n",
    "    width=500,\n",
    "    height=300,\n",
    "    title = 'Average Impressions: Negative Ads'\n",
    ").project(\n",
    "    type='albersUsa'\n",
    ")\n",
    "\n",
    "outline = alt.Chart(states).mark_geoshape(stroke='black', fillOpacity=0).project(\n",
    "    type='albersUsa'\n",
    ").properties(\n",
    "    width=500,\n",
    "    height=300\n",
    ")\n",
    "\n",
    "alt.layer(plot,outline)"
   ]
  },
  {
   "cell_type": "code",
   "execution_count": null,
   "id": "f2483ad4",
   "metadata": {},
   "outputs": [],
   "source": []
  },
  {
   "cell_type": "code",
   "execution_count": null,
   "id": "3355c9cc",
   "metadata": {},
   "outputs": [],
   "source": []
  },
  {
   "cell_type": "markdown",
   "id": "0c0cb8e0",
   "metadata": {},
   "source": [
    "# Hypothesis Test: Election Data"
   ]
  },
  {
   "cell_type": "code",
   "execution_count": 12,
   "id": "cc1b8368",
   "metadata": {},
   "outputs": [
    {
     "name": "stdout",
     "output_type": "stream",
     "text": [
      "11737\n"
     ]
    }
   ],
   "source": [
    "df_list = []\n",
    "for index, row in new_df.iterrows():\n",
    "    curr_dict = row['cumulative_impressions_by_region']\n",
    "    d = pd.DataFrame({'region': curr_dict.keys(), 'impressions': curr_dict.values()})\n",
    "    d['sentiment'] = row['sentiment']\n",
    "        \n",
    "    df_list.append(d)\n",
    "print(len(df_list))"
   ]
  },
  {
   "cell_type": "code",
   "execution_count": 13,
   "id": "6df28261",
   "metadata": {},
   "outputs": [],
   "source": [
    "z_test_table = pd.concat(df_list, ignore_index = True)"
   ]
  },
  {
   "cell_type": "code",
   "execution_count": 14,
   "id": "c396c32c",
   "metadata": {},
   "outputs": [
    {
     "data": {
      "text/html": [
       "<div>\n",
       "<style scoped>\n",
       "    .dataframe tbody tr th:only-of-type {\n",
       "        vertical-align: middle;\n",
       "    }\n",
       "\n",
       "    .dataframe tbody tr th {\n",
       "        vertical-align: top;\n",
       "    }\n",
       "\n",
       "    .dataframe thead th {\n",
       "        text-align: right;\n",
       "    }\n",
       "</style>\n",
       "<table border=\"1\" class=\"dataframe\">\n",
       "  <thead>\n",
       "    <tr style=\"text-align: right;\">\n",
       "      <th></th>\n",
       "      <th>region</th>\n",
       "      <th>impressions</th>\n",
       "      <th>sentiment</th>\n",
       "    </tr>\n",
       "  </thead>\n",
       "  <tbody>\n",
       "    <tr>\n",
       "      <th>0</th>\n",
       "      <td>New York</td>\n",
       "      <td>28498.5</td>\n",
       "      <td>POSITIVE</td>\n",
       "    </tr>\n",
       "    <tr>\n",
       "      <th>1</th>\n",
       "      <td>Georgia</td>\n",
       "      <td>7999.0</td>\n",
       "      <td>POSITIVE</td>\n",
       "    </tr>\n",
       "    <tr>\n",
       "      <th>2</th>\n",
       "      <td>Connecticut</td>\n",
       "      <td>74999.5</td>\n",
       "      <td>POSITIVE</td>\n",
       "    </tr>\n",
       "    <tr>\n",
       "      <th>3</th>\n",
       "      <td>Massachusetts</td>\n",
       "      <td>74999.5</td>\n",
       "      <td>POSITIVE</td>\n",
       "    </tr>\n",
       "    <tr>\n",
       "      <th>4</th>\n",
       "      <td>Alaska</td>\n",
       "      <td>2499.5</td>\n",
       "      <td>POSITIVE</td>\n",
       "    </tr>\n",
       "  </tbody>\n",
       "</table>\n",
       "</div>"
      ],
      "text/plain": [
       "          region  impressions sentiment\n",
       "0       New York      28498.5  POSITIVE\n",
       "1        Georgia       7999.0  POSITIVE\n",
       "2    Connecticut      74999.5  POSITIVE\n",
       "3  Massachusetts      74999.5  POSITIVE\n",
       "4         Alaska       2499.5  POSITIVE"
      ]
     },
     "execution_count": 14,
     "metadata": {},
     "output_type": "execute_result"
    }
   ],
   "source": [
    "z_test_table = z_test_table[z_test_table['region'].isin(us_states)]\n",
    "z_test_table.head()"
   ]
  },
  {
   "cell_type": "code",
   "execution_count": 15,
   "id": "ec2a04bd",
   "metadata": {},
   "outputs": [
    {
     "data": {
      "text/plain": [
       "(139880, 3)"
      ]
     },
     "execution_count": 15,
     "metadata": {},
     "output_type": "execute_result"
    }
   ],
   "source": [
    "z_test_table.shape"
   ]
  },
  {
   "cell_type": "code",
   "execution_count": 16,
   "id": "d3b9f960",
   "metadata": {},
   "outputs": [],
   "source": [
    "# based on 2020 election\n",
    "right_wing = ['Alabama', 'Alaska', 'Arkansas', 'Florida', 'Idaho', 'Indiana', \n",
    "              'Iowa', 'Kansas', 'Kentucky', 'Louisiana', 'Mississippi', 'Missouri', \n",
    "              'Montana', 'Nebraska', 'North Carolina', 'North Dakota', 'Ohio', \n",
    "              'Oklahoma', 'South Carolina', 'South Dakota', 'Tennessee', 'Texas', \n",
    "              'Utah', 'West Virginia', 'Wyoming']\n",
    "left_wing = ['Arizona', 'California', 'Colorado', 'Connecticut', 'Delaware', 'Georgia', \n",
    "             'Hawaii', 'Illinois', 'Maine', 'Maryland', 'Massachusetts', 'Michigan', 'Minnesota', \n",
    "             'Nevada', 'New Hampshire', 'New Jersey', 'New Mexico', 'New York', 'Oregon', \n",
    "             'Pennsylvania', 'Rhode Island', 'Vermont', 'Virginia', 'Washington', 'Wisconsin']"
   ]
  },
  {
   "cell_type": "code",
   "execution_count": 17,
   "id": "0b2dd938",
   "metadata": {},
   "outputs": [
    {
     "data": {
      "text/html": [
       "<div>\n",
       "<style scoped>\n",
       "    .dataframe tbody tr th:only-of-type {\n",
       "        vertical-align: middle;\n",
       "    }\n",
       "\n",
       "    .dataframe tbody tr th {\n",
       "        vertical-align: top;\n",
       "    }\n",
       "\n",
       "    .dataframe thead th {\n",
       "        text-align: right;\n",
       "    }\n",
       "</style>\n",
       "<table border=\"1\" class=\"dataframe\">\n",
       "  <thead>\n",
       "    <tr style=\"text-align: right;\">\n",
       "      <th></th>\n",
       "      <th>region</th>\n",
       "      <th>impressions</th>\n",
       "      <th>sentiment</th>\n",
       "    </tr>\n",
       "  </thead>\n",
       "  <tbody>\n",
       "    <tr>\n",
       "      <th>47</th>\n",
       "      <td>Rhode Island</td>\n",
       "      <td>1499.5</td>\n",
       "      <td>NEGATIVE</td>\n",
       "    </tr>\n",
       "    <tr>\n",
       "      <th>48</th>\n",
       "      <td>New York</td>\n",
       "      <td>1499.5</td>\n",
       "      <td>NEGATIVE</td>\n",
       "    </tr>\n",
       "    <tr>\n",
       "      <th>49</th>\n",
       "      <td>Kansas</td>\n",
       "      <td>1499.5</td>\n",
       "      <td>NEGATIVE</td>\n",
       "    </tr>\n",
       "    <tr>\n",
       "      <th>50</th>\n",
       "      <td>Louisiana</td>\n",
       "      <td>1499.5</td>\n",
       "      <td>NEGATIVE</td>\n",
       "    </tr>\n",
       "    <tr>\n",
       "      <th>51</th>\n",
       "      <td>Maine</td>\n",
       "      <td>1499.5</td>\n",
       "      <td>NEGATIVE</td>\n",
       "    </tr>\n",
       "  </tbody>\n",
       "</table>\n",
       "</div>"
      ],
      "text/plain": [
       "          region  impressions sentiment\n",
       "47  Rhode Island       1499.5  NEGATIVE\n",
       "48      New York       1499.5  NEGATIVE\n",
       "49        Kansas       1499.5  NEGATIVE\n",
       "50     Louisiana       1499.5  NEGATIVE\n",
       "51         Maine       1499.5  NEGATIVE"
      ]
     },
     "execution_count": 17,
     "metadata": {},
     "output_type": "execute_result"
    }
   ],
   "source": [
    "z_test_table[z_test_table['sentiment'] == 'NEGATIVE'].head()"
   ]
  },
  {
   "cell_type": "code",
   "execution_count": 18,
   "id": "3ad5f850",
   "metadata": {},
   "outputs": [
    {
     "name": "stdout",
     "output_type": "stream",
     "text": [
      "(65623, 3)\n"
     ]
    }
   ],
   "source": [
    "# total number of ads in right wing\n",
    "print(z_test_table[z_test_table['region'].isin(right_wing)].shape)"
   ]
  },
  {
   "cell_type": "code",
   "execution_count": 19,
   "id": "7a86ae84",
   "metadata": {},
   "outputs": [
    {
     "name": "stdout",
     "output_type": "stream",
     "text": [
      "(72032, 3)\n"
     ]
    }
   ],
   "source": [
    "# total number of ads in left wing\n",
    "print(z_test_table[z_test_table['region'].isin(left_wing)].shape)"
   ]
  },
  {
   "cell_type": "code",
   "execution_count": 20,
   "id": "90658bca",
   "metadata": {},
   "outputs": [
    {
     "data": {
      "text/plain": [
       "(27323, 3)"
      ]
     },
     "execution_count": 20,
     "metadata": {},
     "output_type": "execute_result"
    }
   ],
   "source": [
    "# number of negative ads in right wing\n",
    "z_test_table[(z_test_table['region'].isin(right_wing)) \n",
    "             & (z_test_table['sentiment'] == 'NEGATIVE')].shape"
   ]
  },
  {
   "cell_type": "code",
   "execution_count": 21,
   "id": "88c891bd",
   "metadata": {},
   "outputs": [
    {
     "data": {
      "text/plain": [
       "(29535, 3)"
      ]
     },
     "execution_count": 21,
     "metadata": {},
     "output_type": "execute_result"
    }
   ],
   "source": [
    "# number of negative ads in left wing\n",
    "z_test_table[z_test_table['region'].isin(left_wing) \n",
    "             & (z_test_table['sentiment'] == 'NEGATIVE')].shape"
   ]
  },
  {
   "cell_type": "code",
   "execution_count": 23,
   "id": "0464bef7",
   "metadata": {},
   "outputs": [],
   "source": [
    "import numpy as np\n",
    "from statsmodels.stats.proportion import proportions_ztest"
   ]
  },
  {
   "cell_type": "code",
   "execution_count": 24,
   "id": "c82b4ebb",
   "metadata": {},
   "outputs": [
    {
     "name": "stdout",
     "output_type": "stream",
     "text": [
      "1.1176265238120677e-60\n"
     ]
    }
   ],
   "source": [
    "count = [27323, 29535]# negative ads for both wings \n",
    "nobs = [65623, 72032] # total ads in left wing, total ads in right wing \n",
    "value = 0.05\n",
    "stat, pval = proportions_ztest(count, nobs, value)\n",
    "print(pval)"
   ]
  },
  {
   "cell_type": "markdown",
   "id": "8304bc8e",
   "metadata": {},
   "source": [
    "# Hypothesis Test - Vaccines"
   ]
  },
  {
   "cell_type": "code",
   "execution_count": 35,
   "id": "f5dc97e7",
   "metadata": {},
   "outputs": [
    {
     "data": {
      "text/html": [
       "<div>\n",
       "<style scoped>\n",
       "    .dataframe tbody tr th:only-of-type {\n",
       "        vertical-align: middle;\n",
       "    }\n",
       "\n",
       "    .dataframe tbody tr th {\n",
       "        vertical-align: top;\n",
       "    }\n",
       "\n",
       "    .dataframe thead th {\n",
       "        text-align: right;\n",
       "    }\n",
       "</style>\n",
       "<table border=\"1\" class=\"dataframe\">\n",
       "  <thead>\n",
       "    <tr style=\"text-align: right;\">\n",
       "      <th></th>\n",
       "      <th>Unnamed: 0</th>\n",
       "      <th>ad_creative_bodies</th>\n",
       "      <th>demographic_distribution</th>\n",
       "      <th>delivery_by_region</th>\n",
       "      <th>estimated_audience_size</th>\n",
       "      <th>spend</th>\n",
       "      <th>impressions</th>\n",
       "      <th>cumulative_impressions_by_region</th>\n",
       "      <th>cum_spend</th>\n",
       "    </tr>\n",
       "  </thead>\n",
       "  <tbody>\n",
       "    <tr>\n",
       "      <th>0</th>\n",
       "      <td>0</td>\n",
       "      <td></td>\n",
       "      <td>[[{'percentage': '0.001006', 'age': '13-17', '...</td>\n",
       "      <td>[[{'percentage': '0.001516', 'region': 'Rhode ...</td>\n",
       "      <td>[{'lower_bound': '5001', 'upper_bound': '10000...</td>\n",
       "      <td>[{'lower_bound': '1000', 'upper_bound': '1499'...</td>\n",
       "      <td>[{'lower_bound': '25000', 'upper_bound': '2999...</td>\n",
       "      <td>{'Rhode Island': 2231992.5, 'Oregon': 2231992....</td>\n",
       "      <td>48641.0</td>\n",
       "    </tr>\n",
       "    <tr>\n",
       "      <th>1</th>\n",
       "      <td>1</td>\n",
       "      <td>!!!!!!!!!!!!!!!!!!!!</td>\n",
       "      <td>[[{'percentage': '4.9E-5', 'age': '18-24', 'ge...</td>\n",
       "      <td>[[{'percentage': '0.034184', 'region': 'Alabam...</td>\n",
       "      <td>[{'lower_bound': '1000001'}]</td>\n",
       "      <td>[{'lower_bound': '0', 'upper_bound': '99'}]</td>\n",
       "      <td>[{'lower_bound': '25000', 'upper_bound': '2999...</td>\n",
       "      <td>{'Alabama': 27499.5, 'Rhode Island': 27499.5, ...</td>\n",
       "      <td>49.5</td>\n",
       "    </tr>\n",
       "    <tr>\n",
       "      <th>2</th>\n",
       "      <td>2</td>\n",
       "      <td>\"'Safe, potent, &amp; effective' - those three wor...</td>\n",
       "      <td>[[{'percentage': '5.4E-5', 'age': '13-17', 'ge...</td>\n",
       "      <td>[[{'percentage': '0.000163', 'region': 'Unknow...</td>\n",
       "      <td>[{'lower_bound': '1000001'}]</td>\n",
       "      <td>[{'lower_bound': '300', 'upper_bound': '399'}]</td>\n",
       "      <td>[{'lower_bound': '15000', 'upper_bound': '1999...</td>\n",
       "      <td>{'Unknown': 17499.5, 'Pennsylvania': 17499.5, ...</td>\n",
       "      <td>349.5</td>\n",
       "    </tr>\n",
       "    <tr>\n",
       "      <th>3</th>\n",
       "      <td>3</td>\n",
       "      <td>\"1 in 500 Americans have died from COVID-19. O...</td>\n",
       "      <td>[[{'percentage': '0.000943', 'age': '45-54', '...</td>\n",
       "      <td>[[{'percentage': '1', 'region': 'Texas'}], [{'...</td>\n",
       "      <td>[{'lower_bound': '10001', 'upper_bound': '5000...</td>\n",
       "      <td>[{'lower_bound': '0', 'upper_bound': '99'}, {'...</td>\n",
       "      <td>[{'lower_bound': '1000', 'upper_bound': '1999'...</td>\n",
       "      <td>{'Texas': 17496.5}</td>\n",
       "      <td>346.5</td>\n",
       "    </tr>\n",
       "    <tr>\n",
       "      <th>4</th>\n",
       "      <td>4</td>\n",
       "      <td>\"A patent seizure is largely symbolic rather t...</td>\n",
       "      <td>[[{'percentage': '0.000456', 'age': '18-24', '...</td>\n",
       "      <td>[[{'percentage': '0.01887', 'region': 'Alabama...</td>\n",
       "      <td>[{'lower_bound': '1000001'}]</td>\n",
       "      <td>[{'lower_bound': '200', 'upper_bound': '299'}]</td>\n",
       "      <td>[{'lower_bound': '20000', 'upper_bound': '2499...</td>\n",
       "      <td>{'Alabama': 22499.5, 'Rhode Island': 22499.5, ...</td>\n",
       "      <td>249.5</td>\n",
       "    </tr>\n",
       "  </tbody>\n",
       "</table>\n",
       "</div>"
      ],
      "text/plain": [
       "   Unnamed: 0                                 ad_creative_bodies  \\\n",
       "0           0                                                      \n",
       "1           1                               !!!!!!!!!!!!!!!!!!!!   \n",
       "2           2  \"'Safe, potent, & effective' - those three wor...   \n",
       "3           3  \"1 in 500 Americans have died from COVID-19. O...   \n",
       "4           4  \"A patent seizure is largely symbolic rather t...   \n",
       "\n",
       "                            demographic_distribution  \\\n",
       "0  [[{'percentage': '0.001006', 'age': '13-17', '...   \n",
       "1  [[{'percentage': '4.9E-5', 'age': '18-24', 'ge...   \n",
       "2  [[{'percentage': '5.4E-5', 'age': '13-17', 'ge...   \n",
       "3  [[{'percentage': '0.000943', 'age': '45-54', '...   \n",
       "4  [[{'percentage': '0.000456', 'age': '18-24', '...   \n",
       "\n",
       "                                  delivery_by_region  \\\n",
       "0  [[{'percentage': '0.001516', 'region': 'Rhode ...   \n",
       "1  [[{'percentage': '0.034184', 'region': 'Alabam...   \n",
       "2  [[{'percentage': '0.000163', 'region': 'Unknow...   \n",
       "3  [[{'percentage': '1', 'region': 'Texas'}], [{'...   \n",
       "4  [[{'percentage': '0.01887', 'region': 'Alabama...   \n",
       "\n",
       "                             estimated_audience_size  \\\n",
       "0  [{'lower_bound': '5001', 'upper_bound': '10000...   \n",
       "1                       [{'lower_bound': '1000001'}]   \n",
       "2                       [{'lower_bound': '1000001'}]   \n",
       "3  [{'lower_bound': '10001', 'upper_bound': '5000...   \n",
       "4                       [{'lower_bound': '1000001'}]   \n",
       "\n",
       "                                               spend  \\\n",
       "0  [{'lower_bound': '1000', 'upper_bound': '1499'...   \n",
       "1        [{'lower_bound': '0', 'upper_bound': '99'}]   \n",
       "2     [{'lower_bound': '300', 'upper_bound': '399'}]   \n",
       "3  [{'lower_bound': '0', 'upper_bound': '99'}, {'...   \n",
       "4     [{'lower_bound': '200', 'upper_bound': '299'}]   \n",
       "\n",
       "                                         impressions  \\\n",
       "0  [{'lower_bound': '25000', 'upper_bound': '2999...   \n",
       "1  [{'lower_bound': '25000', 'upper_bound': '2999...   \n",
       "2  [{'lower_bound': '15000', 'upper_bound': '1999...   \n",
       "3  [{'lower_bound': '1000', 'upper_bound': '1999'...   \n",
       "4  [{'lower_bound': '20000', 'upper_bound': '2499...   \n",
       "\n",
       "                    cumulative_impressions_by_region  cum_spend  \n",
       "0  {'Rhode Island': 2231992.5, 'Oregon': 2231992....    48641.0  \n",
       "1  {'Alabama': 27499.5, 'Rhode Island': 27499.5, ...       49.5  \n",
       "2  {'Unknown': 17499.5, 'Pennsylvania': 17499.5, ...      349.5  \n",
       "3                                 {'Texas': 17496.5}      346.5  \n",
       "4  {'Alabama': 22499.5, 'Rhode Island': 22499.5, ...      249.5  "
      ]
     },
     "execution_count": 35,
     "metadata": {},
     "output_type": "execute_result"
    }
   ],
   "source": [
    "vaccines = pd.read_csv('emily_vaccine.csv')\n",
    "vaccines.head()"
   ]
  },
  {
   "cell_type": "code",
   "execution_count": 36,
   "id": "c6ff28d2",
   "metadata": {},
   "outputs": [],
   "source": [
    "vaccines['sentiment'] = vaccines.get('ad_creative_bodies').apply(find_label)\n",
    "vaccines['cumulative_impressions_by_region'] = vaccines['cumulative_impressions_by_region'].apply(ast.literal_eval)"
   ]
  },
  {
   "cell_type": "code",
   "execution_count": 37,
   "id": "9cd30ff1",
   "metadata": {},
   "outputs": [
    {
     "name": "stdout",
     "output_type": "stream",
     "text": [
      "7248\n"
     ]
    }
   ],
   "source": [
    "vacc_df_list = []\n",
    "for index, row in vaccines.iterrows():\n",
    "    curr_dict = row['cumulative_impressions_by_region']\n",
    "    d = pd.DataFrame({'region': curr_dict.keys(), 'impressions': curr_dict.values()})\n",
    "    d['sentiment'] = row['sentiment']\n",
    "        \n",
    "    vacc_df_list.append(d)\n",
    "print(len(vacc_df_list))"
   ]
  },
  {
   "cell_type": "code",
   "execution_count": 38,
   "id": "3d7e0406",
   "metadata": {},
   "outputs": [
    {
     "data": {
      "text/html": [
       "<div>\n",
       "<style scoped>\n",
       "    .dataframe tbody tr th:only-of-type {\n",
       "        vertical-align: middle;\n",
       "    }\n",
       "\n",
       "    .dataframe tbody tr th {\n",
       "        vertical-align: top;\n",
       "    }\n",
       "\n",
       "    .dataframe thead th {\n",
       "        text-align: right;\n",
       "    }\n",
       "</style>\n",
       "<table border=\"1\" class=\"dataframe\">\n",
       "  <thead>\n",
       "    <tr style=\"text-align: right;\">\n",
       "      <th></th>\n",
       "      <th>region</th>\n",
       "      <th>impressions</th>\n",
       "      <th>sentiment</th>\n",
       "    </tr>\n",
       "  </thead>\n",
       "  <tbody>\n",
       "    <tr>\n",
       "      <th>0</th>\n",
       "      <td>Rhode Island</td>\n",
       "      <td>2231992.5</td>\n",
       "      <td>POSITIVE</td>\n",
       "    </tr>\n",
       "    <tr>\n",
       "      <th>1</th>\n",
       "      <td>Oregon</td>\n",
       "      <td>2231992.5</td>\n",
       "      <td>POSITIVE</td>\n",
       "    </tr>\n",
       "    <tr>\n",
       "      <th>2</th>\n",
       "      <td>Nebraska</td>\n",
       "      <td>2231992.5</td>\n",
       "      <td>POSITIVE</td>\n",
       "    </tr>\n",
       "    <tr>\n",
       "      <th>3</th>\n",
       "      <td>Nevada</td>\n",
       "      <td>2231992.5</td>\n",
       "      <td>POSITIVE</td>\n",
       "    </tr>\n",
       "    <tr>\n",
       "      <th>4</th>\n",
       "      <td>New Hampshire</td>\n",
       "      <td>2231992.5</td>\n",
       "      <td>POSITIVE</td>\n",
       "    </tr>\n",
       "  </tbody>\n",
       "</table>\n",
       "</div>"
      ],
      "text/plain": [
       "          region  impressions sentiment\n",
       "0   Rhode Island    2231992.5  POSITIVE\n",
       "1         Oregon    2231992.5  POSITIVE\n",
       "2       Nebraska    2231992.5  POSITIVE\n",
       "3         Nevada    2231992.5  POSITIVE\n",
       "4  New Hampshire    2231992.5  POSITIVE"
      ]
     },
     "execution_count": 38,
     "metadata": {},
     "output_type": "execute_result"
    }
   ],
   "source": [
    "vacc_z_test_table = pd.concat(vacc_df_list, ignore_index = True)\n",
    "vacc_z_test_table = vacc_z_test_table[vacc_z_test_table['region'].isin(us_states)]\n",
    "vacc_z_test_table.head()"
   ]
  },
  {
   "cell_type": "code",
   "execution_count": 39,
   "id": "b4d50018",
   "metadata": {},
   "outputs": [
    {
     "name": "stdout",
     "output_type": "stream",
     "text": [
      "(63620, 3)\n"
     ]
    }
   ],
   "source": [
    "# total number of ads in right wing\n",
    "print(vacc_z_test_table[vacc_z_test_table['region'].isin(right_wing)].shape)"
   ]
  },
  {
   "cell_type": "code",
   "execution_count": 40,
   "id": "897775b2",
   "metadata": {},
   "outputs": [
    {
     "name": "stdout",
     "output_type": "stream",
     "text": [
      "(65936, 3)\n"
     ]
    }
   ],
   "source": [
    "# total number of ads in left wing\n",
    "print(vacc_z_test_table[vacc_z_test_table['region'].isin(left_wing)].shape)"
   ]
  },
  {
   "cell_type": "code",
   "execution_count": 41,
   "id": "6e30e09f",
   "metadata": {},
   "outputs": [
    {
     "data": {
      "text/plain": [
       "(37398, 3)"
      ]
     },
     "execution_count": 41,
     "metadata": {},
     "output_type": "execute_result"
    }
   ],
   "source": [
    "# number of negative ads in right wing\n",
    "vacc_z_test_table[(vacc_z_test_table['region'].isin(right_wing)) \n",
    "             & (vacc_z_test_table['sentiment'] == 'NEGATIVE')].shape"
   ]
  },
  {
   "cell_type": "code",
   "execution_count": 42,
   "id": "1a16f9a5",
   "metadata": {},
   "outputs": [
    {
     "data": {
      "text/plain": [
       "(38660, 3)"
      ]
     },
     "execution_count": 42,
     "metadata": {},
     "output_type": "execute_result"
    }
   ],
   "source": [
    "# number of negative ads in left wing\n",
    "vacc_z_test_table[vacc_z_test_table['region'].isin(left_wing) \n",
    "             & (vacc_z_test_table['sentiment'] == 'NEGATIVE')].shape"
   ]
  },
  {
   "cell_type": "code",
   "execution_count": 43,
   "id": "adc67dee",
   "metadata": {},
   "outputs": [
    {
     "name": "stdout",
     "output_type": "stream",
     "text": [
      "4.77276290716531e-79\n"
     ]
    }
   ],
   "source": [
    "count = [38660, 37398]# negative ads for both wings \n",
    "nobs = [65936, 63620] # total ads in left wing, total ads in right wing \n",
    "value = 0.05\n",
    "stat, pval = proportions_ztest(count, nobs, value)\n",
    "print(pval)"
   ]
  },
  {
   "cell_type": "code",
   "execution_count": null,
   "id": "54c7d833",
   "metadata": {},
   "outputs": [],
   "source": []
  }
 ],
 "metadata": {
  "kernelspec": {
   "display_name": "fbads",
   "language": "python",
   "name": "fbads"
  },
  "language_info": {
   "codemirror_mode": {
    "name": "ipython",
    "version": 3
   },
   "file_extension": ".py",
   "mimetype": "text/x-python",
   "name": "python",
   "nbconvert_exporter": "python",
   "pygments_lexer": "ipython3",
   "version": "3.7.9"
  }
 },
 "nbformat": 4,
 "nbformat_minor": 5
}
