{
 "cells": [
  {
   "cell_type": "code",
   "execution_count": 1,
   "id": "b46a2d2f",
   "metadata": {},
   "outputs": [
    {
     "name": "stderr",
     "output_type": "stream",
     "text": [
      "/Users/emilychen/opt/anaconda3/envs/fbads/lib/python3.7/site-packages/tqdm/auto.py:22: TqdmWarning: IProgress not found. Please update jupyter and ipywidgets. See https://ipywidgets.readthedocs.io/en/stable/user_install.html\n",
      "  from .autonotebook import tqdm as notebook_tqdm\n"
     ]
    }
   ],
   "source": [
    "from transformers import pipeline\n",
    "import pickle\n",
    "import json\n",
    "import pandas as pd\n",
    "import ast\n",
    "\n",
    "\n",
    "import tensorflow as tf\n",
    "import tensorflow_hub as hub\n",
    "#import tensorflow_text as text"
   ]
  },
  {
   "cell_type": "code",
   "execution_count": 2,
   "id": "0f6c70da",
   "metadata": {},
   "outputs": [],
   "source": [
    "import requests\n",
    "from bs4 import BeautifulSoup\n",
    "import re"
   ]
  },
  {
   "cell_type": "code",
   "execution_count": null,
   "id": "870d3311",
   "metadata": {},
   "outputs": [],
   "source": []
  },
  {
   "cell_type": "markdown",
   "id": "ca450878",
   "metadata": {},
   "source": [
    "## Election Ads"
   ]
  },
  {
   "cell_type": "code",
   "execution_count": 3,
   "id": "996b26f5",
   "metadata": {},
   "outputs": [
    {
     "data": {
      "text/html": [
       "<div>\n",
       "<style scoped>\n",
       "    .dataframe tbody tr th:only-of-type {\n",
       "        vertical-align: middle;\n",
       "    }\n",
       "\n",
       "    .dataframe tbody tr th {\n",
       "        vertical-align: top;\n",
       "    }\n",
       "\n",
       "    .dataframe thead th {\n",
       "        text-align: right;\n",
       "    }\n",
       "</style>\n",
       "<table border=\"1\" class=\"dataframe\">\n",
       "  <thead>\n",
       "    <tr style=\"text-align: right;\">\n",
       "      <th></th>\n",
       "      <th>Unnamed: 0</th>\n",
       "      <th>Unnamed: 0.1</th>\n",
       "      <th>ad_creative_bodies</th>\n",
       "      <th>demographic_distribution</th>\n",
       "      <th>delivery_by_region</th>\n",
       "      <th>estimated_audience_size</th>\n",
       "      <th>spend</th>\n",
       "      <th>impressions</th>\n",
       "      <th>cumulative_impressions_by_region</th>\n",
       "      <th>cum_spend</th>\n",
       "      <th>sentiment</th>\n",
       "    </tr>\n",
       "  </thead>\n",
       "  <tbody>\n",
       "    <tr>\n",
       "      <th>0</th>\n",
       "      <td>0</td>\n",
       "      <td>0</td>\n",
       "      <td></td>\n",
       "      <td>[[{'percentage': '0.000876', 'age': '45-54', '...</td>\n",
       "      <td>[[{'percentage': '1', 'region': 'New York'}], ...</td>\n",
       "      <td>[{'lower_bound': '10001', 'upper_bound': '5000...</td>\n",
       "      <td>[{'lower_bound': '300', 'upper_bound': '399'},...</td>\n",
       "      <td>[{'lower_bound': '8000', 'upper_bound': '8999'...</td>\n",
       "      <td>{'New York': 28498.5, 'Georgia': 7999.0, 'Conn...</td>\n",
       "      <td>1347.5</td>\n",
       "      <td>POSITIVE</td>\n",
       "    </tr>\n",
       "    <tr>\n",
       "      <th>1</th>\n",
       "      <td>1</td>\n",
       "      <td>1</td>\n",
       "      <td>!!!The government cannot fight CORRUPTION - th...</td>\n",
       "      <td>[[{'percentage': '0.000933', 'age': '18-24', '...</td>\n",
       "      <td>[[{'percentage': '0.00185', 'region': 'Rhode I...</td>\n",
       "      <td>[{'lower_bound': '1000001'}]</td>\n",
       "      <td>[{'lower_bound': '0', 'upper_bound': '99'}]</td>\n",
       "      <td>[{'lower_bound': '1000', 'upper_bound': '1999'}]</td>\n",
       "      <td>{'Rhode Island': 1499.5, 'New York': 1499.5, '...</td>\n",
       "      <td>49.5</td>\n",
       "      <td>NEGATIVE</td>\n",
       "    </tr>\n",
       "    <tr>\n",
       "      <th>2</th>\n",
       "      <td>2</td>\n",
       "      <td>2</td>\n",
       "      <td>!!🚨Endorsement Alert🚨!! \\n\\nThank you Byron Po...</td>\n",
       "      <td>[[{'percentage': '0.004039', 'age': '65+', 'ge...</td>\n",
       "      <td>[[{'percentage': '0.002281', 'region': 'Unknow...</td>\n",
       "      <td>[{'lower_bound': '100001', 'upper_bound': '500...</td>\n",
       "      <td>[{'lower_bound': '100', 'upper_bound': '199'}]</td>\n",
       "      <td>[{'lower_bound': '2000', 'upper_bound': '2999'}]</td>\n",
       "      <td>{'Unknown': 2499.5, 'New Mexico': 2499.5}</td>\n",
       "      <td>149.5</td>\n",
       "      <td>POSITIVE</td>\n",
       "    </tr>\n",
       "    <tr>\n",
       "      <th>3</th>\n",
       "      <td>3</td>\n",
       "      <td>3</td>\n",
       "      <td>\" An astute CPA told me 45 years ago, Math nev...</td>\n",
       "      <td>[[{'percentage': '0.00112', 'age': '18-24', 'g...</td>\n",
       "      <td>[[{'percentage': '1', 'region': 'Ohio'}], [{'p...</td>\n",
       "      <td>[{'lower_bound': '100001', 'upper_bound': '500...</td>\n",
       "      <td>[{'lower_bound': '0', 'upper_bound': '99'}, {'...</td>\n",
       "      <td>[{'lower_bound': '2000', 'upper_bound': '2999'...</td>\n",
       "      <td>{'Ohio': 5999.0}</td>\n",
       "      <td>99.0</td>\n",
       "      <td>POSITIVE</td>\n",
       "    </tr>\n",
       "    <tr>\n",
       "      <th>4</th>\n",
       "      <td>4</td>\n",
       "      <td>4</td>\n",
       "      <td>\"....Framingham should not go back to the ways...</td>\n",
       "      <td>[[{'percentage': '0.004255', 'age': '45-54', '...</td>\n",
       "      <td>[[{'percentage': '1', 'region': 'Massachusetts...</td>\n",
       "      <td>[{'lower_bound': '50001', 'upper_bound': '1000...</td>\n",
       "      <td>[{'lower_bound': '0', 'upper_bound': '99'}, {'...</td>\n",
       "      <td>[{'lower_bound': '0', 'upper_bound': '999'}, {...</td>\n",
       "      <td>{'Massachusetts': 999.0, 'Connecticut': 499.5,...</td>\n",
       "      <td>99.0</td>\n",
       "      <td>POSITIVE</td>\n",
       "    </tr>\n",
       "  </tbody>\n",
       "</table>\n",
       "</div>"
      ],
      "text/plain": [
       "   Unnamed: 0  Unnamed: 0.1  \\\n",
       "0           0             0   \n",
       "1           1             1   \n",
       "2           2             2   \n",
       "3           3             3   \n",
       "4           4             4   \n",
       "\n",
       "                                  ad_creative_bodies  \\\n",
       "0                                                      \n",
       "1  !!!The government cannot fight CORRUPTION - th...   \n",
       "2  !!🚨Endorsement Alert🚨!! \\n\\nThank you Byron Po...   \n",
       "3  \" An astute CPA told me 45 years ago, Math nev...   \n",
       "4  \"....Framingham should not go back to the ways...   \n",
       "\n",
       "                            demographic_distribution  \\\n",
       "0  [[{'percentage': '0.000876', 'age': '45-54', '...   \n",
       "1  [[{'percentage': '0.000933', 'age': '18-24', '...   \n",
       "2  [[{'percentage': '0.004039', 'age': '65+', 'ge...   \n",
       "3  [[{'percentage': '0.00112', 'age': '18-24', 'g...   \n",
       "4  [[{'percentage': '0.004255', 'age': '45-54', '...   \n",
       "\n",
       "                                  delivery_by_region  \\\n",
       "0  [[{'percentage': '1', 'region': 'New York'}], ...   \n",
       "1  [[{'percentage': '0.00185', 'region': 'Rhode I...   \n",
       "2  [[{'percentage': '0.002281', 'region': 'Unknow...   \n",
       "3  [[{'percentage': '1', 'region': 'Ohio'}], [{'p...   \n",
       "4  [[{'percentage': '1', 'region': 'Massachusetts...   \n",
       "\n",
       "                             estimated_audience_size  \\\n",
       "0  [{'lower_bound': '10001', 'upper_bound': '5000...   \n",
       "1                       [{'lower_bound': '1000001'}]   \n",
       "2  [{'lower_bound': '100001', 'upper_bound': '500...   \n",
       "3  [{'lower_bound': '100001', 'upper_bound': '500...   \n",
       "4  [{'lower_bound': '50001', 'upper_bound': '1000...   \n",
       "\n",
       "                                               spend  \\\n",
       "0  [{'lower_bound': '300', 'upper_bound': '399'},...   \n",
       "1        [{'lower_bound': '0', 'upper_bound': '99'}]   \n",
       "2     [{'lower_bound': '100', 'upper_bound': '199'}]   \n",
       "3  [{'lower_bound': '0', 'upper_bound': '99'}, {'...   \n",
       "4  [{'lower_bound': '0', 'upper_bound': '99'}, {'...   \n",
       "\n",
       "                                         impressions  \\\n",
       "0  [{'lower_bound': '8000', 'upper_bound': '8999'...   \n",
       "1   [{'lower_bound': '1000', 'upper_bound': '1999'}]   \n",
       "2   [{'lower_bound': '2000', 'upper_bound': '2999'}]   \n",
       "3  [{'lower_bound': '2000', 'upper_bound': '2999'...   \n",
       "4  [{'lower_bound': '0', 'upper_bound': '999'}, {...   \n",
       "\n",
       "                    cumulative_impressions_by_region  cum_spend sentiment  \n",
       "0  {'New York': 28498.5, 'Georgia': 7999.0, 'Conn...     1347.5  POSITIVE  \n",
       "1  {'Rhode Island': 1499.5, 'New York': 1499.5, '...       49.5  NEGATIVE  \n",
       "2          {'Unknown': 2499.5, 'New Mexico': 2499.5}      149.5  POSITIVE  \n",
       "3                                   {'Ohio': 5999.0}       99.0  POSITIVE  \n",
       "4  {'Massachusetts': 999.0, 'Connecticut': 499.5,...       99.0  POSITIVE  "
      ]
     },
     "execution_count": 3,
     "metadata": {},
     "output_type": "execute_result"
    }
   ],
   "source": [
    "#new_df = pd.read_csv('emily.csv.crdownload')\n",
    "new_df = pd.read_csv('election_sentiment.csv')\n",
    "new_df.head()"
   ]
  },
  {
   "cell_type": "markdown",
   "id": "c72bc5d3",
   "metadata": {},
   "source": [
    "## Election Ads - Sentiment Analysis"
   ]
  },
  {
   "cell_type": "code",
   "execution_count": 4,
   "id": "e09d6a27",
   "metadata": {},
   "outputs": [],
   "source": [
    "def find_label(x):\n",
    "    for class_dict in classifier(x[:512]):\n",
    "        return(class_dict['label'])"
   ]
  },
  {
   "cell_type": "code",
   "execution_count": 5,
   "id": "3b2cc8ae",
   "metadata": {},
   "outputs": [
    {
     "name": "stderr",
     "output_type": "stream",
     "text": [
      "No model was supplied, defaulted to distilbert-base-uncased-finetuned-sst-2-english (https://huggingface.co/distilbert-base-uncased-finetuned-sst-2-english)\n",
      "2022-05-06 16:01:26.581177: I tensorflow/core/platform/cpu_feature_guard.cc:142] This TensorFlow binary is optimized with oneAPI Deep Neural Network Library (oneDNN)to use the following CPU instructions in performance-critical operations:  AVX2 FMA\n",
      "To enable them in other operations, rebuild TensorFlow with the appropriate compiler flags.\n",
      "2022-05-06 16:01:26.636334: I tensorflow/compiler/xla/service/service.cc:168] XLA service 0x7fbada53eb90 initialized for platform Host (this does not guarantee that XLA will be used). Devices:\n",
      "2022-05-06 16:01:26.636360: I tensorflow/compiler/xla/service/service.cc:176]   StreamExecutor device (0): Host, Default Version\n",
      "2022-05-06 16:01:26.676167: W tensorflow/python/util/util.cc:348] Sets are not currently considered sequences, but this may change in the future, so consider avoiding using them.\n",
      "All model checkpoint layers were used when initializing TFDistilBertForSequenceClassification.\n",
      "\n",
      "All the layers of TFDistilBertForSequenceClassification were initialized from the model checkpoint at distilbert-base-uncased-finetuned-sst-2-english.\n",
      "If your task is similar to the task the model of the checkpoint was trained on, you can already use TFDistilBertForSequenceClassification for predictions without further training.\n"
     ]
    }
   ],
   "source": [
    "classifier = pipeline(\"sentiment-analysis\")"
   ]
  },
  {
   "cell_type": "code",
   "execution_count": 6,
   "id": "fa122755",
   "metadata": {},
   "outputs": [],
   "source": [
    "#new_df['sentiment'] = new_df.get('ad_creative_bodies').apply(find_label)\n",
    "new_df['cumulative_impressions_by_region'] = new_df['cumulative_impressions_by_region'].apply(ast.literal_eval)"
   ]
  },
  {
   "cell_type": "code",
   "execution_count": 7,
   "id": "63faa675",
   "metadata": {},
   "outputs": [
    {
     "data": {
      "text/html": [
       "<div>\n",
       "<style scoped>\n",
       "    .dataframe tbody tr th:only-of-type {\n",
       "        vertical-align: middle;\n",
       "    }\n",
       "\n",
       "    .dataframe tbody tr th {\n",
       "        vertical-align: top;\n",
       "    }\n",
       "\n",
       "    .dataframe thead th {\n",
       "        text-align: right;\n",
       "    }\n",
       "</style>\n",
       "<table border=\"1\" class=\"dataframe\">\n",
       "  <thead>\n",
       "    <tr style=\"text-align: right;\">\n",
       "      <th></th>\n",
       "      <th>Unnamed: 0</th>\n",
       "      <th>Unnamed: 0.1</th>\n",
       "      <th>ad_creative_bodies</th>\n",
       "      <th>demographic_distribution</th>\n",
       "      <th>delivery_by_region</th>\n",
       "      <th>estimated_audience_size</th>\n",
       "      <th>spend</th>\n",
       "      <th>impressions</th>\n",
       "      <th>cumulative_impressions_by_region</th>\n",
       "      <th>cum_spend</th>\n",
       "      <th>sentiment</th>\n",
       "    </tr>\n",
       "  </thead>\n",
       "  <tbody>\n",
       "    <tr>\n",
       "      <th>0</th>\n",
       "      <td>0</td>\n",
       "      <td>0</td>\n",
       "      <td></td>\n",
       "      <td>[[{'percentage': '0.000876', 'age': '45-54', '...</td>\n",
       "      <td>[[{'percentage': '1', 'region': 'New York'}], ...</td>\n",
       "      <td>[{'lower_bound': '10001', 'upper_bound': '5000...</td>\n",
       "      <td>[{'lower_bound': '300', 'upper_bound': '399'},...</td>\n",
       "      <td>[{'lower_bound': '8000', 'upper_bound': '8999'...</td>\n",
       "      <td>{'New York': 28498.5, 'Georgia': 7999.0, 'Conn...</td>\n",
       "      <td>1347.5</td>\n",
       "      <td>POSITIVE</td>\n",
       "    </tr>\n",
       "    <tr>\n",
       "      <th>1</th>\n",
       "      <td>1</td>\n",
       "      <td>1</td>\n",
       "      <td>!!!The government cannot fight CORRUPTION - th...</td>\n",
       "      <td>[[{'percentage': '0.000933', 'age': '18-24', '...</td>\n",
       "      <td>[[{'percentage': '0.00185', 'region': 'Rhode I...</td>\n",
       "      <td>[{'lower_bound': '1000001'}]</td>\n",
       "      <td>[{'lower_bound': '0', 'upper_bound': '99'}]</td>\n",
       "      <td>[{'lower_bound': '1000', 'upper_bound': '1999'}]</td>\n",
       "      <td>{'Rhode Island': 1499.5, 'New York': 1499.5, '...</td>\n",
       "      <td>49.5</td>\n",
       "      <td>NEGATIVE</td>\n",
       "    </tr>\n",
       "    <tr>\n",
       "      <th>2</th>\n",
       "      <td>2</td>\n",
       "      <td>2</td>\n",
       "      <td>!!🚨Endorsement Alert🚨!! \\n\\nThank you Byron Po...</td>\n",
       "      <td>[[{'percentage': '0.004039', 'age': '65+', 'ge...</td>\n",
       "      <td>[[{'percentage': '0.002281', 'region': 'Unknow...</td>\n",
       "      <td>[{'lower_bound': '100001', 'upper_bound': '500...</td>\n",
       "      <td>[{'lower_bound': '100', 'upper_bound': '199'}]</td>\n",
       "      <td>[{'lower_bound': '2000', 'upper_bound': '2999'}]</td>\n",
       "      <td>{'Unknown': 2499.5, 'New Mexico': 2499.5}</td>\n",
       "      <td>149.5</td>\n",
       "      <td>POSITIVE</td>\n",
       "    </tr>\n",
       "    <tr>\n",
       "      <th>3</th>\n",
       "      <td>3</td>\n",
       "      <td>3</td>\n",
       "      <td>\" An astute CPA told me 45 years ago, Math nev...</td>\n",
       "      <td>[[{'percentage': '0.00112', 'age': '18-24', 'g...</td>\n",
       "      <td>[[{'percentage': '1', 'region': 'Ohio'}], [{'p...</td>\n",
       "      <td>[{'lower_bound': '100001', 'upper_bound': '500...</td>\n",
       "      <td>[{'lower_bound': '0', 'upper_bound': '99'}, {'...</td>\n",
       "      <td>[{'lower_bound': '2000', 'upper_bound': '2999'...</td>\n",
       "      <td>{'Ohio': 5999.0}</td>\n",
       "      <td>99.0</td>\n",
       "      <td>POSITIVE</td>\n",
       "    </tr>\n",
       "    <tr>\n",
       "      <th>4</th>\n",
       "      <td>4</td>\n",
       "      <td>4</td>\n",
       "      <td>\"....Framingham should not go back to the ways...</td>\n",
       "      <td>[[{'percentage': '0.004255', 'age': '45-54', '...</td>\n",
       "      <td>[[{'percentage': '1', 'region': 'Massachusetts...</td>\n",
       "      <td>[{'lower_bound': '50001', 'upper_bound': '1000...</td>\n",
       "      <td>[{'lower_bound': '0', 'upper_bound': '99'}, {'...</td>\n",
       "      <td>[{'lower_bound': '0', 'upper_bound': '999'}, {...</td>\n",
       "      <td>{'Massachusetts': 999.0, 'Connecticut': 499.5,...</td>\n",
       "      <td>99.0</td>\n",
       "      <td>POSITIVE</td>\n",
       "    </tr>\n",
       "  </tbody>\n",
       "</table>\n",
       "</div>"
      ],
      "text/plain": [
       "   Unnamed: 0  Unnamed: 0.1  \\\n",
       "0           0             0   \n",
       "1           1             1   \n",
       "2           2             2   \n",
       "3           3             3   \n",
       "4           4             4   \n",
       "\n",
       "                                  ad_creative_bodies  \\\n",
       "0                                                      \n",
       "1  !!!The government cannot fight CORRUPTION - th...   \n",
       "2  !!🚨Endorsement Alert🚨!! \\n\\nThank you Byron Po...   \n",
       "3  \" An astute CPA told me 45 years ago, Math nev...   \n",
       "4  \"....Framingham should not go back to the ways...   \n",
       "\n",
       "                            demographic_distribution  \\\n",
       "0  [[{'percentage': '0.000876', 'age': '45-54', '...   \n",
       "1  [[{'percentage': '0.000933', 'age': '18-24', '...   \n",
       "2  [[{'percentage': '0.004039', 'age': '65+', 'ge...   \n",
       "3  [[{'percentage': '0.00112', 'age': '18-24', 'g...   \n",
       "4  [[{'percentage': '0.004255', 'age': '45-54', '...   \n",
       "\n",
       "                                  delivery_by_region  \\\n",
       "0  [[{'percentage': '1', 'region': 'New York'}], ...   \n",
       "1  [[{'percentage': '0.00185', 'region': 'Rhode I...   \n",
       "2  [[{'percentage': '0.002281', 'region': 'Unknow...   \n",
       "3  [[{'percentage': '1', 'region': 'Ohio'}], [{'p...   \n",
       "4  [[{'percentage': '1', 'region': 'Massachusetts...   \n",
       "\n",
       "                             estimated_audience_size  \\\n",
       "0  [{'lower_bound': '10001', 'upper_bound': '5000...   \n",
       "1                       [{'lower_bound': '1000001'}]   \n",
       "2  [{'lower_bound': '100001', 'upper_bound': '500...   \n",
       "3  [{'lower_bound': '100001', 'upper_bound': '500...   \n",
       "4  [{'lower_bound': '50001', 'upper_bound': '1000...   \n",
       "\n",
       "                                               spend  \\\n",
       "0  [{'lower_bound': '300', 'upper_bound': '399'},...   \n",
       "1        [{'lower_bound': '0', 'upper_bound': '99'}]   \n",
       "2     [{'lower_bound': '100', 'upper_bound': '199'}]   \n",
       "3  [{'lower_bound': '0', 'upper_bound': '99'}, {'...   \n",
       "4  [{'lower_bound': '0', 'upper_bound': '99'}, {'...   \n",
       "\n",
       "                                         impressions  \\\n",
       "0  [{'lower_bound': '8000', 'upper_bound': '8999'...   \n",
       "1   [{'lower_bound': '1000', 'upper_bound': '1999'}]   \n",
       "2   [{'lower_bound': '2000', 'upper_bound': '2999'}]   \n",
       "3  [{'lower_bound': '2000', 'upper_bound': '2999'...   \n",
       "4  [{'lower_bound': '0', 'upper_bound': '999'}, {...   \n",
       "\n",
       "                    cumulative_impressions_by_region  cum_spend sentiment  \n",
       "0  {'New York': 28498.5, 'Georgia': 7999.0, 'Conn...     1347.5  POSITIVE  \n",
       "1  {'Rhode Island': 1499.5, 'New York': 1499.5, '...       49.5  NEGATIVE  \n",
       "2          {'Unknown': 2499.5, 'New Mexico': 2499.5}      149.5  POSITIVE  \n",
       "3                                   {'Ohio': 5999.0}       99.0  POSITIVE  \n",
       "4  {'Massachusetts': 999.0, 'Connecticut': 499.5,...       99.0  POSITIVE  "
      ]
     },
     "execution_count": 7,
     "metadata": {},
     "output_type": "execute_result"
    }
   ],
   "source": [
    "new_df.head()"
   ]
  },
  {
   "cell_type": "code",
   "execution_count": 8,
   "id": "fc13d578",
   "metadata": {},
   "outputs": [],
   "source": [
    "#new_df.to_csv('election_sentiment.csv')"
   ]
  },
  {
   "cell_type": "markdown",
   "id": "33c73ac4",
   "metadata": {},
   "source": [
    "# Visualizing Positive Election Ads"
   ]
  },
  {
   "cell_type": "code",
   "execution_count": 9,
   "id": "4b7c5fed",
   "metadata": {},
   "outputs": [],
   "source": [
    "us_states = ['Alabama', 'Alaska', 'Arizona', 'Arkansas', 'California', 'Colorado', 'Connecticut', 'Washington, District of Columbia', 'Delaware', 'Florida', 'Georgia', 'Hawaii', 'Idaho', 'Illinois', 'Indiana', 'Iowa', 'Kansas', 'Kentucky', 'Louisiana', 'Maine', 'Maryland', 'Massachusetts', 'Michigan', 'Minnesota', 'Mississippi', 'Missouri', 'Montana', 'Nebraska', 'Nevada', 'New Hampshire', 'New Jersey', 'New Mexico', 'New York', 'North Carolina', 'North Dakota', 'Ohio', 'Oklahoma', 'Oregon', 'Pennsylvania', 'Rhode Island', 'South Carolina', 'South Dakota', 'Tennessee', 'Texas', 'Utah', 'Vermont', 'Virginia', 'Washington', 'West Virginia', 'Wisconsin', 'Wyoming']"
   ]
  },
  {
   "cell_type": "code",
   "execution_count": 10,
   "id": "b53e9063",
   "metadata": {},
   "outputs": [
    {
     "name": "stdout",
     "output_type": "stream",
     "text": [
      "11737\n"
     ]
    }
   ],
   "source": [
    "df_list = []\n",
    "for index, row in new_df.iterrows():\n",
    "    curr_dict = row['cumulative_impressions_by_region']\n",
    "    d = pd.DataFrame({'region': curr_dict.keys(), 'impressions': curr_dict.values()})\n",
    "    d['sentiment'] = row['sentiment']\n",
    "    df_list.append(d)\n",
    "print(len(df_list))"
   ]
  },
  {
   "cell_type": "code",
   "execution_count": 11,
   "id": "283342f0",
   "metadata": {},
   "outputs": [
    {
     "data": {
      "text/html": [
       "<div>\n",
       "<style scoped>\n",
       "    .dataframe tbody tr th:only-of-type {\n",
       "        vertical-align: middle;\n",
       "    }\n",
       "\n",
       "    .dataframe tbody tr th {\n",
       "        vertical-align: top;\n",
       "    }\n",
       "\n",
       "    .dataframe thead th {\n",
       "        text-align: right;\n",
       "    }\n",
       "</style>\n",
       "<table border=\"1\" class=\"dataframe\">\n",
       "  <thead>\n",
       "    <tr style=\"text-align: right;\">\n",
       "      <th></th>\n",
       "      <th>region</th>\n",
       "      <th>impressions</th>\n",
       "      <th>sentiment</th>\n",
       "    </tr>\n",
       "  </thead>\n",
       "  <tbody>\n",
       "    <tr>\n",
       "      <th>0</th>\n",
       "      <td>New York</td>\n",
       "      <td>28498.5</td>\n",
       "      <td>POSITIVE</td>\n",
       "    </tr>\n",
       "    <tr>\n",
       "      <th>1</th>\n",
       "      <td>Georgia</td>\n",
       "      <td>7999.0</td>\n",
       "      <td>POSITIVE</td>\n",
       "    </tr>\n",
       "    <tr>\n",
       "      <th>2</th>\n",
       "      <td>Connecticut</td>\n",
       "      <td>74999.5</td>\n",
       "      <td>POSITIVE</td>\n",
       "    </tr>\n",
       "    <tr>\n",
       "      <th>3</th>\n",
       "      <td>Massachusetts</td>\n",
       "      <td>74999.5</td>\n",
       "      <td>POSITIVE</td>\n",
       "    </tr>\n",
       "    <tr>\n",
       "      <th>4</th>\n",
       "      <td>Alaska</td>\n",
       "      <td>2499.5</td>\n",
       "      <td>POSITIVE</td>\n",
       "    </tr>\n",
       "  </tbody>\n",
       "</table>\n",
       "</div>"
      ],
      "text/plain": [
       "          region  impressions sentiment\n",
       "0       New York      28498.5  POSITIVE\n",
       "1        Georgia       7999.0  POSITIVE\n",
       "2    Connecticut      74999.5  POSITIVE\n",
       "3  Massachusetts      74999.5  POSITIVE\n",
       "4         Alaska       2499.5  POSITIVE"
      ]
     },
     "execution_count": 11,
     "metadata": {},
     "output_type": "execute_result"
    }
   ],
   "source": [
    "positive_df = pd.concat(df_list, ignore_index = True)\n",
    "positive_df = positive_df[positive_df['sentiment'] == 'POSITIVE']\n",
    "positive_df.head()"
   ]
  },
  {
   "cell_type": "code",
   "execution_count": 12,
   "id": "cf73e79e",
   "metadata": {},
   "outputs": [
    {
     "data": {
      "text/plain": [
       "(83603, 3)"
      ]
     },
     "execution_count": 12,
     "metadata": {},
     "output_type": "execute_result"
    }
   ],
   "source": [
    "positive_df.shape"
   ]
  },
  {
   "cell_type": "code",
   "execution_count": 13,
   "id": "b2a9905f",
   "metadata": {},
   "outputs": [
    {
     "data": {
      "text/html": [
       "<div>\n",
       "<style scoped>\n",
       "    .dataframe tbody tr th:only-of-type {\n",
       "        vertical-align: middle;\n",
       "    }\n",
       "\n",
       "    .dataframe tbody tr th {\n",
       "        vertical-align: top;\n",
       "    }\n",
       "\n",
       "    .dataframe thead th {\n",
       "        text-align: right;\n",
       "    }\n",
       "</style>\n",
       "<table border=\"1\" class=\"dataframe\">\n",
       "  <thead>\n",
       "    <tr style=\"text-align: right;\">\n",
       "      <th></th>\n",
       "      <th>region</th>\n",
       "      <th>impressions</th>\n",
       "    </tr>\n",
       "  </thead>\n",
       "  <tbody>\n",
       "    <tr>\n",
       "      <th>21</th>\n",
       "      <td>Alabama</td>\n",
       "      <td>72297671.5</td>\n",
       "    </tr>\n",
       "    <tr>\n",
       "      <th>22</th>\n",
       "      <td>Alaska</td>\n",
       "      <td>67060064.5</td>\n",
       "    </tr>\n",
       "    <tr>\n",
       "      <th>42</th>\n",
       "      <td>Arizona</td>\n",
       "      <td>75921804.0</td>\n",
       "    </tr>\n",
       "    <tr>\n",
       "      <th>43</th>\n",
       "      <td>Arkansas</td>\n",
       "      <td>70117770.5</td>\n",
       "    </tr>\n",
       "    <tr>\n",
       "      <th>129</th>\n",
       "      <td>California</td>\n",
       "      <td>83010087.0</td>\n",
       "    </tr>\n",
       "  </tbody>\n",
       "</table>\n",
       "</div>"
      ],
      "text/plain": [
       "         region  impressions\n",
       "21      Alabama   72297671.5\n",
       "22       Alaska   67060064.5\n",
       "42      Arizona   75921804.0\n",
       "43     Arkansas   70117770.5\n",
       "129  California   83010087.0"
      ]
     },
     "execution_count": 13,
     "metadata": {},
     "output_type": "execute_result"
    }
   ],
   "source": [
    "positive_df = positive_df.groupby('region').sum().reset_index()\n",
    "positive_df = positive_df[positive_df.get('region').isin(us_states) == True]\n",
    "positive_df.head()"
   ]
  },
  {
   "cell_type": "code",
   "execution_count": 14,
   "id": "872c8d26",
   "metadata": {},
   "outputs": [
    {
     "data": {
      "text/html": [
       "<div>\n",
       "<style scoped>\n",
       "    .dataframe tbody tr th:only-of-type {\n",
       "        vertical-align: middle;\n",
       "    }\n",
       "\n",
       "    .dataframe tbody tr th {\n",
       "        vertical-align: top;\n",
       "    }\n",
       "\n",
       "    .dataframe thead th {\n",
       "        text-align: right;\n",
       "    }\n",
       "</style>\n",
       "<table border=\"1\" class=\"dataframe\">\n",
       "  <thead>\n",
       "    <tr style=\"text-align: right;\">\n",
       "      <th></th>\n",
       "      <th>Unnamed: 0</th>\n",
       "      <th>NAME</th>\n",
       "      <th>POPESTIMATE2020</th>\n",
       "      <th>POPESTIMATE2021</th>\n",
       "    </tr>\n",
       "  </thead>\n",
       "  <tbody>\n",
       "    <tr>\n",
       "      <th>5</th>\n",
       "      <td>5</td>\n",
       "      <td>Alabama</td>\n",
       "      <td>5024803</td>\n",
       "      <td>5039877</td>\n",
       "    </tr>\n",
       "    <tr>\n",
       "      <th>6</th>\n",
       "      <td>6</td>\n",
       "      <td>Alaska</td>\n",
       "      <td>732441</td>\n",
       "      <td>732673</td>\n",
       "    </tr>\n",
       "    <tr>\n",
       "      <th>7</th>\n",
       "      <td>7</td>\n",
       "      <td>Arizona</td>\n",
       "      <td>7177986</td>\n",
       "      <td>7276316</td>\n",
       "    </tr>\n",
       "    <tr>\n",
       "      <th>8</th>\n",
       "      <td>8</td>\n",
       "      <td>Arkansas</td>\n",
       "      <td>3012232</td>\n",
       "      <td>3025891</td>\n",
       "    </tr>\n",
       "    <tr>\n",
       "      <th>9</th>\n",
       "      <td>9</td>\n",
       "      <td>California</td>\n",
       "      <td>39499738</td>\n",
       "      <td>39237836</td>\n",
       "    </tr>\n",
       "  </tbody>\n",
       "</table>\n",
       "</div>"
      ],
      "text/plain": [
       "   Unnamed: 0        NAME  POPESTIMATE2020  POPESTIMATE2021\n",
       "5           5     Alabama          5024803          5039877\n",
       "6           6      Alaska           732441           732673\n",
       "7           7     Arizona          7177986          7276316\n",
       "8           8    Arkansas          3012232          3025891\n",
       "9           9  California         39499738         39237836"
      ]
     },
     "execution_count": 14,
     "metadata": {},
     "output_type": "execute_result"
    }
   ],
   "source": [
    "census = pd.read_csv('censusdata.csv')\n",
    "census = census[census['NAME'].isin(us_states)]\n",
    "census.head()"
   ]
  },
  {
   "cell_type": "code",
   "execution_count": 15,
   "id": "e5bff5f5",
   "metadata": {},
   "outputs": [
    {
     "data": {
      "text/html": [
       "<div>\n",
       "<style scoped>\n",
       "    .dataframe tbody tr th:only-of-type {\n",
       "        vertical-align: middle;\n",
       "    }\n",
       "\n",
       "    .dataframe tbody tr th {\n",
       "        vertical-align: top;\n",
       "    }\n",
       "\n",
       "    .dataframe thead th {\n",
       "        text-align: right;\n",
       "    }\n",
       "</style>\n",
       "<table border=\"1\" class=\"dataframe\">\n",
       "  <thead>\n",
       "    <tr style=\"text-align: right;\">\n",
       "      <th></th>\n",
       "      <th>region</th>\n",
       "      <th>impressions</th>\n",
       "      <th>Unnamed: 0</th>\n",
       "      <th>NAME</th>\n",
       "      <th>POPESTIMATE2020</th>\n",
       "      <th>POPESTIMATE2021</th>\n",
       "    </tr>\n",
       "  </thead>\n",
       "  <tbody>\n",
       "    <tr>\n",
       "      <th>0</th>\n",
       "      <td>Alabama</td>\n",
       "      <td>72297671.5</td>\n",
       "      <td>5.0</td>\n",
       "      <td>Alabama</td>\n",
       "      <td>5024803.0</td>\n",
       "      <td>5039877.0</td>\n",
       "    </tr>\n",
       "    <tr>\n",
       "      <th>1</th>\n",
       "      <td>Alaska</td>\n",
       "      <td>67060064.5</td>\n",
       "      <td>6.0</td>\n",
       "      <td>Alaska</td>\n",
       "      <td>732441.0</td>\n",
       "      <td>732673.0</td>\n",
       "    </tr>\n",
       "    <tr>\n",
       "      <th>2</th>\n",
       "      <td>Arizona</td>\n",
       "      <td>75921804.0</td>\n",
       "      <td>7.0</td>\n",
       "      <td>Arizona</td>\n",
       "      <td>7177986.0</td>\n",
       "      <td>7276316.0</td>\n",
       "    </tr>\n",
       "    <tr>\n",
       "      <th>3</th>\n",
       "      <td>Arkansas</td>\n",
       "      <td>70117770.5</td>\n",
       "      <td>8.0</td>\n",
       "      <td>Arkansas</td>\n",
       "      <td>3012232.0</td>\n",
       "      <td>3025891.0</td>\n",
       "    </tr>\n",
       "    <tr>\n",
       "      <th>4</th>\n",
       "      <td>California</td>\n",
       "      <td>83010087.0</td>\n",
       "      <td>9.0</td>\n",
       "      <td>California</td>\n",
       "      <td>39499738.0</td>\n",
       "      <td>39237836.0</td>\n",
       "    </tr>\n",
       "  </tbody>\n",
       "</table>\n",
       "</div>"
      ],
      "text/plain": [
       "       region  impressions  Unnamed: 0        NAME  POPESTIMATE2020  \\\n",
       "0     Alabama   72297671.5         5.0     Alabama        5024803.0   \n",
       "1      Alaska   67060064.5         6.0      Alaska         732441.0   \n",
       "2     Arizona   75921804.0         7.0     Arizona        7177986.0   \n",
       "3    Arkansas   70117770.5         8.0    Arkansas        3012232.0   \n",
       "4  California   83010087.0         9.0  California       39499738.0   \n",
       "\n",
       "   POPESTIMATE2021  \n",
       "0        5039877.0  \n",
       "1         732673.0  \n",
       "2        7276316.0  \n",
       "3        3025891.0  \n",
       "4       39237836.0  "
      ]
     },
     "execution_count": 15,
     "metadata": {},
     "output_type": "execute_result"
    }
   ],
   "source": [
    "# standardizing\n",
    "positive_df = positive_df.merge(census, left_on = 'region', right_on = 'NAME', how = 'outer')\n",
    "positive_df.head()"
   ]
  },
  {
   "cell_type": "code",
   "execution_count": 16,
   "id": "f9492aca",
   "metadata": {},
   "outputs": [
    {
     "data": {
      "text/plain": [
       "(51, 6)"
      ]
     },
     "execution_count": 16,
     "metadata": {},
     "output_type": "execute_result"
    }
   ],
   "source": [
    "positive_df.shape"
   ]
  },
  {
   "cell_type": "code",
   "execution_count": 17,
   "id": "c6bc37d9",
   "metadata": {},
   "outputs": [
    {
     "name": "stderr",
     "output_type": "stream",
     "text": [
      "/Users/emilychen/opt/anaconda3/envs/fbads/lib/python3.7/site-packages/pandas/core/indexing.py:1732: SettingWithCopyWarning: \n",
      "A value is trying to be set on a copy of a slice from a DataFrame\n",
      "\n",
      "See the caveats in the documentation: https://pandas.pydata.org/pandas-docs/stable/user_guide/indexing.html#returning-a-view-versus-a-copy\n",
      "  self._setitem_single_block(indexer, value, name)\n"
     ]
    }
   ],
   "source": [
    "positive_df.get('region').iloc[47] = 'District of Columbia'\n",
    "positive_df.sort_values(by = 'region', inplace = True)"
   ]
  },
  {
   "cell_type": "code",
   "execution_count": 18,
   "id": "2c7e4910",
   "metadata": {},
   "outputs": [
    {
     "data": {
      "text/html": [
       "<div>\n",
       "<style scoped>\n",
       "    .dataframe tbody tr th:only-of-type {\n",
       "        vertical-align: middle;\n",
       "    }\n",
       "\n",
       "    .dataframe tbody tr th {\n",
       "        vertical-align: top;\n",
       "    }\n",
       "\n",
       "    .dataframe thead th {\n",
       "        text-align: right;\n",
       "    }\n",
       "</style>\n",
       "<table border=\"1\" class=\"dataframe\">\n",
       "  <thead>\n",
       "    <tr style=\"text-align: right;\">\n",
       "      <th></th>\n",
       "      <th>region</th>\n",
       "      <th>impressions</th>\n",
       "      <th>Unnamed: 0</th>\n",
       "      <th>NAME</th>\n",
       "      <th>POPESTIMATE2020</th>\n",
       "      <th>POPESTIMATE2021</th>\n",
       "      <th>id</th>\n",
       "    </tr>\n",
       "  </thead>\n",
       "  <tbody>\n",
       "    <tr>\n",
       "      <th>0</th>\n",
       "      <td>Alabama</td>\n",
       "      <td>72297671.5</td>\n",
       "      <td>5.0</td>\n",
       "      <td>Alabama</td>\n",
       "      <td>5024803.0</td>\n",
       "      <td>5039877.0</td>\n",
       "      <td>1</td>\n",
       "    </tr>\n",
       "    <tr>\n",
       "      <th>1</th>\n",
       "      <td>Alaska</td>\n",
       "      <td>67060064.5</td>\n",
       "      <td>6.0</td>\n",
       "      <td>Alaska</td>\n",
       "      <td>732441.0</td>\n",
       "      <td>732673.0</td>\n",
       "      <td>2</td>\n",
       "    </tr>\n",
       "    <tr>\n",
       "      <th>2</th>\n",
       "      <td>Arizona</td>\n",
       "      <td>75921804.0</td>\n",
       "      <td>7.0</td>\n",
       "      <td>Arizona</td>\n",
       "      <td>7177986.0</td>\n",
       "      <td>7276316.0</td>\n",
       "      <td>4</td>\n",
       "    </tr>\n",
       "    <tr>\n",
       "      <th>3</th>\n",
       "      <td>Arkansas</td>\n",
       "      <td>70117770.5</td>\n",
       "      <td>8.0</td>\n",
       "      <td>Arkansas</td>\n",
       "      <td>3012232.0</td>\n",
       "      <td>3025891.0</td>\n",
       "      <td>5</td>\n",
       "    </tr>\n",
       "    <tr>\n",
       "      <th>4</th>\n",
       "      <td>California</td>\n",
       "      <td>83010087.0</td>\n",
       "      <td>9.0</td>\n",
       "      <td>California</td>\n",
       "      <td>39499738.0</td>\n",
       "      <td>39237836.0</td>\n",
       "      <td>6</td>\n",
       "    </tr>\n",
       "  </tbody>\n",
       "</table>\n",
       "</div>"
      ],
      "text/plain": [
       "       region  impressions  Unnamed: 0        NAME  POPESTIMATE2020  \\\n",
       "0     Alabama   72297671.5         5.0     Alabama        5024803.0   \n",
       "1      Alaska   67060064.5         6.0      Alaska         732441.0   \n",
       "2     Arizona   75921804.0         7.0     Arizona        7177986.0   \n",
       "3    Arkansas   70117770.5         8.0    Arkansas        3012232.0   \n",
       "4  California   83010087.0         9.0  California       39499738.0   \n",
       "\n",
       "   POPESTIMATE2021  id  \n",
       "0        5039877.0   1  \n",
       "1         732673.0   2  \n",
       "2        7276316.0   4  \n",
       "3        3025891.0   5  \n",
       "4       39237836.0   6  "
      ]
     },
     "execution_count": 18,
     "metadata": {},
     "output_type": "execute_result"
    }
   ],
   "source": [
    "import altair as alt\n",
    "import geopandas as gpd\n",
    "import json\n",
    "from vega_datasets import data\n",
    "pop = data.population_engineers_hurricanes()\n",
    "positive_df['id'] = list(pop.get('id'))[:-1]\n",
    "positive_df.head()"
   ]
  },
  {
   "cell_type": "code",
   "execution_count": 19,
   "id": "70473c7c",
   "metadata": {},
   "outputs": [
    {
     "data": {
      "text/plain": [
       "RendererRegistry.enable('default')"
      ]
     },
     "execution_count": 19,
     "metadata": {},
     "output_type": "execute_result"
    }
   ],
   "source": [
    "alt.renderers.enable('default')"
   ]
  },
  {
   "cell_type": "code",
   "execution_count": 20,
   "id": "3cb442ad",
   "metadata": {},
   "outputs": [
    {
     "data": {
      "text/html": [
       "\n",
       "<div id=\"altair-viz-20c193a9621f415c8808bc4f792f11fb\"></div>\n",
       "<script type=\"text/javascript\">\n",
       "  var VEGA_DEBUG = (typeof VEGA_DEBUG == \"undefined\") ? {} : VEGA_DEBUG;\n",
       "  (function(spec, embedOpt){\n",
       "    let outputDiv = document.currentScript.previousElementSibling;\n",
       "    if (outputDiv.id !== \"altair-viz-20c193a9621f415c8808bc4f792f11fb\") {\n",
       "      outputDiv = document.getElementById(\"altair-viz-20c193a9621f415c8808bc4f792f11fb\");\n",
       "    }\n",
       "    const paths = {\n",
       "      \"vega\": \"https://cdn.jsdelivr.net/npm//vega@5?noext\",\n",
       "      \"vega-lib\": \"https://cdn.jsdelivr.net/npm//vega-lib?noext\",\n",
       "      \"vega-lite\": \"https://cdn.jsdelivr.net/npm//vega-lite@4.17.0?noext\",\n",
       "      \"vega-embed\": \"https://cdn.jsdelivr.net/npm//vega-embed@6?noext\",\n",
       "    };\n",
       "\n",
       "    function maybeLoadScript(lib, version) {\n",
       "      var key = `${lib.replace(\"-\", \"\")}_version`;\n",
       "      return (VEGA_DEBUG[key] == version) ?\n",
       "        Promise.resolve(paths[lib]) :\n",
       "        new Promise(function(resolve, reject) {\n",
       "          var s = document.createElement('script');\n",
       "          document.getElementsByTagName(\"head\")[0].appendChild(s);\n",
       "          s.async = true;\n",
       "          s.onload = () => {\n",
       "            VEGA_DEBUG[key] = version;\n",
       "            return resolve(paths[lib]);\n",
       "          };\n",
       "          s.onerror = () => reject(`Error loading script: ${paths[lib]}`);\n",
       "          s.src = paths[lib];\n",
       "        });\n",
       "    }\n",
       "\n",
       "    function showError(err) {\n",
       "      outputDiv.innerHTML = `<div class=\"error\" style=\"color:red;\">${err}</div>`;\n",
       "      throw err;\n",
       "    }\n",
       "\n",
       "    function displayChart(vegaEmbed) {\n",
       "      vegaEmbed(outputDiv, spec, embedOpt)\n",
       "        .catch(err => showError(`Javascript Error: ${err.message}<br>This usually means there's a typo in your chart specification. See the javascript console for the full traceback.`));\n",
       "    }\n",
       "\n",
       "    if(typeof define === \"function\" && define.amd) {\n",
       "      requirejs.config({paths});\n",
       "      require([\"vega-embed\"], displayChart, err => showError(`Error loading script: ${err.message}`));\n",
       "    } else {\n",
       "      maybeLoadScript(\"vega\", \"5\")\n",
       "        .then(() => maybeLoadScript(\"vega-lite\", \"4.17.0\"))\n",
       "        .then(() => maybeLoadScript(\"vega-embed\", \"6\"))\n",
       "        .catch(showError)\n",
       "        .then(() => displayChart(vegaEmbed));\n",
       "    }\n",
       "  })({\"config\": {\"view\": {\"continuousWidth\": 400, \"continuousHeight\": 300}}, \"data\": {\"url\": \"https://cdn.jsdelivr.net/npm/vega-datasets@v1.29.0/data/us-10m.json\", \"format\": {\"feature\": \"states\", \"type\": \"topojson\"}}, \"mark\": {\"type\": \"geoshape\", \"fill\": \"lightgray\", \"stroke\": \"white\"}, \"height\": 300, \"projection\": {\"type\": \"albersUsa\"}, \"width\": 500, \"$schema\": \"https://vega.github.io/schema/vega-lite/v4.17.0.json\"}, {\"mode\": \"vega-lite\"});\n",
       "</script>"
      ],
      "text/plain": [
       "alt.Chart(...)"
      ]
     },
     "execution_count": 20,
     "metadata": {},
     "output_type": "execute_result"
    }
   ],
   "source": [
    "states = alt.topo_feature(data.us_10m.url, feature='states')\n",
    "\n",
    "alt.Chart(states).mark_geoshape(\n",
    "    fill='lightgray',\n",
    "    stroke='white'\n",
    ").project('albersUsa').properties(\n",
    "    width=500,\n",
    "    height=300\n",
    ")"
   ]
  },
  {
   "cell_type": "code",
   "execution_count": 21,
   "id": "17e836e8",
   "metadata": {},
   "outputs": [
    {
     "data": {
      "text/html": [
       "\n",
       "<div id=\"altair-viz-7c72d0f721d2424f89c56d470888f091\"></div>\n",
       "<script type=\"text/javascript\">\n",
       "  var VEGA_DEBUG = (typeof VEGA_DEBUG == \"undefined\") ? {} : VEGA_DEBUG;\n",
       "  (function(spec, embedOpt){\n",
       "    let outputDiv = document.currentScript.previousElementSibling;\n",
       "    if (outputDiv.id !== \"altair-viz-7c72d0f721d2424f89c56d470888f091\") {\n",
       "      outputDiv = document.getElementById(\"altair-viz-7c72d0f721d2424f89c56d470888f091\");\n",
       "    }\n",
       "    const paths = {\n",
       "      \"vega\": \"https://cdn.jsdelivr.net/npm//vega@5?noext\",\n",
       "      \"vega-lib\": \"https://cdn.jsdelivr.net/npm//vega-lib?noext\",\n",
       "      \"vega-lite\": \"https://cdn.jsdelivr.net/npm//vega-lite@4.17.0?noext\",\n",
       "      \"vega-embed\": \"https://cdn.jsdelivr.net/npm//vega-embed@6?noext\",\n",
       "    };\n",
       "\n",
       "    function maybeLoadScript(lib, version) {\n",
       "      var key = `${lib.replace(\"-\", \"\")}_version`;\n",
       "      return (VEGA_DEBUG[key] == version) ?\n",
       "        Promise.resolve(paths[lib]) :\n",
       "        new Promise(function(resolve, reject) {\n",
       "          var s = document.createElement('script');\n",
       "          document.getElementsByTagName(\"head\")[0].appendChild(s);\n",
       "          s.async = true;\n",
       "          s.onload = () => {\n",
       "            VEGA_DEBUG[key] = version;\n",
       "            return resolve(paths[lib]);\n",
       "          };\n",
       "          s.onerror = () => reject(`Error loading script: ${paths[lib]}`);\n",
       "          s.src = paths[lib];\n",
       "        });\n",
       "    }\n",
       "\n",
       "    function showError(err) {\n",
       "      outputDiv.innerHTML = `<div class=\"error\" style=\"color:red;\">${err}</div>`;\n",
       "      throw err;\n",
       "    }\n",
       "\n",
       "    function displayChart(vegaEmbed) {\n",
       "      vegaEmbed(outputDiv, spec, embedOpt)\n",
       "        .catch(err => showError(`Javascript Error: ${err.message}<br>This usually means there's a typo in your chart specification. See the javascript console for the full traceback.`));\n",
       "    }\n",
       "\n",
       "    if(typeof define === \"function\" && define.amd) {\n",
       "      requirejs.config({paths});\n",
       "      require([\"vega-embed\"], displayChart, err => showError(`Error loading script: ${err.message}`));\n",
       "    } else {\n",
       "      maybeLoadScript(\"vega\", \"5\")\n",
       "        .then(() => maybeLoadScript(\"vega-lite\", \"4.17.0\"))\n",
       "        .then(() => maybeLoadScript(\"vega-embed\", \"6\"))\n",
       "        .catch(showError)\n",
       "        .then(() => displayChart(vegaEmbed));\n",
       "    }\n",
       "  })({\"config\": {\"view\": {\"continuousWidth\": 400, \"continuousHeight\": 300}}, \"layer\": [{\"mark\": \"geoshape\", \"encoding\": {\"color\": {\"field\": \"impressions\", \"type\": \"quantitative\"}}, \"height\": 300, \"projection\": {\"type\": \"albersUsa\"}, \"title\": \"Cumulative Impressions: Positive Election Ads\", \"transform\": [{\"lookup\": \"id\", \"from\": {\"data\": {\"name\": \"data-a5bf19e6d20c955bbd88ee37b5f8aca5\"}, \"key\": \"id\", \"fields\": [\"region\", \"impressions\", \"Unnamed: 0\", \"NAME\", \"POPESTIMATE2020\", \"POPESTIMATE2021\", \"id\"]}}], \"width\": 500}, {\"mark\": {\"type\": \"geoshape\", \"fillOpacity\": 0, \"stroke\": \"black\"}, \"height\": 300, \"projection\": {\"type\": \"albersUsa\"}, \"width\": 500}], \"data\": {\"url\": \"https://cdn.jsdelivr.net/npm/vega-datasets@v1.29.0/data/us-10m.json\", \"format\": {\"feature\": \"states\", \"type\": \"topojson\"}}, \"$schema\": \"https://vega.github.io/schema/vega-lite/v4.17.0.json\", \"datasets\": {\"data-a5bf19e6d20c955bbd88ee37b5f8aca5\": [{\"region\": \"Alabama\", \"impressions\": 72297671.5, \"Unnamed: 0\": 5.0, \"NAME\": \"Alabama\", \"POPESTIMATE2020\": 5024803.0, \"POPESTIMATE2021\": 5039877.0, \"id\": 1}, {\"region\": \"Alaska\", \"impressions\": 67060064.5, \"Unnamed: 0\": 6.0, \"NAME\": \"Alaska\", \"POPESTIMATE2020\": 732441.0, \"POPESTIMATE2021\": 732673.0, \"id\": 2}, {\"region\": \"Arizona\", \"impressions\": 75921804.0, \"Unnamed: 0\": 7.0, \"NAME\": \"Arizona\", \"POPESTIMATE2020\": 7177986.0, \"POPESTIMATE2021\": 7276316.0, \"id\": 4}, {\"region\": \"Arkansas\", \"impressions\": 70117770.5, \"Unnamed: 0\": 8.0, \"NAME\": \"Arkansas\", \"POPESTIMATE2020\": 3012232.0, \"POPESTIMATE2021\": 3025891.0, \"id\": 5}, {\"region\": \"California\", \"impressions\": 83010087.0, \"Unnamed: 0\": 9.0, \"NAME\": \"California\", \"POPESTIMATE2020\": 39499738.0, \"POPESTIMATE2021\": 39237836.0, \"id\": 6}, {\"region\": \"Colorado\", \"impressions\": 73269298.0, \"Unnamed: 0\": 10.0, \"NAME\": \"Colorado\", \"POPESTIMATE2020\": 5784308.0, \"POPESTIMATE2021\": 5812069.0, \"id\": 8}, {\"region\": \"Connecticut\", \"impressions\": 77197370.0, \"Unnamed: 0\": 11.0, \"NAME\": \"Connecticut\", \"POPESTIMATE2020\": 3600260.0, \"POPESTIMATE2021\": 3605597.0, \"id\": 9}, {\"region\": \"Delaware\", \"impressions\": 71568571.0, \"Unnamed: 0\": 12.0, \"NAME\": \"Delaware\", \"POPESTIMATE2020\": 991886.0, \"POPESTIMATE2021\": 1003384.0, \"id\": 10}, {\"region\": \"District of Columbia\", \"impressions\": 70565499.5, \"Unnamed: 0\": null, \"NAME\": null, \"POPESTIMATE2020\": null, \"POPESTIMATE2021\": null, \"id\": 11}, {\"region\": \"Florida\", \"impressions\": 77647572.0, \"Unnamed: 0\": 14.0, \"NAME\": \"Florida\", \"POPESTIMATE2020\": 21569932.0, \"POPESTIMATE2021\": 21781128.0, \"id\": 12}, {\"region\": \"Georgia\", \"impressions\": 78160142.0, \"Unnamed: 0\": 15.0, \"NAME\": \"Georgia\", \"POPESTIMATE2020\": 10725800.0, \"POPESTIMATE2021\": 10799566.0, \"id\": 13}, {\"region\": \"Hawaii\", \"impressions\": 69708460.0, \"Unnamed: 0\": 16.0, \"NAME\": \"Hawaii\", \"POPESTIMATE2020\": 1451911.0, \"POPESTIMATE2021\": 1441553.0, \"id\": 15}, {\"region\": \"Idaho\", \"impressions\": 68772885.5, \"Unnamed: 0\": 17.0, \"NAME\": \"Idaho\", \"POPESTIMATE2020\": 1847772.0, \"POPESTIMATE2021\": 1900923.0, \"id\": 16}, {\"region\": \"Illinois\", \"impressions\": 76605759.0, \"Unnamed: 0\": 18.0, \"NAME\": \"Illinois\", \"POPESTIMATE2020\": 12785245.0, \"POPESTIMATE2021\": 12671469.0, \"id\": 17}, {\"region\": \"Indiana\", \"impressions\": 72916978.0, \"Unnamed: 0\": 19.0, \"NAME\": \"Indiana\", \"POPESTIMATE2020\": 6785644.0, \"POPESTIMATE2021\": 6805985.0, \"id\": 18}, {\"region\": \"Iowa\", \"impressions\": 72654120.0, \"Unnamed: 0\": 20.0, \"NAME\": \"Iowa\", \"POPESTIMATE2020\": 3188669.0, \"POPESTIMATE2021\": 3193079.0, \"id\": 19}, {\"region\": \"Kansas\", \"impressions\": 70079182.0, \"Unnamed: 0\": 21.0, \"NAME\": \"Kansas\", \"POPESTIMATE2020\": 2935880.0, \"POPESTIMATE2021\": 2934582.0, \"id\": 20}, {\"region\": \"Kentucky\", \"impressions\": 72869028.0, \"Unnamed: 0\": 22.0, \"NAME\": \"Kentucky\", \"POPESTIMATE2020\": 4503958.0, \"POPESTIMATE2021\": 4509394.0, \"id\": 21}, {\"region\": \"Louisiana\", \"impressions\": 76534087.0, \"Unnamed: 0\": 23.0, \"NAME\": \"Louisiana\", \"POPESTIMATE2020\": 4651203.0, \"POPESTIMATE2021\": 4624047.0, \"id\": 22}, {\"region\": \"Maine\", \"impressions\": 69742785.5, \"Unnamed: 0\": 24.0, \"NAME\": \"Maine\", \"POPESTIMATE2020\": 1362280.0, \"POPESTIMATE2021\": 1372247.0, \"id\": 23}, {\"region\": \"Maryland\", \"impressions\": 78801745.5, \"Unnamed: 0\": 25.0, \"NAME\": \"Maryland\", \"POPESTIMATE2020\": 6172679.0, \"POPESTIMATE2021\": 6165129.0, \"id\": 24}, {\"region\": \"Massachusetts\", \"impressions\": 74119194.0, \"Unnamed: 0\": 26.0, \"NAME\": \"Massachusetts\", \"POPESTIMATE2020\": 7022220.0, \"POPESTIMATE2021\": 6984723.0, \"id\": 25}, {\"region\": \"Michigan\", \"impressions\": 75901777.0, \"Unnamed: 0\": 27.0, \"NAME\": \"Michigan\", \"POPESTIMATE2020\": 10067664.0, \"POPESTIMATE2021\": 10050811.0, \"id\": 26}, {\"region\": \"Minnesota\", \"impressions\": 73422419.0, \"Unnamed: 0\": 28.0, \"NAME\": \"Minnesota\", \"POPESTIMATE2020\": 5707165.0, \"POPESTIMATE2021\": 5707390.0, \"id\": 27}, {\"region\": \"Mississippi\", \"impressions\": 70369495.0, \"Unnamed: 0\": 29.0, \"NAME\": \"Mississippi\", \"POPESTIMATE2020\": 2956870.0, \"POPESTIMATE2021\": 2949965.0, \"id\": 28}, {\"region\": \"Missouri\", \"impressions\": 73039990.0, \"Unnamed: 0\": 30.0, \"NAME\": \"Missouri\", \"POPESTIMATE2020\": 6154481.0, \"POPESTIMATE2021\": 6168187.0, \"id\": 29}, {\"region\": \"Montana\", \"impressions\": 67957986.0, \"Unnamed: 0\": 31.0, \"NAME\": \"Montana\", \"POPESTIMATE2020\": 1086193.0, \"POPESTIMATE2021\": 1104271.0, \"id\": 30}, {\"region\": \"Nebraska\", \"impressions\": 68306493.0, \"Unnamed: 0\": 32.0, \"NAME\": \"Nebraska\", \"POPESTIMATE2020\": 1961455.0, \"POPESTIMATE2021\": 1963692.0, \"id\": 31}, {\"region\": \"Nevada\", \"impressions\": 72170156.5, \"Unnamed: 0\": 33.0, \"NAME\": \"Nevada\", \"POPESTIMATE2020\": 3114071.0, \"POPESTIMATE2021\": 3143991.0, \"id\": 32}, {\"region\": \"New Hampshire\", \"impressions\": 71982357.0, \"Unnamed: 0\": 34.0, \"NAME\": \"New Hampshire\", \"POPESTIMATE2020\": 1377848.0, \"POPESTIMATE2021\": 1388992.0, \"id\": 33}, {\"region\": \"New Jersey\", \"impressions\": 97165392.5, \"Unnamed: 0\": 35.0, \"NAME\": \"New Jersey\", \"POPESTIMATE2020\": 9279743.0, \"POPESTIMATE2021\": 9267130.0, \"id\": 34}, {\"region\": \"New Mexico\", \"impressions\": 69573648.5, \"Unnamed: 0\": 36.0, \"NAME\": \"New Mexico\", \"POPESTIMATE2020\": 2117566.0, \"POPESTIMATE2021\": 2115877.0, \"id\": 35}, {\"region\": \"New York\", \"impressions\": 103663951.5, \"Unnamed: 0\": 37.0, \"NAME\": \"New York\", \"POPESTIMATE2020\": 20154933.0, \"POPESTIMATE2021\": 19835913.0, \"id\": 36}, {\"region\": \"North Carolina\", \"impressions\": 78932543.5, \"Unnamed: 0\": 38.0, \"NAME\": \"North Carolina\", \"POPESTIMATE2020\": 10457177.0, \"POPESTIMATE2021\": 10551162.0, \"id\": 37}, {\"region\": \"North Dakota\", \"impressions\": 64311953.5, \"Unnamed: 0\": 39.0, \"NAME\": \"North Dakota\", \"POPESTIMATE2020\": 778962.0, \"POPESTIMATE2021\": 774948.0, \"id\": 38}, {\"region\": \"Ohio\", \"impressions\": 77080569.5, \"Unnamed: 0\": 40.0, \"NAME\": \"Ohio\", \"POPESTIMATE2020\": 11790587.0, \"POPESTIMATE2021\": 11780017.0, \"id\": 39}, {\"region\": \"Oklahoma\", \"impressions\": 70291198.5, \"Unnamed: 0\": 41.0, \"NAME\": \"Oklahoma\", \"POPESTIMATE2020\": 3962031.0, \"POPESTIMATE2021\": 3986639.0, \"id\": 40}, {\"region\": \"Oregon\", \"impressions\": 70400002.5, \"Unnamed: 0\": 42.0, \"NAME\": \"Oregon\", \"POPESTIMATE2020\": 4241544.0, \"POPESTIMATE2021\": 4246155.0, \"id\": 41}, {\"region\": \"Pennsylvania\", \"impressions\": 86276453.0, \"Unnamed: 0\": 43.0, \"NAME\": \"Pennsylvania\", \"POPESTIMATE2020\": 12989625.0, \"POPESTIMATE2021\": 12964056.0, \"id\": 42}, {\"region\": \"Rhode Island\", \"impressions\": 67281522.0, \"Unnamed: 0\": 44.0, \"NAME\": \"Rhode Island\", \"POPESTIMATE2020\": 1096229.0, \"POPESTIMATE2021\": 1095610.0, \"id\": 44}, {\"region\": \"South Carolina\", \"impressions\": 73453466.0, \"Unnamed: 0\": 45.0, \"NAME\": \"South Carolina\", \"POPESTIMATE2020\": 5130729.0, \"POPESTIMATE2021\": 5190705.0, \"id\": 45}, {\"region\": \"South Dakota\", \"impressions\": 67034777.5, \"Unnamed: 0\": 46.0, \"NAME\": \"South Dakota\", \"POPESTIMATE2020\": 887099.0, \"POPESTIMATE2021\": 895376.0, \"id\": 46}, {\"region\": \"Tennessee\", \"impressions\": 73580939.5, \"Unnamed: 0\": 47.0, \"NAME\": \"Tennessee\", \"POPESTIMATE2020\": 6920119.0, \"POPESTIMATE2021\": 6975218.0, \"id\": 47}, {\"region\": \"Texas\", \"impressions\": 88144764.0, \"Unnamed: 0\": 48.0, \"NAME\": \"Texas\", \"POPESTIMATE2020\": 29217653.0, \"POPESTIMATE2021\": 29527941.0, \"id\": 48}, {\"region\": \"Utah\", \"impressions\": 69495739.0, \"Unnamed: 0\": 49.0, \"NAME\": \"Utah\", \"POPESTIMATE2020\": 3281684.0, \"POPESTIMATE2021\": 3337975.0, \"id\": 49}, {\"region\": \"Vermont\", \"impressions\": 66632562.5, \"Unnamed: 0\": 50.0, \"NAME\": \"Vermont\", \"POPESTIMATE2020\": 642495.0, \"POPESTIMATE2021\": 645570.0, \"id\": 50}, {\"region\": \"Virginia\", \"impressions\": 95720261.0, \"Unnamed: 0\": 51.0, \"NAME\": \"Virginia\", \"POPESTIMATE2020\": 8632044.0, \"POPESTIMATE2021\": 8642274.0, \"id\": 51}, {\"region\": \"Washington\", \"impressions\": 73480339.0, \"Unnamed: 0\": 52.0, \"NAME\": \"Washington\", \"POPESTIMATE2020\": 7718785.0, \"POPESTIMATE2021\": 7738692.0, \"id\": 53}, {\"region\": \"West Virginia\", \"impressions\": 76174383.0, \"Unnamed: 0\": 53.0, \"NAME\": \"West Virginia\", \"POPESTIMATE2020\": 1789798.0, \"POPESTIMATE2021\": 1782959.0, \"id\": 54}, {\"region\": \"Wisconsin\", \"impressions\": 74412457.0, \"Unnamed: 0\": 54.0, \"NAME\": \"Wisconsin\", \"POPESTIMATE2020\": 5892323.0, \"POPESTIMATE2021\": 5895908.0, \"id\": 55}, {\"region\": \"Wyoming\", \"impressions\": 64993368.0, \"Unnamed: 0\": 55.0, \"NAME\": \"Wyoming\", \"POPESTIMATE2020\": 577267.0, \"POPESTIMATE2021\": 578803.0, \"id\": 56}]}}, {\"mode\": \"vega-lite\"});\n",
       "</script>"
      ],
      "text/plain": [
       "alt.LayerChart(...)"
      ]
     },
     "execution_count": 21,
     "metadata": {},
     "output_type": "execute_result"
    }
   ],
   "source": [
    "from vega_datasets import data\n",
    "\n",
    "states = alt.topo_feature(data.us_10m.url, 'states')\n",
    "\n",
    "variable_list = ['impressions']\n",
    "\n",
    "# Creating configs for color,selection,hovering\n",
    "hover = alt.selection(type='single', on='mouseover', nearest=True,\n",
    "                      fields=['x', 'y'])\n",
    "\n",
    "plot = alt.Chart(states).mark_geoshape().encode(\n",
    "    color='impressions:Q'\n",
    ").transform_lookup(\n",
    "    lookup='id',\n",
    "    from_=alt.LookupData(positive_df, 'id', list(positive_df.columns))\n",
    ").properties(\n",
    "    width=500,\n",
    "    height=300,\n",
    "    title = 'Cumulative Impressions: Positive Election Ads'\n",
    ").project(\n",
    "    type='albersUsa'\n",
    ")\n",
    "\n",
    "outline = alt.Chart(states).mark_geoshape(stroke='black', fillOpacity=0).project(\n",
    "    type='albersUsa'\n",
    ").properties(\n",
    "    width=500,\n",
    "    height=300\n",
    ")\n",
    "\n",
    "alt.layer(plot,outline)"
   ]
  },
  {
   "cell_type": "markdown",
   "id": "2d45136f",
   "metadata": {},
   "source": [
    "# Visualize Negative Election Ads"
   ]
  },
  {
   "cell_type": "code",
   "execution_count": 22,
   "id": "9305dad6",
   "metadata": {},
   "outputs": [
    {
     "data": {
      "text/html": [
       "<div>\n",
       "<style scoped>\n",
       "    .dataframe tbody tr th:only-of-type {\n",
       "        vertical-align: middle;\n",
       "    }\n",
       "\n",
       "    .dataframe tbody tr th {\n",
       "        vertical-align: top;\n",
       "    }\n",
       "\n",
       "    .dataframe thead th {\n",
       "        text-align: right;\n",
       "    }\n",
       "</style>\n",
       "<table border=\"1\" class=\"dataframe\">\n",
       "  <thead>\n",
       "    <tr style=\"text-align: right;\">\n",
       "      <th></th>\n",
       "      <th>region</th>\n",
       "      <th>impressions</th>\n",
       "    </tr>\n",
       "  </thead>\n",
       "  <tbody>\n",
       "    <tr>\n",
       "      <th>11</th>\n",
       "      <td>Alabama</td>\n",
       "      <td>79695297.5</td>\n",
       "    </tr>\n",
       "    <tr>\n",
       "      <th>13</th>\n",
       "      <td>Alaska</td>\n",
       "      <td>78239485.5</td>\n",
       "    </tr>\n",
       "    <tr>\n",
       "      <th>20</th>\n",
       "      <td>Arizona</td>\n",
       "      <td>81300017.5</td>\n",
       "    </tr>\n",
       "    <tr>\n",
       "      <th>21</th>\n",
       "      <td>Arkansas</td>\n",
       "      <td>81225834.0</td>\n",
       "    </tr>\n",
       "    <tr>\n",
       "      <th>57</th>\n",
       "      <td>California</td>\n",
       "      <td>88805393.5</td>\n",
       "    </tr>\n",
       "  </tbody>\n",
       "</table>\n",
       "</div>"
      ],
      "text/plain": [
       "        region  impressions\n",
       "11     Alabama   79695297.5\n",
       "13      Alaska   78239485.5\n",
       "20     Arizona   81300017.5\n",
       "21    Arkansas   81225834.0\n",
       "57  California   88805393.5"
      ]
     },
     "execution_count": 22,
     "metadata": {},
     "output_type": "execute_result"
    }
   ],
   "source": [
    "negative_df = pd.concat(df_list, ignore_index = True)\n",
    "negative_df = negative_df[negative_df['sentiment'] == 'NEGATIVE']\n",
    "negative_df = negative_df.groupby('region').sum().reset_index()\n",
    "negative_df = negative_df[negative_df.get('region').isin(us_states) == True]\n",
    "negative_df.head()"
   ]
  },
  {
   "cell_type": "code",
   "execution_count": 23,
   "id": "04df232b",
   "metadata": {},
   "outputs": [
    {
     "data": {
      "text/plain": [
       "(51, 2)"
      ]
     },
     "execution_count": 23,
     "metadata": {},
     "output_type": "execute_result"
    }
   ],
   "source": [
    "negative_df.shape"
   ]
  },
  {
   "cell_type": "code",
   "execution_count": 24,
   "id": "3465dbe8",
   "metadata": {},
   "outputs": [],
   "source": [
    "negative_df.get('region').iloc[47] = 'District of Columbia'\n",
    "negative_df.sort_values(by = 'region', inplace = True)"
   ]
  },
  {
   "cell_type": "code",
   "execution_count": 25,
   "id": "a136931b",
   "metadata": {},
   "outputs": [
    {
     "data": {
      "text/html": [
       "<div>\n",
       "<style scoped>\n",
       "    .dataframe tbody tr th:only-of-type {\n",
       "        vertical-align: middle;\n",
       "    }\n",
       "\n",
       "    .dataframe tbody tr th {\n",
       "        vertical-align: top;\n",
       "    }\n",
       "\n",
       "    .dataframe thead th {\n",
       "        text-align: right;\n",
       "    }\n",
       "</style>\n",
       "<table border=\"1\" class=\"dataframe\">\n",
       "  <thead>\n",
       "    <tr style=\"text-align: right;\">\n",
       "      <th></th>\n",
       "      <th>region</th>\n",
       "      <th>impressions</th>\n",
       "      <th>id</th>\n",
       "    </tr>\n",
       "  </thead>\n",
       "  <tbody>\n",
       "    <tr>\n",
       "      <th>11</th>\n",
       "      <td>Alabama</td>\n",
       "      <td>79695297.5</td>\n",
       "      <td>1</td>\n",
       "    </tr>\n",
       "    <tr>\n",
       "      <th>13</th>\n",
       "      <td>Alaska</td>\n",
       "      <td>78239485.5</td>\n",
       "      <td>2</td>\n",
       "    </tr>\n",
       "    <tr>\n",
       "      <th>20</th>\n",
       "      <td>Arizona</td>\n",
       "      <td>81300017.5</td>\n",
       "      <td>4</td>\n",
       "    </tr>\n",
       "    <tr>\n",
       "      <th>21</th>\n",
       "      <td>Arkansas</td>\n",
       "      <td>81225834.0</td>\n",
       "      <td>5</td>\n",
       "    </tr>\n",
       "    <tr>\n",
       "      <th>57</th>\n",
       "      <td>California</td>\n",
       "      <td>88805393.5</td>\n",
       "      <td>6</td>\n",
       "    </tr>\n",
       "  </tbody>\n",
       "</table>\n",
       "</div>"
      ],
      "text/plain": [
       "        region  impressions  id\n",
       "11     Alabama   79695297.5   1\n",
       "13      Alaska   78239485.5   2\n",
       "20     Arizona   81300017.5   4\n",
       "21    Arkansas   81225834.0   5\n",
       "57  California   88805393.5   6"
      ]
     },
     "execution_count": 25,
     "metadata": {},
     "output_type": "execute_result"
    }
   ],
   "source": [
    "pop = data.population_engineers_hurricanes()\n",
    "negative_df['id'] = list(pop.get('id'))[:-1]\n",
    "negative_df.head()"
   ]
  },
  {
   "cell_type": "code",
   "execution_count": 26,
   "id": "95fabd26",
   "metadata": {},
   "outputs": [
    {
     "data": {
      "text/html": [
       "\n",
       "<div id=\"altair-viz-0b8e7211166348bba4e17a7cecf1639e\"></div>\n",
       "<script type=\"text/javascript\">\n",
       "  var VEGA_DEBUG = (typeof VEGA_DEBUG == \"undefined\") ? {} : VEGA_DEBUG;\n",
       "  (function(spec, embedOpt){\n",
       "    let outputDiv = document.currentScript.previousElementSibling;\n",
       "    if (outputDiv.id !== \"altair-viz-0b8e7211166348bba4e17a7cecf1639e\") {\n",
       "      outputDiv = document.getElementById(\"altair-viz-0b8e7211166348bba4e17a7cecf1639e\");\n",
       "    }\n",
       "    const paths = {\n",
       "      \"vega\": \"https://cdn.jsdelivr.net/npm//vega@5?noext\",\n",
       "      \"vega-lib\": \"https://cdn.jsdelivr.net/npm//vega-lib?noext\",\n",
       "      \"vega-lite\": \"https://cdn.jsdelivr.net/npm//vega-lite@4.17.0?noext\",\n",
       "      \"vega-embed\": \"https://cdn.jsdelivr.net/npm//vega-embed@6?noext\",\n",
       "    };\n",
       "\n",
       "    function maybeLoadScript(lib, version) {\n",
       "      var key = `${lib.replace(\"-\", \"\")}_version`;\n",
       "      return (VEGA_DEBUG[key] == version) ?\n",
       "        Promise.resolve(paths[lib]) :\n",
       "        new Promise(function(resolve, reject) {\n",
       "          var s = document.createElement('script');\n",
       "          document.getElementsByTagName(\"head\")[0].appendChild(s);\n",
       "          s.async = true;\n",
       "          s.onload = () => {\n",
       "            VEGA_DEBUG[key] = version;\n",
       "            return resolve(paths[lib]);\n",
       "          };\n",
       "          s.onerror = () => reject(`Error loading script: ${paths[lib]}`);\n",
       "          s.src = paths[lib];\n",
       "        });\n",
       "    }\n",
       "\n",
       "    function showError(err) {\n",
       "      outputDiv.innerHTML = `<div class=\"error\" style=\"color:red;\">${err}</div>`;\n",
       "      throw err;\n",
       "    }\n",
       "\n",
       "    function displayChart(vegaEmbed) {\n",
       "      vegaEmbed(outputDiv, spec, embedOpt)\n",
       "        .catch(err => showError(`Javascript Error: ${err.message}<br>This usually means there's a typo in your chart specification. See the javascript console for the full traceback.`));\n",
       "    }\n",
       "\n",
       "    if(typeof define === \"function\" && define.amd) {\n",
       "      requirejs.config({paths});\n",
       "      require([\"vega-embed\"], displayChart, err => showError(`Error loading script: ${err.message}`));\n",
       "    } else {\n",
       "      maybeLoadScript(\"vega\", \"5\")\n",
       "        .then(() => maybeLoadScript(\"vega-lite\", \"4.17.0\"))\n",
       "        .then(() => maybeLoadScript(\"vega-embed\", \"6\"))\n",
       "        .catch(showError)\n",
       "        .then(() => displayChart(vegaEmbed));\n",
       "    }\n",
       "  })({\"config\": {\"view\": {\"continuousWidth\": 400, \"continuousHeight\": 300}}, \"layer\": [{\"mark\": \"geoshape\", \"encoding\": {\"color\": {\"field\": \"impressions\", \"type\": \"quantitative\"}}, \"height\": 300, \"projection\": {\"type\": \"albersUsa\"}, \"title\": \"Cumulative Impressions: Negative Election Ads\", \"transform\": [{\"lookup\": \"id\", \"from\": {\"data\": {\"name\": \"data-94f3cabc8f2ceca82510a1552ae8e64a\"}, \"key\": \"id\", \"fields\": [\"region\", \"impressions\", \"id\"]}}], \"width\": 500}, {\"mark\": {\"type\": \"geoshape\", \"fillOpacity\": 0, \"stroke\": \"black\"}, \"height\": 300, \"projection\": {\"type\": \"albersUsa\"}, \"width\": 500}], \"data\": {\"url\": \"https://cdn.jsdelivr.net/npm/vega-datasets@v1.29.0/data/us-10m.json\", \"format\": {\"feature\": \"states\", \"type\": \"topojson\"}}, \"$schema\": \"https://vega.github.io/schema/vega-lite/v4.17.0.json\", \"datasets\": {\"data-94f3cabc8f2ceca82510a1552ae8e64a\": [{\"region\": \"Alabama\", \"impressions\": 79695297.5, \"id\": 1}, {\"region\": \"Alaska\", \"impressions\": 78239485.5, \"id\": 2}, {\"region\": \"Arizona\", \"impressions\": 81300017.5, \"id\": 4}, {\"region\": \"Arkansas\", \"impressions\": 81225834.0, \"id\": 5}, {\"region\": \"California\", \"impressions\": 88805393.5, \"id\": 6}, {\"region\": \"Colorado\", \"impressions\": 80948043.0, \"id\": 8}, {\"region\": \"Connecticut\", \"impressions\": 83241652.5, \"id\": 9}, {\"region\": \"Delaware\", \"impressions\": 80674548.0, \"id\": 10}, {\"region\": \"District of Columbia\", \"impressions\": 75451644.5, \"id\": 11}, {\"region\": \"Florida\", \"impressions\": 85131892.0, \"id\": 12}, {\"region\": \"Georgia\", \"impressions\": 84437927.0, \"id\": 13}, {\"region\": \"Hawaii\", \"impressions\": 80848434.5, \"id\": 15}, {\"region\": \"Idaho\", \"impressions\": 78707866.0, \"id\": 16}, {\"region\": \"Illinois\", \"impressions\": 82103516.5, \"id\": 17}, {\"region\": \"Indiana\", \"impressions\": 81474105.0, \"id\": 18}, {\"region\": \"Iowa\", \"impressions\": 81038207.5, \"id\": 19}, {\"region\": \"Kansas\", \"impressions\": 80551235.0, \"id\": 20}, {\"region\": \"Kentucky\", \"impressions\": 81555645.0, \"id\": 21}, {\"region\": \"Louisiana\", \"impressions\": 85004259.0, \"id\": 22}, {\"region\": \"Maine\", \"impressions\": 79989311.0, \"id\": 23}, {\"region\": \"Maryland\", \"impressions\": 86692908.5, \"id\": 24}, {\"region\": \"Massachusetts\", \"impressions\": 80780538.0, \"id\": 25}, {\"region\": \"Michigan\", \"impressions\": 83418990.0, \"id\": 26}, {\"region\": \"Minnesota\", \"impressions\": 79272603.5, \"id\": 27}, {\"region\": \"Mississippi\", \"impressions\": 80232060.0, \"id\": 28}, {\"region\": \"Missouri\", \"impressions\": 81027124.0, \"id\": 29}, {\"region\": \"Montana\", \"impressions\": 78314448.0, \"id\": 30}, {\"region\": \"Nebraska\", \"impressions\": 78679464.5, \"id\": 31}, {\"region\": \"Nevada\", \"impressions\": 80235243.0, \"id\": 32}, {\"region\": \"New Hampshire\", \"impressions\": 80909353.0, \"id\": 33}, {\"region\": \"New Jersey\", \"impressions\": 93284295.0, \"id\": 34}, {\"region\": \"New Mexico\", \"impressions\": 79108231.5, \"id\": 35}, {\"region\": \"New York\", \"impressions\": 96854686.5, \"id\": 36}, {\"region\": \"North Carolina\", \"impressions\": 88570891.5, \"id\": 37}, {\"region\": \"North Dakota\", \"impressions\": 77107347.5, \"id\": 38}, {\"region\": \"Ohio\", \"impressions\": 82824398.5, \"id\": 39}, {\"region\": \"Oklahoma\", \"impressions\": 80881284.5, \"id\": 40}, {\"region\": \"Oregon\", \"impressions\": 79815102.5, \"id\": 41}, {\"region\": \"Pennsylvania\", \"impressions\": 89637807.0, \"id\": 42}, {\"region\": \"Rhode Island\", \"impressions\": 77888038.0, \"id\": 44}, {\"region\": \"South Carolina\", \"impressions\": 83958579.0, \"id\": 45}, {\"region\": \"South Dakota\", \"impressions\": 77506162.0, \"id\": 46}, {\"region\": \"Tennessee\", \"impressions\": 83126601.0, \"id\": 47}, {\"region\": \"Texas\", \"impressions\": 93985158.0, \"id\": 48}, {\"region\": \"Utah\", \"impressions\": 79355326.5, \"id\": 49}, {\"region\": \"Vermont\", \"impressions\": 77657514.0, \"id\": 50}, {\"region\": \"Virginia\", \"impressions\": 98879032.5, \"id\": 51}, {\"region\": \"Washington\", \"impressions\": 80150033.0, \"id\": 53}, {\"region\": \"West Virginia\", \"impressions\": 82586917.5, \"id\": 54}, {\"region\": \"Wisconsin\", \"impressions\": 81690607.5, \"id\": 55}, {\"region\": \"Wyoming\", \"impressions\": 76863751.0, \"id\": 56}]}}, {\"mode\": \"vega-lite\"});\n",
       "</script>"
      ],
      "text/plain": [
       "alt.LayerChart(...)"
      ]
     },
     "execution_count": 26,
     "metadata": {},
     "output_type": "execute_result"
    }
   ],
   "source": [
    "alt.renderers.enable('default')\n",
    "\n",
    "from vega_datasets import data\n",
    "\n",
    "states = alt.topo_feature(data.us_10m.url, 'states')\n",
    "\n",
    "variable_list = ['impressions']\n",
    "\n",
    "# Creating configs for color,selection,hovering\n",
    "hover = alt.selection(type='single', on='mouseover', nearest=True,\n",
    "                      fields=['x', 'y'])\n",
    "\n",
    "plot = alt.Chart(states).mark_geoshape().encode(\n",
    "    color='impressions:Q'\n",
    ").transform_lookup(\n",
    "    lookup='id',\n",
    "    from_=alt.LookupData(negative_df, 'id', list(negative_df.columns))\n",
    ").properties(\n",
    "    width=500,\n",
    "    height=300,\n",
    "    title = 'Cumulative Impressions: Negative Election Ads'\n",
    ").project(\n",
    "    type='albersUsa'\n",
    ")\n",
    "\n",
    "outline = alt.Chart(states).mark_geoshape(stroke='black', fillOpacity=0).project(\n",
    "    type='albersUsa'\n",
    ").properties(\n",
    "    width=500,\n",
    "    height=300\n",
    ")\n",
    "\n",
    "alt.layer(plot,outline)"
   ]
  },
  {
   "cell_type": "code",
   "execution_count": null,
   "id": "f2483ad4",
   "metadata": {},
   "outputs": [],
   "source": []
  },
  {
   "cell_type": "code",
   "execution_count": null,
   "id": "3355c9cc",
   "metadata": {},
   "outputs": [],
   "source": []
  },
  {
   "cell_type": "markdown",
   "id": "0c0cb8e0",
   "metadata": {},
   "source": [
    "# Hypothesis Test: Election Data"
   ]
  },
  {
   "cell_type": "code",
   "execution_count": 27,
   "id": "cc1b8368",
   "metadata": {},
   "outputs": [
    {
     "name": "stdout",
     "output_type": "stream",
     "text": [
      "11737\n"
     ]
    }
   ],
   "source": [
    "df_list = []\n",
    "for index, row in new_df.iterrows():\n",
    "    curr_dict = row['cumulative_impressions_by_region']\n",
    "    d = pd.DataFrame({'region': curr_dict.keys(), 'impressions': curr_dict.values()})\n",
    "    d['sentiment'] = row['sentiment']\n",
    "        \n",
    "    df_list.append(d)\n",
    "print(len(df_list))"
   ]
  },
  {
   "cell_type": "code",
   "execution_count": 28,
   "id": "6df28261",
   "metadata": {},
   "outputs": [],
   "source": [
    "z_test_table = pd.concat(df_list, ignore_index = True)"
   ]
  },
  {
   "cell_type": "code",
   "execution_count": 29,
   "id": "c396c32c",
   "metadata": {},
   "outputs": [
    {
     "data": {
      "text/html": [
       "<div>\n",
       "<style scoped>\n",
       "    .dataframe tbody tr th:only-of-type {\n",
       "        vertical-align: middle;\n",
       "    }\n",
       "\n",
       "    .dataframe tbody tr th {\n",
       "        vertical-align: top;\n",
       "    }\n",
       "\n",
       "    .dataframe thead th {\n",
       "        text-align: right;\n",
       "    }\n",
       "</style>\n",
       "<table border=\"1\" class=\"dataframe\">\n",
       "  <thead>\n",
       "    <tr style=\"text-align: right;\">\n",
       "      <th></th>\n",
       "      <th>region</th>\n",
       "      <th>impressions</th>\n",
       "      <th>sentiment</th>\n",
       "    </tr>\n",
       "  </thead>\n",
       "  <tbody>\n",
       "    <tr>\n",
       "      <th>0</th>\n",
       "      <td>New York</td>\n",
       "      <td>28498.5</td>\n",
       "      <td>POSITIVE</td>\n",
       "    </tr>\n",
       "    <tr>\n",
       "      <th>1</th>\n",
       "      <td>Georgia</td>\n",
       "      <td>7999.0</td>\n",
       "      <td>POSITIVE</td>\n",
       "    </tr>\n",
       "    <tr>\n",
       "      <th>2</th>\n",
       "      <td>Connecticut</td>\n",
       "      <td>74999.5</td>\n",
       "      <td>POSITIVE</td>\n",
       "    </tr>\n",
       "    <tr>\n",
       "      <th>3</th>\n",
       "      <td>Massachusetts</td>\n",
       "      <td>74999.5</td>\n",
       "      <td>POSITIVE</td>\n",
       "    </tr>\n",
       "    <tr>\n",
       "      <th>4</th>\n",
       "      <td>Alaska</td>\n",
       "      <td>2499.5</td>\n",
       "      <td>POSITIVE</td>\n",
       "    </tr>\n",
       "  </tbody>\n",
       "</table>\n",
       "</div>"
      ],
      "text/plain": [
       "          region  impressions sentiment\n",
       "0       New York      28498.5  POSITIVE\n",
       "1        Georgia       7999.0  POSITIVE\n",
       "2    Connecticut      74999.5  POSITIVE\n",
       "3  Massachusetts      74999.5  POSITIVE\n",
       "4         Alaska       2499.5  POSITIVE"
      ]
     },
     "execution_count": 29,
     "metadata": {},
     "output_type": "execute_result"
    }
   ],
   "source": [
    "z_test_table = z_test_table[z_test_table['region'].isin(us_states)]\n",
    "z_test_table.head()"
   ]
  },
  {
   "cell_type": "code",
   "execution_count": 30,
   "id": "ec2a04bd",
   "metadata": {},
   "outputs": [
    {
     "data": {
      "text/plain": [
       "(139880, 3)"
      ]
     },
     "execution_count": 30,
     "metadata": {},
     "output_type": "execute_result"
    }
   ],
   "source": [
    "z_test_table.shape"
   ]
  },
  {
   "cell_type": "code",
   "execution_count": 31,
   "id": "d3b9f960",
   "metadata": {},
   "outputs": [],
   "source": [
    "# based on 2020 election\n",
    "right_wing = ['Alabama', 'Alaska', 'Arkansas', 'Florida', 'Idaho', 'Indiana', \n",
    "              'Iowa', 'Kansas', 'Kentucky', 'Louisiana', 'Mississippi', 'Missouri', \n",
    "              'Montana', 'Nebraska', 'North Carolina', 'North Dakota', 'Ohio', \n",
    "              'Oklahoma', 'South Carolina', 'South Dakota', 'Tennessee', 'Texas', \n",
    "              'Utah', 'West Virginia', 'Wyoming']\n",
    "left_wing = ['Arizona', 'California', 'Colorado', 'Connecticut', 'Delaware', 'Georgia', \n",
    "             'Hawaii', 'Illinois', 'Maine', 'Maryland', 'Massachusetts', 'Michigan', 'Minnesota', \n",
    "             'Nevada', 'New Hampshire', 'New Jersey', 'New Mexico', 'New York', 'Oregon', \n",
    "             'Pennsylvania', 'Rhode Island', 'Vermont', 'Virginia', 'Washington', 'Wisconsin']"
   ]
  },
  {
   "cell_type": "code",
   "execution_count": 32,
   "id": "0b2dd938",
   "metadata": {},
   "outputs": [
    {
     "data": {
      "text/html": [
       "<div>\n",
       "<style scoped>\n",
       "    .dataframe tbody tr th:only-of-type {\n",
       "        vertical-align: middle;\n",
       "    }\n",
       "\n",
       "    .dataframe tbody tr th {\n",
       "        vertical-align: top;\n",
       "    }\n",
       "\n",
       "    .dataframe thead th {\n",
       "        text-align: right;\n",
       "    }\n",
       "</style>\n",
       "<table border=\"1\" class=\"dataframe\">\n",
       "  <thead>\n",
       "    <tr style=\"text-align: right;\">\n",
       "      <th></th>\n",
       "      <th>region</th>\n",
       "      <th>impressions</th>\n",
       "      <th>sentiment</th>\n",
       "    </tr>\n",
       "  </thead>\n",
       "  <tbody>\n",
       "    <tr>\n",
       "      <th>47</th>\n",
       "      <td>Rhode Island</td>\n",
       "      <td>1499.5</td>\n",
       "      <td>NEGATIVE</td>\n",
       "    </tr>\n",
       "    <tr>\n",
       "      <th>48</th>\n",
       "      <td>New York</td>\n",
       "      <td>1499.5</td>\n",
       "      <td>NEGATIVE</td>\n",
       "    </tr>\n",
       "    <tr>\n",
       "      <th>49</th>\n",
       "      <td>Kansas</td>\n",
       "      <td>1499.5</td>\n",
       "      <td>NEGATIVE</td>\n",
       "    </tr>\n",
       "    <tr>\n",
       "      <th>50</th>\n",
       "      <td>Louisiana</td>\n",
       "      <td>1499.5</td>\n",
       "      <td>NEGATIVE</td>\n",
       "    </tr>\n",
       "    <tr>\n",
       "      <th>51</th>\n",
       "      <td>Maine</td>\n",
       "      <td>1499.5</td>\n",
       "      <td>NEGATIVE</td>\n",
       "    </tr>\n",
       "  </tbody>\n",
       "</table>\n",
       "</div>"
      ],
      "text/plain": [
       "          region  impressions sentiment\n",
       "47  Rhode Island       1499.5  NEGATIVE\n",
       "48      New York       1499.5  NEGATIVE\n",
       "49        Kansas       1499.5  NEGATIVE\n",
       "50     Louisiana       1499.5  NEGATIVE\n",
       "51         Maine       1499.5  NEGATIVE"
      ]
     },
     "execution_count": 32,
     "metadata": {},
     "output_type": "execute_result"
    }
   ],
   "source": [
    "z_test_table[z_test_table['sentiment'] == 'NEGATIVE'].head()"
   ]
  },
  {
   "cell_type": "code",
   "execution_count": 33,
   "id": "3ad5f850",
   "metadata": {},
   "outputs": [
    {
     "name": "stdout",
     "output_type": "stream",
     "text": [
      "(65623, 3)\n"
     ]
    }
   ],
   "source": [
    "# total number of ads in right wing\n",
    "print(z_test_table[z_test_table['region'].isin(right_wing)].shape)"
   ]
  },
  {
   "cell_type": "code",
   "execution_count": 34,
   "id": "7a86ae84",
   "metadata": {},
   "outputs": [
    {
     "name": "stdout",
     "output_type": "stream",
     "text": [
      "(72032, 3)\n"
     ]
    }
   ],
   "source": [
    "# total number of ads in left wing\n",
    "print(z_test_table[z_test_table['region'].isin(left_wing)].shape)"
   ]
  },
  {
   "cell_type": "code",
   "execution_count": 35,
   "id": "90658bca",
   "metadata": {},
   "outputs": [
    {
     "data": {
      "text/plain": [
       "(27323, 3)"
      ]
     },
     "execution_count": 35,
     "metadata": {},
     "output_type": "execute_result"
    }
   ],
   "source": [
    "# number of negative ads in right wing\n",
    "z_test_table[(z_test_table['region'].isin(right_wing)) \n",
    "             & (z_test_table['sentiment'] == 'NEGATIVE')].shape"
   ]
  },
  {
   "cell_type": "code",
   "execution_count": 36,
   "id": "88c891bd",
   "metadata": {},
   "outputs": [
    {
     "data": {
      "text/plain": [
       "(29535, 3)"
      ]
     },
     "execution_count": 36,
     "metadata": {},
     "output_type": "execute_result"
    }
   ],
   "source": [
    "# number of negative ads in left wing\n",
    "z_test_table[z_test_table['region'].isin(left_wing) \n",
    "             & (z_test_table['sentiment'] == 'NEGATIVE')].shape"
   ]
  },
  {
   "cell_type": "code",
   "execution_count": 37,
   "id": "0464bef7",
   "metadata": {},
   "outputs": [],
   "source": [
    "import numpy as np\n",
    "from statsmodels.stats.proportion import proportions_ztest"
   ]
  },
  {
   "cell_type": "code",
   "execution_count": 38,
   "id": "5bea7cd6",
   "metadata": {},
   "outputs": [
    {
     "name": "stdout",
     "output_type": "stream",
     "text": [
      "0.4163631653536108\n",
      "0.4100260995113283\n"
     ]
    }
   ],
   "source": [
    "print(27323/65623)\n",
    "print(29535/72032)"
   ]
  },
  {
   "cell_type": "code",
   "execution_count": 39,
   "id": "c82b4ebb",
   "metadata": {},
   "outputs": [
    {
     "name": "stdout",
     "output_type": "stream",
     "text": [
      "0.01708085484697255\n"
     ]
    }
   ],
   "source": [
    "count = [27323, 29535]# negative ads for both wings \n",
    "nobs = [65623, 72032] # total ads in right wing, total ads in left wing \n",
    "#value = 0.05\n",
    "stat, pval = proportions_ztest(count, nobs)\n",
    "print(pval)"
   ]
  },
  {
   "cell_type": "markdown",
   "id": "8304bc8e",
   "metadata": {},
   "source": [
    "# Hypothesis Test - Vaccines"
   ]
  },
  {
   "cell_type": "code",
   "execution_count": 42,
   "id": "f5dc97e7",
   "metadata": {},
   "outputs": [
    {
     "data": {
      "text/html": [
       "<div>\n",
       "<style scoped>\n",
       "    .dataframe tbody tr th:only-of-type {\n",
       "        vertical-align: middle;\n",
       "    }\n",
       "\n",
       "    .dataframe tbody tr th {\n",
       "        vertical-align: top;\n",
       "    }\n",
       "\n",
       "    .dataframe thead th {\n",
       "        text-align: right;\n",
       "    }\n",
       "</style>\n",
       "<table border=\"1\" class=\"dataframe\">\n",
       "  <thead>\n",
       "    <tr style=\"text-align: right;\">\n",
       "      <th></th>\n",
       "      <th>Unnamed: 0</th>\n",
       "      <th>Unnamed: 0.1</th>\n",
       "      <th>ad_creative_bodies</th>\n",
       "      <th>demographic_distribution</th>\n",
       "      <th>delivery_by_region</th>\n",
       "      <th>estimated_audience_size</th>\n",
       "      <th>spend</th>\n",
       "      <th>impressions</th>\n",
       "      <th>cumulative_impressions_by_region</th>\n",
       "      <th>cum_spend</th>\n",
       "      <th>sentiment</th>\n",
       "    </tr>\n",
       "  </thead>\n",
       "  <tbody>\n",
       "    <tr>\n",
       "      <th>0</th>\n",
       "      <td>0</td>\n",
       "      <td>0</td>\n",
       "      <td></td>\n",
       "      <td>[[{'percentage': '0.001006', 'age': '13-17', '...</td>\n",
       "      <td>[[{'percentage': '0.001516', 'region': 'Rhode ...</td>\n",
       "      <td>[{'lower_bound': '5001', 'upper_bound': '10000...</td>\n",
       "      <td>[{'lower_bound': '1000', 'upper_bound': '1499'...</td>\n",
       "      <td>[{'lower_bound': '25000', 'upper_bound': '2999...</td>\n",
       "      <td>{'Rhode Island': 2231992.5, 'Oregon': 2231992....</td>\n",
       "      <td>48641.0</td>\n",
       "      <td>POSITIVE</td>\n",
       "    </tr>\n",
       "    <tr>\n",
       "      <th>1</th>\n",
       "      <td>1</td>\n",
       "      <td>1</td>\n",
       "      <td>!!!!!!!!!!!!!!!!!!!!</td>\n",
       "      <td>[[{'percentage': '4.9E-5', 'age': '18-24', 'ge...</td>\n",
       "      <td>[[{'percentage': '0.034184', 'region': 'Alabam...</td>\n",
       "      <td>[{'lower_bound': '1000001'}]</td>\n",
       "      <td>[{'lower_bound': '0', 'upper_bound': '99'}]</td>\n",
       "      <td>[{'lower_bound': '25000', 'upper_bound': '2999...</td>\n",
       "      <td>{'Alabama': 27499.5, 'Rhode Island': 27499.5, ...</td>\n",
       "      <td>49.5</td>\n",
       "      <td>POSITIVE</td>\n",
       "    </tr>\n",
       "    <tr>\n",
       "      <th>2</th>\n",
       "      <td>2</td>\n",
       "      <td>2</td>\n",
       "      <td>\"'Safe, potent, &amp; effective' - those three wor...</td>\n",
       "      <td>[[{'percentage': '5.4E-5', 'age': '13-17', 'ge...</td>\n",
       "      <td>[[{'percentage': '0.000163', 'region': 'Unknow...</td>\n",
       "      <td>[{'lower_bound': '1000001'}]</td>\n",
       "      <td>[{'lower_bound': '300', 'upper_bound': '399'}]</td>\n",
       "      <td>[{'lower_bound': '15000', 'upper_bound': '1999...</td>\n",
       "      <td>{'Unknown': 17499.5, 'Pennsylvania': 17499.5, ...</td>\n",
       "      <td>349.5</td>\n",
       "      <td>POSITIVE</td>\n",
       "    </tr>\n",
       "    <tr>\n",
       "      <th>3</th>\n",
       "      <td>3</td>\n",
       "      <td>3</td>\n",
       "      <td>\"1 in 500 Americans have died from COVID-19. O...</td>\n",
       "      <td>[[{'percentage': '0.000943', 'age': '45-54', '...</td>\n",
       "      <td>[[{'percentage': '1', 'region': 'Texas'}], [{'...</td>\n",
       "      <td>[{'lower_bound': '10001', 'upper_bound': '5000...</td>\n",
       "      <td>[{'lower_bound': '0', 'upper_bound': '99'}, {'...</td>\n",
       "      <td>[{'lower_bound': '1000', 'upper_bound': '1999'...</td>\n",
       "      <td>{'Texas': 17496.5}</td>\n",
       "      <td>346.5</td>\n",
       "      <td>NEGATIVE</td>\n",
       "    </tr>\n",
       "    <tr>\n",
       "      <th>4</th>\n",
       "      <td>4</td>\n",
       "      <td>4</td>\n",
       "      <td>\"A patent seizure is largely symbolic rather t...</td>\n",
       "      <td>[[{'percentage': '0.000456', 'age': '18-24', '...</td>\n",
       "      <td>[[{'percentage': '0.01887', 'region': 'Alabama...</td>\n",
       "      <td>[{'lower_bound': '1000001'}]</td>\n",
       "      <td>[{'lower_bound': '200', 'upper_bound': '299'}]</td>\n",
       "      <td>[{'lower_bound': '20000', 'upper_bound': '2499...</td>\n",
       "      <td>{'Alabama': 22499.5, 'Rhode Island': 22499.5, ...</td>\n",
       "      <td>249.5</td>\n",
       "      <td>NEGATIVE</td>\n",
       "    </tr>\n",
       "  </tbody>\n",
       "</table>\n",
       "</div>"
      ],
      "text/plain": [
       "   Unnamed: 0  Unnamed: 0.1  \\\n",
       "0           0             0   \n",
       "1           1             1   \n",
       "2           2             2   \n",
       "3           3             3   \n",
       "4           4             4   \n",
       "\n",
       "                                  ad_creative_bodies  \\\n",
       "0                                                      \n",
       "1                               !!!!!!!!!!!!!!!!!!!!   \n",
       "2  \"'Safe, potent, & effective' - those three wor...   \n",
       "3  \"1 in 500 Americans have died from COVID-19. O...   \n",
       "4  \"A patent seizure is largely symbolic rather t...   \n",
       "\n",
       "                            demographic_distribution  \\\n",
       "0  [[{'percentage': '0.001006', 'age': '13-17', '...   \n",
       "1  [[{'percentage': '4.9E-5', 'age': '18-24', 'ge...   \n",
       "2  [[{'percentage': '5.4E-5', 'age': '13-17', 'ge...   \n",
       "3  [[{'percentage': '0.000943', 'age': '45-54', '...   \n",
       "4  [[{'percentage': '0.000456', 'age': '18-24', '...   \n",
       "\n",
       "                                  delivery_by_region  \\\n",
       "0  [[{'percentage': '0.001516', 'region': 'Rhode ...   \n",
       "1  [[{'percentage': '0.034184', 'region': 'Alabam...   \n",
       "2  [[{'percentage': '0.000163', 'region': 'Unknow...   \n",
       "3  [[{'percentage': '1', 'region': 'Texas'}], [{'...   \n",
       "4  [[{'percentage': '0.01887', 'region': 'Alabama...   \n",
       "\n",
       "                             estimated_audience_size  \\\n",
       "0  [{'lower_bound': '5001', 'upper_bound': '10000...   \n",
       "1                       [{'lower_bound': '1000001'}]   \n",
       "2                       [{'lower_bound': '1000001'}]   \n",
       "3  [{'lower_bound': '10001', 'upper_bound': '5000...   \n",
       "4                       [{'lower_bound': '1000001'}]   \n",
       "\n",
       "                                               spend  \\\n",
       "0  [{'lower_bound': '1000', 'upper_bound': '1499'...   \n",
       "1        [{'lower_bound': '0', 'upper_bound': '99'}]   \n",
       "2     [{'lower_bound': '300', 'upper_bound': '399'}]   \n",
       "3  [{'lower_bound': '0', 'upper_bound': '99'}, {'...   \n",
       "4     [{'lower_bound': '200', 'upper_bound': '299'}]   \n",
       "\n",
       "                                         impressions  \\\n",
       "0  [{'lower_bound': '25000', 'upper_bound': '2999...   \n",
       "1  [{'lower_bound': '25000', 'upper_bound': '2999...   \n",
       "2  [{'lower_bound': '15000', 'upper_bound': '1999...   \n",
       "3  [{'lower_bound': '1000', 'upper_bound': '1999'...   \n",
       "4  [{'lower_bound': '20000', 'upper_bound': '2499...   \n",
       "\n",
       "                    cumulative_impressions_by_region  cum_spend sentiment  \n",
       "0  {'Rhode Island': 2231992.5, 'Oregon': 2231992....    48641.0  POSITIVE  \n",
       "1  {'Alabama': 27499.5, 'Rhode Island': 27499.5, ...       49.5  POSITIVE  \n",
       "2  {'Unknown': 17499.5, 'Pennsylvania': 17499.5, ...      349.5  POSITIVE  \n",
       "3                                 {'Texas': 17496.5}      346.5  NEGATIVE  \n",
       "4  {'Alabama': 22499.5, 'Rhode Island': 22499.5, ...      249.5  NEGATIVE  "
      ]
     },
     "execution_count": 42,
     "metadata": {},
     "output_type": "execute_result"
    }
   ],
   "source": [
    "#vaccines = pd.read_csv('emily_vaccine.csv')\n",
    "vaccines = pd.read_csv('vaccine_sentiment.csv')\n",
    "vaccines.head()"
   ]
  },
  {
   "cell_type": "code",
   "execution_count": 43,
   "id": "c6ff28d2",
   "metadata": {},
   "outputs": [],
   "source": [
    "#vaccines['sentiment'] = vaccines.get('ad_creative_bodies').apply(find_label)\n",
    "vaccines['cumulative_impressions_by_region'] = vaccines['cumulative_impressions_by_region'].apply(ast.literal_eval)"
   ]
  },
  {
   "cell_type": "code",
   "execution_count": 44,
   "id": "b8b13518",
   "metadata": {},
   "outputs": [],
   "source": [
    "#vaccines.to_csv('vaccine_sentiment.csv')"
   ]
  },
  {
   "cell_type": "code",
   "execution_count": 45,
   "id": "9cd30ff1",
   "metadata": {},
   "outputs": [
    {
     "name": "stdout",
     "output_type": "stream",
     "text": [
      "7248\n"
     ]
    }
   ],
   "source": [
    "vacc_df_list = []\n",
    "for index, row in vaccines.iterrows():\n",
    "    curr_dict = row['cumulative_impressions_by_region']\n",
    "    d = pd.DataFrame({'region': curr_dict.keys(), 'impressions': curr_dict.values()})\n",
    "    d['sentiment'] = row['sentiment']\n",
    "        \n",
    "    vacc_df_list.append(d)\n",
    "print(len(vacc_df_list))"
   ]
  },
  {
   "cell_type": "code",
   "execution_count": 46,
   "id": "3d7e0406",
   "metadata": {},
   "outputs": [
    {
     "data": {
      "text/html": [
       "<div>\n",
       "<style scoped>\n",
       "    .dataframe tbody tr th:only-of-type {\n",
       "        vertical-align: middle;\n",
       "    }\n",
       "\n",
       "    .dataframe tbody tr th {\n",
       "        vertical-align: top;\n",
       "    }\n",
       "\n",
       "    .dataframe thead th {\n",
       "        text-align: right;\n",
       "    }\n",
       "</style>\n",
       "<table border=\"1\" class=\"dataframe\">\n",
       "  <thead>\n",
       "    <tr style=\"text-align: right;\">\n",
       "      <th></th>\n",
       "      <th>region</th>\n",
       "      <th>impressions</th>\n",
       "      <th>sentiment</th>\n",
       "    </tr>\n",
       "  </thead>\n",
       "  <tbody>\n",
       "    <tr>\n",
       "      <th>0</th>\n",
       "      <td>Rhode Island</td>\n",
       "      <td>2231992.5</td>\n",
       "      <td>POSITIVE</td>\n",
       "    </tr>\n",
       "    <tr>\n",
       "      <th>1</th>\n",
       "      <td>Oregon</td>\n",
       "      <td>2231992.5</td>\n",
       "      <td>POSITIVE</td>\n",
       "    </tr>\n",
       "    <tr>\n",
       "      <th>2</th>\n",
       "      <td>Nebraska</td>\n",
       "      <td>2231992.5</td>\n",
       "      <td>POSITIVE</td>\n",
       "    </tr>\n",
       "    <tr>\n",
       "      <th>3</th>\n",
       "      <td>Nevada</td>\n",
       "      <td>2231992.5</td>\n",
       "      <td>POSITIVE</td>\n",
       "    </tr>\n",
       "    <tr>\n",
       "      <th>4</th>\n",
       "      <td>New Hampshire</td>\n",
       "      <td>2231992.5</td>\n",
       "      <td>POSITIVE</td>\n",
       "    </tr>\n",
       "  </tbody>\n",
       "</table>\n",
       "</div>"
      ],
      "text/plain": [
       "          region  impressions sentiment\n",
       "0   Rhode Island    2231992.5  POSITIVE\n",
       "1         Oregon    2231992.5  POSITIVE\n",
       "2       Nebraska    2231992.5  POSITIVE\n",
       "3         Nevada    2231992.5  POSITIVE\n",
       "4  New Hampshire    2231992.5  POSITIVE"
      ]
     },
     "execution_count": 46,
     "metadata": {},
     "output_type": "execute_result"
    }
   ],
   "source": [
    "vacc_z_test_table = pd.concat(vacc_df_list, ignore_index = True)\n",
    "vacc_z_test_table = vacc_z_test_table[vacc_z_test_table['region'].isin(us_states)]\n",
    "vacc_z_test_table.head()"
   ]
  },
  {
   "cell_type": "code",
   "execution_count": 47,
   "id": "b4d50018",
   "metadata": {},
   "outputs": [
    {
     "name": "stdout",
     "output_type": "stream",
     "text": [
      "(63620, 3)\n"
     ]
    }
   ],
   "source": [
    "# total number of ads in right wing\n",
    "print(vacc_z_test_table[vacc_z_test_table['region'].isin(right_wing)].shape)"
   ]
  },
  {
   "cell_type": "code",
   "execution_count": 48,
   "id": "897775b2",
   "metadata": {},
   "outputs": [
    {
     "name": "stdout",
     "output_type": "stream",
     "text": [
      "(65936, 3)\n"
     ]
    }
   ],
   "source": [
    "# total number of ads in left wing\n",
    "print(vacc_z_test_table[vacc_z_test_table['region'].isin(left_wing)].shape)"
   ]
  },
  {
   "cell_type": "code",
   "execution_count": 49,
   "id": "6e30e09f",
   "metadata": {},
   "outputs": [
    {
     "data": {
      "text/plain": [
       "(37398, 3)"
      ]
     },
     "execution_count": 49,
     "metadata": {},
     "output_type": "execute_result"
    }
   ],
   "source": [
    "# number of negative ads in right wing\n",
    "vacc_z_test_table[(vacc_z_test_table['region'].isin(right_wing)) \n",
    "             & (vacc_z_test_table['sentiment'] == 'NEGATIVE')].shape"
   ]
  },
  {
   "cell_type": "code",
   "execution_count": 50,
   "id": "1a16f9a5",
   "metadata": {},
   "outputs": [
    {
     "data": {
      "text/plain": [
       "(38660, 3)"
      ]
     },
     "execution_count": 50,
     "metadata": {},
     "output_type": "execute_result"
    }
   ],
   "source": [
    "# number of negative ads in left wing\n",
    "vacc_z_test_table[vacc_z_test_table['region'].isin(left_wing) \n",
    "             & (vacc_z_test_table['sentiment'] == 'NEGATIVE')].shape"
   ]
  },
  {
   "cell_type": "code",
   "execution_count": 55,
   "id": "1f9f69e4",
   "metadata": {},
   "outputs": [
    {
     "data": {
      "text/plain": [
       "129556"
      ]
     },
     "execution_count": 55,
     "metadata": {},
     "output_type": "execute_result"
    }
   ],
   "source": [
    "65936+63620"
   ]
  },
  {
   "cell_type": "code",
   "execution_count": 51,
   "id": "efd0f00c",
   "metadata": {},
   "outputs": [
    {
     "name": "stdout",
     "output_type": "stream",
     "text": [
      "0.58632613443339\n",
      "0.5878340144608614\n"
     ]
    }
   ],
   "source": [
    "print(38660/65936)\n",
    "print(37398/63620)"
   ]
  },
  {
   "cell_type": "code",
   "execution_count": 52,
   "id": "adc67dee",
   "metadata": {},
   "outputs": [
    {
     "name": "stdout",
     "output_type": "stream",
     "text": [
      "0.5815807383468412\n"
     ]
    }
   ],
   "source": [
    "count = [38660, 37398]# negative ads for both wings \n",
    "nobs = [65936, 63620] # total ads in left wing, total ads in right wing \n",
    "#value = 0.05\n",
    "stat, pval = proportions_ztest(count, nobs)\n",
    "print(pval)"
   ]
  },
  {
   "cell_type": "code",
   "execution_count": null,
   "id": "288a2cf9",
   "metadata": {},
   "outputs": [],
   "source": []
  }
 ],
 "metadata": {
  "kernelspec": {
   "display_name": "fbads",
   "language": "python",
   "name": "fbads"
  },
  "language_info": {
   "codemirror_mode": {
    "name": "ipython",
    "version": 3
   },
   "file_extension": ".py",
   "mimetype": "text/x-python",
   "name": "python",
   "nbconvert_exporter": "python",
   "pygments_lexer": "ipython3",
   "version": "3.7.9"
  }
 },
 "nbformat": 4,
 "nbformat_minor": 5
}
