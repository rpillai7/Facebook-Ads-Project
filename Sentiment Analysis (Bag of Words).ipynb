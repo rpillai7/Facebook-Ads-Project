{
 "cells": [
  {
   "cell_type": "code",
   "execution_count": 37,
   "id": "fe03775d",
   "metadata": {},
   "outputs": [],
   "source": [
    "# for sentiment analysis using bag of words\n",
    "import gzip\n",
    "import math\n",
    "import matplotlib.pyplot as plt\n",
    "import numpy as np\n",
    "import random\n",
    "import sklearn\n",
    "import string\n",
    "from collections import defaultdict\n",
    "from gensim.models import Word2Vec\n",
    "from nltk.stem.porter import *\n",
    "from sklearn import linear_model\n",
    "from sklearn.manifold import TSNE"
   ]
  },
  {
   "cell_type": "code",
   "execution_count": 38,
   "id": "265c3602",
   "metadata": {},
   "outputs": [],
   "source": [
    "import pandas as pd\n",
    "import requests\n",
    "import json\n",
    "import pickle\n",
    "\n",
    "pd.set_option('display.max_rows', None)"
   ]
  },
  {
   "cell_type": "code",
   "execution_count": 39,
   "id": "3fb5d97f",
   "metadata": {},
   "outputs": [],
   "source": [
    "#Reads in file\n",
    "\n",
    "f = open(\"Ads5000\", \"rb\")\n",
    "ads = pickle.load(f)\n",
    "f.close() "
   ]
  },
  {
   "cell_type": "code",
   "execution_count": 40,
   "id": "2e210b17",
   "metadata": {},
   "outputs": [],
   "source": [
    "df = pd.DataFrame(ads)"
   ]
  },
  {
   "cell_type": "code",
   "execution_count": 41,
   "id": "4c36ac2f",
   "metadata": {},
   "outputs": [
    {
     "data": {
      "text/html": [
       "<div>\n",
       "<style scoped>\n",
       "    .dataframe tbody tr th:only-of-type {\n",
       "        vertical-align: middle;\n",
       "    }\n",
       "\n",
       "    .dataframe tbody tr th {\n",
       "        vertical-align: top;\n",
       "    }\n",
       "\n",
       "    .dataframe thead th {\n",
       "        text-align: right;\n",
       "    }\n",
       "</style>\n",
       "<table border=\"1\" class=\"dataframe\">\n",
       "  <thead>\n",
       "    <tr style=\"text-align: right;\">\n",
       "      <th></th>\n",
       "      <th>impressions</th>\n",
       "      <th>demographic_distribution</th>\n",
       "      <th>ad_creation_time</th>\n",
       "      <th>ad_delivery_start_time</th>\n",
       "      <th>delivery_by_region</th>\n",
       "      <th>estimated_audience_size</th>\n",
       "      <th>page_name</th>\n",
       "      <th>publisher_platforms</th>\n",
       "      <th>spend</th>\n",
       "      <th>id</th>\n",
       "      <th>ad_creative_link_description</th>\n",
       "      <th>ad_delivery_stop_time</th>\n",
       "    </tr>\n",
       "  </thead>\n",
       "  <tbody>\n",
       "    <tr>\n",
       "      <th>0</th>\n",
       "      <td>{'lower_bound': '1000', 'upper_bound': '1999'}</td>\n",
       "      <td>[{'percentage': '0.004557', 'age': '18-24', 'g...</td>\n",
       "      <td>2022-01-25</td>\n",
       "      <td>2022-01-25</td>\n",
       "      <td>[{'percentage': '0.016578', 'region': 'Alabama...</td>\n",
       "      <td>{'lower_bound': '1000001'}</td>\n",
       "      <td>MomsRising.org</td>\n",
       "      <td>[facebook, instagram]</td>\n",
       "      <td>{'lower_bound': '0', 'upper_bound': '99'}</td>\n",
       "      <td>510093387113722</td>\n",
       "      <td>NaN</td>\n",
       "      <td>NaN</td>\n",
       "    </tr>\n",
       "    <tr>\n",
       "      <th>1</th>\n",
       "      <td>{'lower_bound': '2000', 'upper_bound': '2999'}</td>\n",
       "      <td>[{'percentage': '0.000519', 'age': '25-34', 'g...</td>\n",
       "      <td>2022-01-25</td>\n",
       "      <td>2022-01-25</td>\n",
       "      <td>[{'percentage': '0.026604', 'region': 'Alabama...</td>\n",
       "      <td>{'lower_bound': '1000001'}</td>\n",
       "      <td>CPAC 2022</td>\n",
       "      <td>[facebook]</td>\n",
       "      <td>{'lower_bound': '0', 'upper_bound': '99'}</td>\n",
       "      <td>1010286123213947</td>\n",
       "      <td>NaN</td>\n",
       "      <td>NaN</td>\n",
       "    </tr>\n",
       "    <tr>\n",
       "      <th>2</th>\n",
       "      <td>{'lower_bound': '0', 'upper_bound': '999'}</td>\n",
       "      <td>NaN</td>\n",
       "      <td>2022-01-25</td>\n",
       "      <td>2022-01-25</td>\n",
       "      <td>NaN</td>\n",
       "      <td>{'lower_bound': '10001', 'upper_bound': '50000'}</td>\n",
       "      <td>David Livingston Scott County Magistrate- 7th ...</td>\n",
       "      <td>[facebook]</td>\n",
       "      <td>{'lower_bound': '0', 'upper_bound': '99'}</td>\n",
       "      <td>726465978738772</td>\n",
       "      <td>NaN</td>\n",
       "      <td>NaN</td>\n",
       "    </tr>\n",
       "    <tr>\n",
       "      <th>3</th>\n",
       "      <td>{'lower_bound': '0', 'upper_bound': '999'}</td>\n",
       "      <td>[{'percentage': '0.003436', 'age': '18-24', 'g...</td>\n",
       "      <td>2022-01-25</td>\n",
       "      <td>2022-01-25</td>\n",
       "      <td>[{'percentage': '1', 'region': 'Florida'}]</td>\n",
       "      <td>{'lower_bound': '1000001'}</td>\n",
       "      <td>Miami's Community Newspapers</td>\n",
       "      <td>[facebook, instagram]</td>\n",
       "      <td>{'lower_bound': '0', 'upper_bound': '99'}</td>\n",
       "      <td>1182151668859503</td>\n",
       "      <td>NaN</td>\n",
       "      <td>NaN</td>\n",
       "    </tr>\n",
       "    <tr>\n",
       "      <th>4</th>\n",
       "      <td>{'lower_bound': '0', 'upper_bound': '999'}</td>\n",
       "      <td>[{'percentage': '0.021875', 'age': '25-34', 'g...</td>\n",
       "      <td>2022-01-21</td>\n",
       "      <td>2022-01-25</td>\n",
       "      <td>[{'percentage': '0.025316', 'region': 'Alabama...</td>\n",
       "      <td>{'lower_bound': '1000001'}</td>\n",
       "      <td>Pew Research Center</td>\n",
       "      <td>[facebook, instagram]</td>\n",
       "      <td>{'lower_bound': '0', 'upper_bound': '99'}</td>\n",
       "      <td>466037478231880</td>\n",
       "      <td>NaN</td>\n",
       "      <td>NaN</td>\n",
       "    </tr>\n",
       "  </tbody>\n",
       "</table>\n",
       "</div>"
      ],
      "text/plain": [
       "                                      impressions  \\\n",
       "0  {'lower_bound': '1000', 'upper_bound': '1999'}   \n",
       "1  {'lower_bound': '2000', 'upper_bound': '2999'}   \n",
       "2      {'lower_bound': '0', 'upper_bound': '999'}   \n",
       "3      {'lower_bound': '0', 'upper_bound': '999'}   \n",
       "4      {'lower_bound': '0', 'upper_bound': '999'}   \n",
       "\n",
       "                            demographic_distribution ad_creation_time  \\\n",
       "0  [{'percentage': '0.004557', 'age': '18-24', 'g...       2022-01-25   \n",
       "1  [{'percentage': '0.000519', 'age': '25-34', 'g...       2022-01-25   \n",
       "2                                                NaN       2022-01-25   \n",
       "3  [{'percentage': '0.003436', 'age': '18-24', 'g...       2022-01-25   \n",
       "4  [{'percentage': '0.021875', 'age': '25-34', 'g...       2022-01-21   \n",
       "\n",
       "  ad_delivery_start_time                                 delivery_by_region  \\\n",
       "0             2022-01-25  [{'percentage': '0.016578', 'region': 'Alabama...   \n",
       "1             2022-01-25  [{'percentage': '0.026604', 'region': 'Alabama...   \n",
       "2             2022-01-25                                                NaN   \n",
       "3             2022-01-25         [{'percentage': '1', 'region': 'Florida'}]   \n",
       "4             2022-01-25  [{'percentage': '0.025316', 'region': 'Alabama...   \n",
       "\n",
       "                            estimated_audience_size  \\\n",
       "0                        {'lower_bound': '1000001'}   \n",
       "1                        {'lower_bound': '1000001'}   \n",
       "2  {'lower_bound': '10001', 'upper_bound': '50000'}   \n",
       "3                        {'lower_bound': '1000001'}   \n",
       "4                        {'lower_bound': '1000001'}   \n",
       "\n",
       "                                           page_name    publisher_platforms  \\\n",
       "0                                     MomsRising.org  [facebook, instagram]   \n",
       "1                                          CPAC 2022             [facebook]   \n",
       "2  David Livingston Scott County Magistrate- 7th ...             [facebook]   \n",
       "3                       Miami's Community Newspapers  [facebook, instagram]   \n",
       "4                                Pew Research Center  [facebook, instagram]   \n",
       "\n",
       "                                       spend                id  \\\n",
       "0  {'lower_bound': '0', 'upper_bound': '99'}   510093387113722   \n",
       "1  {'lower_bound': '0', 'upper_bound': '99'}  1010286123213947   \n",
       "2  {'lower_bound': '0', 'upper_bound': '99'}   726465978738772   \n",
       "3  {'lower_bound': '0', 'upper_bound': '99'}  1182151668859503   \n",
       "4  {'lower_bound': '0', 'upper_bound': '99'}   466037478231880   \n",
       "\n",
       "  ad_creative_link_description ad_delivery_stop_time  \n",
       "0                          NaN                   NaN  \n",
       "1                          NaN                   NaN  \n",
       "2                          NaN                   NaN  \n",
       "3                          NaN                   NaN  \n",
       "4                          NaN                   NaN  "
      ]
     },
     "execution_count": 41,
     "metadata": {},
     "output_type": "execute_result"
    }
   ],
   "source": [
    "df.head()"
   ]
  },
  {
   "cell_type": "code",
   "execution_count": 42,
   "id": "a5e6b1bc",
   "metadata": {},
   "outputs": [],
   "source": [
    "# drops all ads with no description and turns it back into json \n",
    "df_with_only_descriptions = df.dropna()\n",
    "df_json = df_with_only_descriptions.to_json(orient='records')\n",
    "data = json.loads(df_json)"
   ]
  },
  {
   "cell_type": "code",
   "execution_count": 44,
   "id": "929ff787",
   "metadata": {},
   "outputs": [
    {
     "data": {
      "text/plain": [
       "6405"
      ]
     },
     "execution_count": 44,
     "metadata": {},
     "output_type": "execute_result"
    }
   ],
   "source": [
    "# counts number of unique words \n",
    "\n",
    "wordCount = defaultdict(int)\n",
    "for d in data:\n",
    "    for w in d['ad_creative_link_description'].split():\n",
    "        wordCount[w] += 1\n",
    "\n",
    "len(wordCount)"
   ]
  },
  {
   "cell_type": "code",
   "execution_count": 45,
   "id": "eec262dc",
   "metadata": {},
   "outputs": [
    {
     "data": {
      "text/plain": [
       "4779"
      ]
     },
     "execution_count": 45,
     "metadata": {},
     "output_type": "execute_result"
    }
   ],
   "source": [
    "# Ignore capitalization and remove punctuation\n",
    "wordCount = defaultdict(int)\n",
    "punctuation = set(string.punctuation)\n",
    "for d in data:\n",
    "    r = ''.join([c for c in d['ad_creative_link_description'].lower() if not c in punctuation])\n",
    "    for w in r.split():\n",
    "        wordCount[w] += 1\n",
    "\n",
    "len(wordCount)"
   ]
  },
  {
   "cell_type": "code",
   "execution_count": null,
   "id": "529650ef",
   "metadata": {},
   "outputs": [],
   "source": [
    "# with stemming \n",
    "\n",
    "wordCount = defaultdict(int)\n",
    "punctuation = set(string.punctuation)\n",
    "stemmer = PorterStemmer()\n",
    "for d in data:\n",
    "  r = ''.join([c for c in d['ad_creative_link_description'].lower() if not c in punctuation])\n",
    "  for w in r.split():\n",
    "    w = stemmer.stem(w)\n",
    "    wordCount[w] += 1\n",
    "    \n",
    "len(wordCount)"
   ]
  },
  {
   "cell_type": "markdown",
   "id": "403aeae8",
   "metadata": {},
   "source": [
    "Just build our feature vector by taking the most popular words (lowercase, punctuation removed, but no stemming)"
   ]
  },
  {
   "cell_type": "code",
   "execution_count": 13,
   "id": "54361f57",
   "metadata": {},
   "outputs": [],
   "source": [
    "wordCount = defaultdict(int)\n",
    "punctuation = set(string.punctuation)\n",
    "for d in data:\n",
    "  r = ''.join([c for c in d['ad_creative_link_description'].lower() if not c in punctuation])\n",
    "  for w in r.split():\n",
    "    wordCount[w] += 1\n",
    "\n",
    "counts = [(wordCount[w], w) for w in wordCount]\n",
    "counts.sort()\n",
    "counts.reverse()"
   ]
  },
  {
   "cell_type": "code",
   "execution_count": 14,
   "id": "2226948c",
   "metadata": {},
   "outputs": [],
   "source": [
    "words = [x[1] for x in counts[:1000]]"
   ]
  },
  {
   "cell_type": "markdown",
   "id": "6da18e49",
   "metadata": {},
   "source": [
    "# Sentiment Analysis "
   ]
  },
  {
   "cell_type": "code",
   "execution_count": 15,
   "id": "f3868de0",
   "metadata": {},
   "outputs": [],
   "source": [
    "wordId = dict(zip(words, range(len(words))))\n",
    "wordSet = set(words)"
   ]
  },
  {
   "cell_type": "code",
   "execution_count": 16,
   "id": "da42ba3e",
   "metadata": {},
   "outputs": [],
   "source": [
    "def feature(datum):\n",
    "    feat = [0]*len(words)\n",
    "    r = ''.join([c for c in datum['ad_creative_link_description'].lower() if not c in punctuation])\n",
    "    for w in r.split():\n",
    "        if w in words:\n",
    "            feat[wordId[w]] += 1\n",
    "    feat.append(1) # offset\n",
    "    return feat"
   ]
  },
  {
   "cell_type": "code",
   "execution_count": 17,
   "id": "20f645df",
   "metadata": {},
   "outputs": [],
   "source": [
    "X = [feature(d) for d in data]\n",
    "y = [int(d['impressions']['lower_bound']) for d in data]"
   ]
  },
  {
   "cell_type": "code",
   "execution_count": 18,
   "id": "23566c74",
   "metadata": {},
   "outputs": [],
   "source": [
    "# Regularized regression\n",
    "clf = linear_model.Ridge(1.0, fit_intercept=False) # MSE + 1.0 l2\n",
    "clf.fit(X, y)\n",
    "theta = clf.coef_\n",
    "predictions = clf.predict(X)"
   ]
  },
  {
   "cell_type": "code",
   "execution_count": null,
   "id": "c18c4813",
   "metadata": {},
   "outputs": [],
   "source": []
  }
 ],
 "metadata": {
  "kernelspec": {
   "display_name": "venv",
   "language": "python",
   "name": "venv"
  },
  "language_info": {
   "codemirror_mode": {
    "name": "ipython",
    "version": 3
   },
   "file_extension": ".py",
   "mimetype": "text/x-python",
   "name": "python",
   "nbconvert_exporter": "python",
   "pygments_lexer": "ipython3",
   "version": "3.7.9"
  }
 },
 "nbformat": 4,
 "nbformat_minor": 5
}
