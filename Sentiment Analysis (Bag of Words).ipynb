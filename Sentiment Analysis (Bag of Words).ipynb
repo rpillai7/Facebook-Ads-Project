{
 "cells": [
  {
   "cell_type": "code",
   "execution_count": 37,
   "id": "fe03775d",
   "metadata": {},
   "outputs": [],
   "source": [
    "# for sentiment analysis using bag of words\n",
    "import gzip\n",
    "import math\n",
    "import matplotlib.pyplot as plt\n",
    "import numpy as np\n",
    "import random\n",
    "import sklearn\n",
    "import string\n",
    "from collections import defaultdict\n",
    "from gensim.models import Word2Vec\n",
    "from nltk.stem.porter import *\n",
    "from sklearn import linear_model\n",
    "from sklearn.manifold import TSNE"
   ]
  },
  {
   "cell_type": "code",
   "execution_count": 38,
   "id": "265c3602",
   "metadata": {},
   "outputs": [],
   "source": [
    "import pandas as pd\n",
    "import requests\n",
    "import json\n",
    "import pickle\n",
    "\n",
    "pd.set_option('display.max_rows', None)"
   ]
  },
  {
   "cell_type": "code",
   "execution_count": 39,
   "id": "3fb5d97f",
   "metadata": {},
   "outputs": [],
   "source": [
    "#Reads in file\n",
    "\n",
    "f = open(\"Ads5000\", \"rb\")\n",
    "ads = pickle.load(f)\n",
    "f.close() "
   ]
  },
  {
   "cell_type": "code",
   "execution_count": 40,
   "id": "2e210b17",
   "metadata": {},
   "outputs": [],
   "source": [
    "df = pd.DataFrame(ads)"
   ]
  },
  {
   "cell_type": "code",
   "execution_count": 41,
   "id": "4c36ac2f",
   "metadata": {},
   "outputs": [
    {
     "data": {
      "text/html": [
       "<div>\n",
       "<style scoped>\n",
       "    .dataframe tbody tr th:only-of-type {\n",
       "        vertical-align: middle;\n",
       "    }\n",
       "\n",
       "    .dataframe tbody tr th {\n",
       "        vertical-align: top;\n",
       "    }\n",
       "\n",
       "    .dataframe thead th {\n",
       "        text-align: right;\n",
       "    }\n",
       "</style>\n",
       "<table border=\"1\" class=\"dataframe\">\n",
       "  <thead>\n",
       "    <tr style=\"text-align: right;\">\n",
       "      <th></th>\n",
       "      <th>impressions</th>\n",
       "      <th>demographic_distribution</th>\n",
       "      <th>ad_creation_time</th>\n",
       "      <th>ad_delivery_start_time</th>\n",
       "      <th>delivery_by_region</th>\n",
       "      <th>estimated_audience_size</th>\n",
       "      <th>page_name</th>\n",
       "      <th>publisher_platforms</th>\n",
       "      <th>spend</th>\n",
       "      <th>id</th>\n",
       "      <th>ad_creative_link_description</th>\n",
       "      <th>ad_delivery_stop_time</th>\n",
       "    </tr>\n",
       "  </thead>\n",
       "  <tbody>\n",
       "    <tr>\n",
       "      <th>0</th>\n",
       "      <td>{'lower_bound': '1000', 'upper_bound': '1999'}</td>\n",
       "      <td>[{'percentage': '0.004557', 'age': '18-24', 'g...</td>\n",
       "      <td>2022-01-25</td>\n",
       "      <td>2022-01-25</td>\n",
       "      <td>[{'percentage': '0.016578', 'region': 'Alabama...</td>\n",
       "      <td>{'lower_bound': '1000001'}</td>\n",
       "      <td>MomsRising.org</td>\n",
       "      <td>[facebook, instagram]</td>\n",
       "      <td>{'lower_bound': '0', 'upper_bound': '99'}</td>\n",
       "      <td>510093387113722</td>\n",
       "      <td>NaN</td>\n",
       "      <td>NaN</td>\n",
       "    </tr>\n",
       "    <tr>\n",
       "      <th>1</th>\n",
       "      <td>{'lower_bound': '2000', 'upper_bound': '2999'}</td>\n",
       "      <td>[{'percentage': '0.000519', 'age': '25-34', 'g...</td>\n",
       "      <td>2022-01-25</td>\n",
       "      <td>2022-01-25</td>\n",
       "      <td>[{'percentage': '0.026604', 'region': 'Alabama...</td>\n",
       "      <td>{'lower_bound': '1000001'}</td>\n",
       "      <td>CPAC 2022</td>\n",
       "      <td>[facebook]</td>\n",
       "      <td>{'lower_bound': '0', 'upper_bound': '99'}</td>\n",
       "      <td>1010286123213947</td>\n",
       "      <td>NaN</td>\n",
       "      <td>NaN</td>\n",
       "    </tr>\n",
       "    <tr>\n",
       "      <th>2</th>\n",
       "      <td>{'lower_bound': '0', 'upper_bound': '999'}</td>\n",
       "      <td>NaN</td>\n",
       "      <td>2022-01-25</td>\n",
       "      <td>2022-01-25</td>\n",
       "      <td>NaN</td>\n",
       "      <td>{'lower_bound': '10001', 'upper_bound': '50000'}</td>\n",
       "      <td>David Livingston Scott County Magistrate- 7th ...</td>\n",
       "      <td>[facebook]</td>\n",
       "      <td>{'lower_bound': '0', 'upper_bound': '99'}</td>\n",
       "      <td>726465978738772</td>\n",
       "      <td>NaN</td>\n",
       "      <td>NaN</td>\n",
       "    </tr>\n",
       "    <tr>\n",
       "      <th>3</th>\n",
       "      <td>{'lower_bound': '0', 'upper_bound': '999'}</td>\n",
       "      <td>[{'percentage': '0.003436', 'age': '18-24', 'g...</td>\n",
       "      <td>2022-01-25</td>\n",
       "      <td>2022-01-25</td>\n",
       "      <td>[{'percentage': '1', 'region': 'Florida'}]</td>\n",
       "      <td>{'lower_bound': '1000001'}</td>\n",
       "      <td>Miami's Community Newspapers</td>\n",
       "      <td>[facebook, instagram]</td>\n",
       "      <td>{'lower_bound': '0', 'upper_bound': '99'}</td>\n",
       "      <td>1182151668859503</td>\n",
       "      <td>NaN</td>\n",
       "      <td>NaN</td>\n",
       "    </tr>\n",
       "    <tr>\n",
       "      <th>4</th>\n",
       "      <td>{'lower_bound': '0', 'upper_bound': '999'}</td>\n",
       "      <td>[{'percentage': '0.021875', 'age': '25-34', 'g...</td>\n",
       "      <td>2022-01-21</td>\n",
       "      <td>2022-01-25</td>\n",
       "      <td>[{'percentage': '0.025316', 'region': 'Alabama...</td>\n",
       "      <td>{'lower_bound': '1000001'}</td>\n",
       "      <td>Pew Research Center</td>\n",
       "      <td>[facebook, instagram]</td>\n",
       "      <td>{'lower_bound': '0', 'upper_bound': '99'}</td>\n",
       "      <td>466037478231880</td>\n",
       "      <td>NaN</td>\n",
       "      <td>NaN</td>\n",
       "    </tr>\n",
       "  </tbody>\n",
       "</table>\n",
       "</div>"
      ],
      "text/plain": [
       "                                      impressions  \\\n",
       "0  {'lower_bound': '1000', 'upper_bound': '1999'}   \n",
       "1  {'lower_bound': '2000', 'upper_bound': '2999'}   \n",
       "2      {'lower_bound': '0', 'upper_bound': '999'}   \n",
       "3      {'lower_bound': '0', 'upper_bound': '999'}   \n",
       "4      {'lower_bound': '0', 'upper_bound': '999'}   \n",
       "\n",
       "                            demographic_distribution ad_creation_time  \\\n",
       "0  [{'percentage': '0.004557', 'age': '18-24', 'g...       2022-01-25   \n",
       "1  [{'percentage': '0.000519', 'age': '25-34', 'g...       2022-01-25   \n",
       "2                                                NaN       2022-01-25   \n",
       "3  [{'percentage': '0.003436', 'age': '18-24', 'g...       2022-01-25   \n",
       "4  [{'percentage': '0.021875', 'age': '25-34', 'g...       2022-01-21   \n",
       "\n",
       "  ad_delivery_start_time                                 delivery_by_region  \\\n",
       "0             2022-01-25  [{'percentage': '0.016578', 'region': 'Alabama...   \n",
       "1             2022-01-25  [{'percentage': '0.026604', 'region': 'Alabama...   \n",
       "2             2022-01-25                                                NaN   \n",
       "3             2022-01-25         [{'percentage': '1', 'region': 'Florida'}]   \n",
       "4             2022-01-25  [{'percentage': '0.025316', 'region': 'Alabama...   \n",
       "\n",
       "                            estimated_audience_size  \\\n",
       "0                        {'lower_bound': '1000001'}   \n",
       "1                        {'lower_bound': '1000001'}   \n",
       "2  {'lower_bound': '10001', 'upper_bound': '50000'}   \n",
       "3                        {'lower_bound': '1000001'}   \n",
       "4                        {'lower_bound': '1000001'}   \n",
       "\n",
       "                                           page_name    publisher_platforms  \\\n",
       "0                                     MomsRising.org  [facebook, instagram]   \n",
       "1                                          CPAC 2022             [facebook]   \n",
       "2  David Livingston Scott County Magistrate- 7th ...             [facebook]   \n",
       "3                       Miami's Community Newspapers  [facebook, instagram]   \n",
       "4                                Pew Research Center  [facebook, instagram]   \n",
       "\n",
       "                                       spend                id  \\\n",
       "0  {'lower_bound': '0', 'upper_bound': '99'}   510093387113722   \n",
       "1  {'lower_bound': '0', 'upper_bound': '99'}  1010286123213947   \n",
       "2  {'lower_bound': '0', 'upper_bound': '99'}   726465978738772   \n",
       "3  {'lower_bound': '0', 'upper_bound': '99'}  1182151668859503   \n",
       "4  {'lower_bound': '0', 'upper_bound': '99'}   466037478231880   \n",
       "\n",
       "  ad_creative_link_description ad_delivery_stop_time  \n",
       "0                          NaN                   NaN  \n",
       "1                          NaN                   NaN  \n",
       "2                          NaN                   NaN  \n",
       "3                          NaN                   NaN  \n",
       "4                          NaN                   NaN  "
      ]
     },
     "execution_count": 41,
     "metadata": {},
     "output_type": "execute_result"
    }
   ],
   "source": [
    "df.head()"
   ]
  },
  {
   "cell_type": "code",
   "execution_count": 57,
   "id": "a5e6b1bc",
   "metadata": {},
   "outputs": [],
   "source": [
    "# drops all ads with no description and turns it back into json \n",
    "\n",
    "df_with_only_descriptions = df.dropna()\n",
    "df_json = df_with_only_descriptions.to_json(orient='records')\n",
    "data = json.loads(df_json)"
   ]
  },
  {
   "cell_type": "code",
   "execution_count": 44,
   "id": "929ff787",
   "metadata": {},
   "outputs": [
    {
     "data": {
      "text/plain": [
       "6405"
      ]
     },
     "execution_count": 44,
     "metadata": {},
     "output_type": "execute_result"
    }
   ],
   "source": [
    "# counts number of unique words \n",
    "\n",
    "wordCount = defaultdict(int)\n",
    "for d in data:\n",
    "    for w in d['ad_creative_link_description'].split():\n",
    "        wordCount[w] += 1\n",
    "\n",
    "len(wordCount)"
   ]
  },
  {
   "cell_type": "code",
   "execution_count": 56,
   "id": "eec262dc",
   "metadata": {},
   "outputs": [
    {
     "data": {
      "text/plain": [
       "4779"
      ]
     },
     "execution_count": 56,
     "metadata": {},
     "output_type": "execute_result"
    }
   ],
   "source": [
    "# Removes capitallization / punctuations\n",
    "wordCount = defaultdict(int)\n",
    "punctuation = set(string.punctuation)\n",
    "for d in data:\n",
    "    r = ''.join([c for c in d['ad_creative_link_description'].lower() if not c in punctuation])\n",
    "    for w in r.split():\n",
    "        wordCount[w] += 1\n",
    "\n",
    "len(wordCount)"
   ]
  },
  {
   "cell_type": "code",
   "execution_count": 55,
   "id": "529650ef",
   "metadata": {},
   "outputs": [
    {
     "data": {
      "text/plain": [
       "3874"
      ]
     },
     "execution_count": 55,
     "metadata": {},
     "output_type": "execute_result"
    }
   ],
   "source": [
    "# With stemming. Removes different inflections of words.\n",
    "\n",
    "wordCount = defaultdict(int)\n",
    "punctuation = set(string.punctuation)\n",
    "stemmer = PorterStemmer()\n",
    "for d in data:\n",
    "  r = ''.join([c for c in d['ad_creative_link_description'].lower() if not c in punctuation])\n",
    "  for w in r.split():\n",
    "    w = stemmer.stem(w)\n",
    "    wordCount[w] += 1\n",
    "    \n",
    "len(wordCount)"
   ]
  },
  {
   "cell_type": "code",
   "execution_count": 47,
   "id": "54361f57",
   "metadata": {},
   "outputs": [],
   "source": [
    "wordCount = defaultdict(int)\n",
    "punctuation = set(string.punctuation)\n",
    "for d in data:\n",
    "  r = ''.join([c for c in d['ad_creative_link_description'].lower() if not c in punctuation])\n",
    "  for w in r.split():\n",
    "    wordCount[w] += 1\n",
    "\n",
    "counts = [(wordCount[w], w) for w in wordCount]\n",
    "counts.sort()\n",
    "counts.reverse()"
   ]
  },
  {
   "cell_type": "code",
   "execution_count": 54,
   "id": "2226948c",
   "metadata": {},
   "outputs": [],
   "source": [
    "# discards extremely rare words\n",
    "words = [x[1] for x in counts[:1000]]"
   ]
  },
  {
   "cell_type": "markdown",
   "id": "6da18e49",
   "metadata": {},
   "source": [
    "# Sentiment Analysis "
   ]
  },
  {
   "cell_type": "code",
   "execution_count": 49,
   "id": "f3868de0",
   "metadata": {},
   "outputs": [],
   "source": [
    "wordId = dict(zip(words, range(len(words))))\n",
    "wordSet = set(words)"
   ]
  },
  {
   "cell_type": "code",
   "execution_count": 50,
   "id": "da42ba3e",
   "metadata": {},
   "outputs": [],
   "source": [
    "def feature(datum):\n",
    "    feat = [0]*len(words)\n",
    "    r = ''.join([c for c in datum['ad_creative_link_description'].lower() if not c in punctuation])\n",
    "    for w in r.split():\n",
    "        if w in words:\n",
    "            feat[wordId[w]] += 1\n",
    "    feat.append(1) # offset\n",
    "    return feat"
   ]
  },
  {
   "cell_type": "code",
   "execution_count": 51,
   "id": "20f645df",
   "metadata": {},
   "outputs": [],
   "source": [
    "X = [feature(d) for d in data]\n",
    "y = [int(d['impressions']['lower_bound']) for d in data]"
   ]
  },
  {
   "cell_type": "code",
   "execution_count": 52,
   "id": "23566c74",
   "metadata": {},
   "outputs": [],
   "source": [
    "# Regularized regression\n",
    "clf = linear_model.Ridge(1.0, fit_intercept=False) # MSE + 1.0 l2\n",
    "clf.fit(X, y)\n",
    "theta = clf.coef_\n",
    "predictions = clf.predict(X)"
   ]
  },
  {
   "cell_type": "code",
   "execution_count": 53,
   "id": "41b800ac",
   "metadata": {},
   "outputs": [
    {
     "data": {
      "text/plain": [
       "array([  5770.92918977,  22374.81427926,  -5097.34772491, ...,\n",
       "        58827.12173621,  58827.12173621, 467982.08019867])"
      ]
     },
     "execution_count": 53,
     "metadata": {},
     "output_type": "execute_result"
    }
   ],
   "source": [
    "predictions"
   ]
  },
  {
   "cell_type": "code",
   "execution_count": null,
   "id": "bb939390",
   "metadata": {},
   "outputs": [],
   "source": []
  },
  {
   "cell_type": "markdown",
   "id": "6f340394",
   "metadata": {},
   "source": [
    "\n",
    "# N Grams"
   ]
  },
  {
   "cell_type": "code",
   "execution_count": 70,
   "id": "c96b399d",
   "metadata": {},
   "outputs": [],
   "source": [
    "# Extract n-grams up to length 5 (same dataset as example above)\n",
    "\n",
    "wordCount = defaultdict(int)\n",
    "punctuation = set(string.punctuation)\n",
    "for d in data:\n",
    "    r = ''.join([c for c in d['ad_creative_link_description'].lower() if not c in punctuation])\n",
    "    ws = r.split()\n",
    "    ws2 = [' '.join(x) for x in list(zip(ws[:-1],ws[1:]))]\n",
    "    ws3 = [' '.join(x) for x in list(zip(ws[:-2],ws[1:-1],ws[2:]))]\n",
    "    ws4 = [' '.join(x) for x in list(zip(ws[:-3],ws[1:-2],ws[2:-1],ws[3:]))]\n",
    "    ws5 = [' '.join(x) for x in list(zip(ws[:-4],ws[1:-3],ws[2:-2],ws[3:-1],ws[4:]))]\n",
    "    for w in ws + ws2 + ws3 + ws4 + ws5:\n",
    "        wordCount[w] += 1\n",
    "\n",
    "counts = [(wordCount[w], w) for w in wordCount]\n",
    "counts.sort()\n",
    "counts.reverse()"
   ]
  },
  {
   "cell_type": "code",
   "execution_count": 59,
   "id": "263e2346",
   "metadata": {},
   "outputs": [],
   "source": [
    "words = [x[1] for x in counts[:1000]]"
   ]
  },
  {
   "cell_type": "code",
   "execution_count": 69,
   "id": "f4610f93",
   "metadata": {},
   "outputs": [
    {
     "data": {
      "text/plain": [
       "['a gift to ajws',\n",
       " 'a gift to',\n",
       " '1231 and your 100 taxdeductible',\n",
       " '1231 and your 100',\n",
       " '1231 and your',\n",
       " '1231 and',\n",
       " '1231',\n",
       " '100 taxdeductible gift will be',\n",
       " '100 taxdeductible gift will',\n",
       " '100 taxdeductible gift']"
      ]
     },
     "execution_count": 69,
     "metadata": {},
     "output_type": "execute_result"
    }
   ],
   "source": [
    "# A few of our 1000 most popular n-grams. Note the combination of n-grams of different lengths\n",
    "words[200:210]"
   ]
  },
  {
   "cell_type": "code",
   "execution_count": 61,
   "id": "7f9effbe",
   "metadata": {},
   "outputs": [],
   "source": [
    "wordId = dict(zip(words, range(len(words))))\n",
    "wordSet = set(words)"
   ]
  },
  {
   "cell_type": "code",
   "execution_count": 62,
   "id": "95efb9e9",
   "metadata": {},
   "outputs": [],
   "source": [
    "def feature(datum):\n",
    "    feat = [0]*len(words)\n",
    "    r = ''.join([c for c in datum['ad_creative_link_description'].lower() if not c in punctuation])\n",
    "    ws = r.split()\n",
    "    ws2 = [' '.join(x) for x in list(zip(ws[:-1],ws[1:]))]\n",
    "    ws3 = [' '.join(x) for x in list(zip(ws[:-2],ws[1:-1],ws[2:]))]\n",
    "    ws4 = [' '.join(x) for x in list(zip(ws[:-3],ws[1:-2],ws[2:-1],ws[3:]))]\n",
    "    ws5 = [' '.join(x) for x in list(zip(ws[:-4],ws[1:-3],ws[2:-2],ws[3:-1],ws[4:]))]\n",
    "    for w in ws + ws2 + ws3 + ws4 + ws5:\n",
    "        if w in words:\n",
    "            feat[wordId[w]] += 1\n",
    "    feat.append(1) #offset\n",
    "    return feat"
   ]
  },
  {
   "cell_type": "code",
   "execution_count": 64,
   "id": "5e0e4999",
   "metadata": {},
   "outputs": [],
   "source": [
    "# Same as the model in the previous example above, except using n-grams rather than just unigrams\n",
    "\n",
    "X = [feature(d) for d in data]\n",
    "y = [int(d['impressions']['lower_bound']) for d in data]"
   ]
  },
  {
   "cell_type": "code",
   "execution_count": 65,
   "id": "583db1e7",
   "metadata": {},
   "outputs": [],
   "source": [
    "clf = linear_model.Ridge(1.0, fit_intercept=False) # MSE + 1.0 l2\n",
    "clf.fit(X, y)\n",
    "theta = clf.coef_\n",
    "predictions = clf.predict(X)"
   ]
  },
  {
   "cell_type": "code",
   "execution_count": 66,
   "id": "684460e7",
   "metadata": {},
   "outputs": [],
   "source": [
    "wordSort = list(zip(theta[:-1], words))\n",
    "wordSort.sort()"
   ]
  },
  {
   "cell_type": "markdown",
   "id": "d4eb4691",
   "metadata": {},
   "source": [
    "Some of the most negative and positive n-grams..."
   ]
  },
  {
   "cell_type": "code",
   "execution_count": 67,
   "id": "90e854ed",
   "metadata": {},
   "outputs": [
    {
     "data": {
      "text/plain": [
       "[(-98043.30879170538, 'together we'),\n",
       " (-75438.66061442014, 'domestic'),\n",
       " (-69887.0719411429, 'vaccine mandates'),\n",
       " (-69726.24156172249, 'to provide'),\n",
       " (-63835.36882883463, 'both'),\n",
       " (-62757.826287633245, 'safe free'),\n",
       " (-62189.12375049295, 'a donation'),\n",
       " (-61603.05891771719, 'or make'),\n",
       " (-56227.95289931103, 'states'),\n",
       " (-55118.762467773944, 'join us'),\n",
       " (-53907.26427544211, 'whether'),\n",
       " (-53614.31298304524, 'make a donation'),\n",
       " (-53364.57613736314, 'stand up'),\n",
       " (-52600.66208324801, 'there is'),\n",
       " (-50968.03664273237, 'fox'),\n",
       " (-48939.88680654306, 'make a'),\n",
       " (-46780.74612438378, 'country'),\n",
       " (-46125.753116718835, 'during'),\n",
       " (-46016.03546730052, 'coronavirus'),\n",
       " (-45830.92502005108, 'parents to')]"
      ]
     },
     "execution_count": 67,
     "metadata": {},
     "output_type": "execute_result"
    }
   ],
   "source": [
    "wordSort[:20]"
   ]
  },
  {
   "cell_type": "code",
   "execution_count": 71,
   "id": "cc76ef33",
   "metadata": {},
   "outputs": [
    {
     "data": {
      "text/plain": [
       "[(48873.80262910532, 'in 2022'),\n",
       " (49633.61600079367, 'sweeping'),\n",
       " (52591.06487668196, 'council'),\n",
       " (52922.15283050836, 'hold'),\n",
       " (59324.96695603222, '👉'),\n",
       " (63615.68602856734, 'covid19 vaccines'),\n",
       " (63926.3249255196, 'public'),\n",
       " (67046.45052052898, 'we are'),\n",
       " (75935.97834156317, 'businesses'),\n",
       " (79627.22663241245, 'bidens'),\n",
       " (79743.82239967112, 'today'),\n",
       " (85408.73429876266, 'possible'),\n",
       " (93743.29100038276, 'questions'),\n",
       " (94871.01365132128, 'mandates'),\n",
       " (102765.88099914405, 'stand'),\n",
       " (115554.06938346254, 'future'),\n",
       " (133470.60798106572, 'provide'),\n",
       " (142086.1352081151, 'next'),\n",
       " (154875.9037090494, 'a new'),\n",
       " (154898.2553384335, 'supporting')]"
      ]
     },
     "execution_count": 71,
     "metadata": {},
     "output_type": "execute_result"
    }
   ],
   "source": [
    "wordSort[-20:]"
   ]
  },
  {
   "cell_type": "code",
   "execution_count": null,
   "id": "5e20d831",
   "metadata": {},
   "outputs": [],
   "source": []
  }
 ],
 "metadata": {
  "kernelspec": {
   "display_name": "venv",
   "language": "python",
   "name": "venv"
  },
  "language_info": {
   "codemirror_mode": {
    "name": "ipython",
    "version": 3
   },
   "file_extension": ".py",
   "mimetype": "text/x-python",
   "name": "python",
   "nbconvert_exporter": "python",
   "pygments_lexer": "ipython3",
   "version": "3.7.9"
  }
 },
 "nbformat": 4,
 "nbformat_minor": 5
}
