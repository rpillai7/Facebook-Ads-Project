{
 "cells": [
  {
   "cell_type": "code",
   "execution_count": 39,
   "id": "c5a6280e",
   "metadata": {},
   "outputs": [],
   "source": [
    "#packages we need\n",
    "import requests\n",
    "import json\n",
    "import pickle"
   ]
  },
  {
   "cell_type": "code",
   "execution_count": 40,
   "id": "8a937b5d",
   "metadata": {},
   "outputs": [],
   "source": [
    "#access token\n",
    "token = \"EAADPYSrCW2kBAGogzpSCKt2GbtXdUZBs1J5n7IBoBuIFv0u2Tx9p4PsrQLwqWq8rL7i0bJX3XbZBslBIx7L4vCTR8tBfRiqBGrUffJeMCoR5wnZASp4ZAbR3mnoTUUf4Nu8ojOubRPQ9ILRRpIJeuyYjWWqNn6EK5kFK7wjvZBqArPsj3tvRqHnsXwzqTpW8jvlRIPMW588dAsQQO3YQdcZBmTBmx9FkYZD\""
   ]
  },
  {
   "cell_type": "code",
   "execution_count": 41,
   "id": "7dd30583",
   "metadata": {},
   "outputs": [],
   "source": [
    "#url\n",
    "firsturl = 'https://graph.facebook.com/v12.0/ads_archive?access_token={}&fields=%5B%27impressions%27%2C%27demographic_distribution%27%2C%27ad_creation_time%27%2C%27ad_creative_link_description%27%2C%27ad_delivery_start_time%27%2C%27ad_delivery_stop_time%27%2C%27delivery_by_region%27%2C%27estimated_audience_size%27%2C%27page_name%27%2C%27publisher_platforms%27%2C%27spend%27%5D&search_terms=%27covid%27&ad_type=POLITICAL_AND_ISSUE_ADS&ad_reached_countries=%5B%27US%27%5D&limit=25'.format(token)"
   ]
  },
  {
   "cell_type": "code",
   "execution_count": 42,
   "id": "208dc465",
   "metadata": {},
   "outputs": [],
   "source": [
    "#code to collect ad information\n",
    "url = firsturl\n",
    "curAds = requests.get(url).json()\n",
    "allAds = []\n",
    "numAds = 0\n",
    "index = 0\n",
    "while numAds<5000:\n",
    "    numInd = len(curAds['data'])\n",
    "    if index==numInd-1:\n",
    "        index=0\n",
    "        url = curAds['paging']['next']\n",
    "        curAds = requests.get(url).json()\n",
    "        \n",
    "    else:\n",
    "        allAds.append(curAds['data'][index])\n",
    "        index=index+1\n",
    "        numAds = numAds+1"
   ]
  },
  {
   "cell_type": "code",
   "execution_count": 43,
   "id": "55b41b2b",
   "metadata": {},
   "outputs": [],
   "source": [
    "#dumps the allAds list into a file\n",
    "open_file = open(\"Ads5000\", \"wb\")\n",
    "pickle.dump(allAds, open_file)\n",
    "open_file.close()"
   ]
  },
  {
   "cell_type": "code",
   "execution_count": null,
   "id": "863d6820",
   "metadata": {},
   "outputs": [],
   "source": []
  }
 ],
 "metadata": {
  "kernelspec": {
   "display_name": "fbads",
   "language": "python",
   "name": "fbads"
  },
  "language_info": {
   "codemirror_mode": {
    "name": "ipython",
    "version": 3
   },
   "file_extension": ".py",
   "mimetype": "text/x-python",
   "name": "python",
   "nbconvert_exporter": "python",
   "pygments_lexer": "ipython3",
   "version": "3.7.9"
  }
 },
 "nbformat": 4,
 "nbformat_minor": 5
}
