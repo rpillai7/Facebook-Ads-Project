{
 "cells": [
  {
   "cell_type": "code",
   "execution_count": 2,
   "id": "83a51535",
   "metadata": {},
   "outputs": [],
   "source": [
    "import pickle\n",
    "import pandas as pd\n",
    "from collections import defaultdict\n",
    "import ast"
   ]
  },
  {
   "cell_type": "markdown",
   "id": "9ff912cf",
   "metadata": {},
   "source": [
    "# For Josh: Remove duplicates"
   ]
  },
  {
   "cell_type": "code",
   "execution_count": 3,
   "id": "853d7251",
   "metadata": {},
   "outputs": [],
   "source": [
    "f = open(\"allads_vaccine\", \"rb\")\n",
    "ads = pickle.load(f)\n",
    "f.close()"
   ]
  },
  {
   "cell_type": "code",
   "execution_count": 4,
   "id": "e330deee",
   "metadata": {},
   "outputs": [],
   "source": [
    "f = open(\"allads_election\", \"rb\")\n",
    "ads_election = pickle.load(f)\n",
    "f.close()"
   ]
  },
  {
   "cell_type": "code",
   "execution_count": 5,
   "id": "25260812",
   "metadata": {},
   "outputs": [],
   "source": [
    "df = pd.DataFrame.from_records(ads)\n",
    "df['ad_creative_bodies'] = df['ad_creative_bodies'].str[0]\n",
    "df=df.drop_duplicates(subset=['ad_creative_bodies'])\n",
    "df=df.sample(frac=1)"
   ]
  },
  {
   "cell_type": "code",
   "execution_count": 8,
   "id": "f73e55cd",
   "metadata": {},
   "outputs": [],
   "source": [
    "df_election = pd.DataFrame.from_records(ads_election)\n",
    "df_election['ad_creative_bodies'] = df_election['ad_creative_bodies'].str[0]\n",
    "df_election=df_election.drop_duplicates(subset=['ad_creative_bodies'])\n",
    "df_election=df_election.sample(frac=1)"
   ]
  },
  {
   "cell_type": "code",
   "execution_count": 9,
   "id": "9cdc0531",
   "metadata": {},
   "outputs": [],
   "source": [
    "df.to_csv('Ads_vaccine_sample.csv')"
   ]
  },
  {
   "cell_type": "code",
   "execution_count": 10,
   "id": "7d1497a9",
   "metadata": {},
   "outputs": [],
   "source": [
    "df_election.to_csv('Ads_election_sample.csv')"
   ]
  },
  {
   "cell_type": "markdown",
   "id": "24ce48e2",
   "metadata": {},
   "source": [
    "# For emily: combine duplicates"
   ]
  },
  {
   "cell_type": "code",
   "execution_count": 14,
   "id": "dde092bf",
   "metadata": {},
   "outputs": [],
   "source": [
    "f = open(\"allads_election\", \"rb\")\n",
    "ads_emily_election = pickle.load(f)\n",
    "f.close()"
   ]
  },
  {
   "cell_type": "code",
   "execution_count": 29,
   "id": "333c2d90",
   "metadata": {},
   "outputs": [
    {
     "data": {
      "text/plain": [
       "28024"
      ]
     },
     "execution_count": 29,
     "metadata": {},
     "output_type": "execute_result"
    }
   ],
   "source": [
    "f = open(\"allads_vaccine\", \"rb\")\n",
    "ads_emily_vaccine = pickle.load(f)\n",
    "f.close()"
   ]
  },
  {
   "cell_type": "code",
   "execution_count": 13,
   "id": "ae4e835e",
   "metadata": {},
   "outputs": [],
   "source": [
    "def clean(ads_emily):\n",
    "    df2 = pd.DataFrame.from_records(ads_emily)\n",
    "    df2=df2.drop(['id', 'ad_delivery_start_time', 'ad_delivery_stop_time', 'ad_creation_time'], axis=1)\n",
    "    df2 = df2.dropna(subset=['delivery_by_region'])\n",
    "    df2['ad_creative_bodies'] = df2['ad_creative_bodies'].str[0]\n",
    "    df2_grouped = df2.groupby('ad_creative_bodies').agg({'demographic_distribution':lambda x: list(x), \n",
    "                                           'delivery_by_region':lambda x: list(x), \n",
    "                                          'demographic_distribution':lambda x: list(x), \n",
    "                                          'estimated_audience_size':lambda x: list(x), \n",
    "                                          'spend': lambda x: list(x), \n",
    "                                          'impressions': lambda x: list(x)}).reset_index()\n",
    "    \n",
    "    return df2_grouped\n",
    "    "
   ]
  },
  {
   "cell_type": "code",
   "execution_count": 22,
   "id": "0e52e747",
   "metadata": {},
   "outputs": [
    {
     "data": {
      "text/html": [
       "<div>\n",
       "<style scoped>\n",
       "    .dataframe tbody tr th:only-of-type {\n",
       "        vertical-align: middle;\n",
       "    }\n",
       "\n",
       "    .dataframe tbody tr th {\n",
       "        vertical-align: top;\n",
       "    }\n",
       "\n",
       "    .dataframe thead th {\n",
       "        text-align: right;\n",
       "    }\n",
       "</style>\n",
       "<table border=\"1\" class=\"dataframe\">\n",
       "  <thead>\n",
       "    <tr style=\"text-align: right;\">\n",
       "      <th></th>\n",
       "      <th>ad_creative_bodies</th>\n",
       "      <th>demographic_distribution</th>\n",
       "      <th>delivery_by_region</th>\n",
       "      <th>estimated_audience_size</th>\n",
       "      <th>spend</th>\n",
       "      <th>impressions</th>\n",
       "    </tr>\n",
       "  </thead>\n",
       "  <tbody>\n",
       "    <tr>\n",
       "      <th>0</th>\n",
       "      <td></td>\n",
       "      <td>[[{'percentage': '0.001006', 'age': '13-17', '...</td>\n",
       "      <td>[[{'percentage': '0.001516', 'region': 'Rhode ...</td>\n",
       "      <td>[{'lower_bound': '5001', 'upper_bound': '10000...</td>\n",
       "      <td>[{'lower_bound': '1000', 'upper_bound': '1499'...</td>\n",
       "      <td>[{'lower_bound': '25000', 'upper_bound': '2999...</td>\n",
       "    </tr>\n",
       "    <tr>\n",
       "      <th>1</th>\n",
       "      <td>!!!!!!!!!!!!!!!!!!!!</td>\n",
       "      <td>[[{'percentage': '4.9E-5', 'age': '18-24', 'ge...</td>\n",
       "      <td>[[{'percentage': '0.034184', 'region': 'Alabam...</td>\n",
       "      <td>[{'lower_bound': '1000001'}]</td>\n",
       "      <td>[{'lower_bound': '0', 'upper_bound': '99'}]</td>\n",
       "      <td>[{'lower_bound': '25000', 'upper_bound': '2999...</td>\n",
       "    </tr>\n",
       "    <tr>\n",
       "      <th>2</th>\n",
       "      <td>\"'Safe, potent, &amp; effective' - those three wor...</td>\n",
       "      <td>[[{'percentage': '5.4E-5', 'age': '13-17', 'ge...</td>\n",
       "      <td>[[{'percentage': '0.000163', 'region': 'Unknow...</td>\n",
       "      <td>[{'lower_bound': '1000001'}]</td>\n",
       "      <td>[{'lower_bound': '300', 'upper_bound': '399'}]</td>\n",
       "      <td>[{'lower_bound': '15000', 'upper_bound': '1999...</td>\n",
       "    </tr>\n",
       "    <tr>\n",
       "      <th>3</th>\n",
       "      <td>\"1 in 500 Americans have died from COVID-19. O...</td>\n",
       "      <td>[[{'percentage': '0.000943', 'age': '45-54', '...</td>\n",
       "      <td>[[{'percentage': '1', 'region': 'Texas'}], [{'...</td>\n",
       "      <td>[{'lower_bound': '10001', 'upper_bound': '5000...</td>\n",
       "      <td>[{'lower_bound': '0', 'upper_bound': '99'}, {'...</td>\n",
       "      <td>[{'lower_bound': '1000', 'upper_bound': '1999'...</td>\n",
       "    </tr>\n",
       "    <tr>\n",
       "      <th>4</th>\n",
       "      <td>\"A patent seizure is largely symbolic rather t...</td>\n",
       "      <td>[[{'percentage': '0.000456', 'age': '18-24', '...</td>\n",
       "      <td>[[{'percentage': '0.01887', 'region': 'Alabama...</td>\n",
       "      <td>[{'lower_bound': '1000001'}]</td>\n",
       "      <td>[{'lower_bound': '200', 'upper_bound': '299'}]</td>\n",
       "      <td>[{'lower_bound': '20000', 'upper_bound': '2499...</td>\n",
       "    </tr>\n",
       "  </tbody>\n",
       "</table>\n",
       "</div>"
      ],
      "text/plain": [
       "                                  ad_creative_bodies  \\\n",
       "0                                                      \n",
       "1                               !!!!!!!!!!!!!!!!!!!!   \n",
       "2  \"'Safe, potent, & effective' - those three wor...   \n",
       "3  \"1 in 500 Americans have died from COVID-19. O...   \n",
       "4  \"A patent seizure is largely symbolic rather t...   \n",
       "\n",
       "                            demographic_distribution  \\\n",
       "0  [[{'percentage': '0.001006', 'age': '13-17', '...   \n",
       "1  [[{'percentage': '4.9E-5', 'age': '18-24', 'ge...   \n",
       "2  [[{'percentage': '5.4E-5', 'age': '13-17', 'ge...   \n",
       "3  [[{'percentage': '0.000943', 'age': '45-54', '...   \n",
       "4  [[{'percentage': '0.000456', 'age': '18-24', '...   \n",
       "\n",
       "                                  delivery_by_region  \\\n",
       "0  [[{'percentage': '0.001516', 'region': 'Rhode ...   \n",
       "1  [[{'percentage': '0.034184', 'region': 'Alabam...   \n",
       "2  [[{'percentage': '0.000163', 'region': 'Unknow...   \n",
       "3  [[{'percentage': '1', 'region': 'Texas'}], [{'...   \n",
       "4  [[{'percentage': '0.01887', 'region': 'Alabama...   \n",
       "\n",
       "                             estimated_audience_size  \\\n",
       "0  [{'lower_bound': '5001', 'upper_bound': '10000...   \n",
       "1                       [{'lower_bound': '1000001'}]   \n",
       "2                       [{'lower_bound': '1000001'}]   \n",
       "3  [{'lower_bound': '10001', 'upper_bound': '5000...   \n",
       "4                       [{'lower_bound': '1000001'}]   \n",
       "\n",
       "                                               spend  \\\n",
       "0  [{'lower_bound': '1000', 'upper_bound': '1499'...   \n",
       "1        [{'lower_bound': '0', 'upper_bound': '99'}]   \n",
       "2     [{'lower_bound': '300', 'upper_bound': '399'}]   \n",
       "3  [{'lower_bound': '0', 'upper_bound': '99'}, {'...   \n",
       "4     [{'lower_bound': '200', 'upper_bound': '299'}]   \n",
       "\n",
       "                                         impressions  \n",
       "0  [{'lower_bound': '25000', 'upper_bound': '2999...  \n",
       "1  [{'lower_bound': '25000', 'upper_bound': '2999...  \n",
       "2  [{'lower_bound': '15000', 'upper_bound': '1999...  \n",
       "3  [{'lower_bound': '1000', 'upper_bound': '1999'...  \n",
       "4  [{'lower_bound': '20000', 'upper_bound': '2499...  "
      ]
     },
     "execution_count": 22,
     "metadata": {},
     "output_type": "execute_result"
    }
   ],
   "source": [
    "df2_grouped = clean(ads_emily_vaccine)\n",
    "df2_grouped.head()"
   ]
  },
  {
   "cell_type": "code",
   "execution_count": 23,
   "id": "91a49faa",
   "metadata": {},
   "outputs": [],
   "source": [
    "def get_cumulative_spend(df2_grouped):\n",
    "    cum_impressions = []\n",
    "    cum_spend = []\n",
    "    for row in df2_grouped.iterrows():\n",
    "        ind_region = row[1]['delivery_by_region']\n",
    "        ind_impressions = row[1]['impressions']\n",
    "        ind_spend = row[1]['spend']\n",
    "        cur_cum_impressions = defaultdict(int)\n",
    "        cur_cum_spend = 0\n",
    "        for i in range(len(ind_region)): \n",
    "            cur_spend =(float(ind_spend[i]['lower_bound']) + float(ind_spend[i]['upper_bound']))/2\n",
    "            cur_cum_spend = cur_cum_spend+cur_spend\n",
    "            region = ind_region[i]\n",
    "            impr = ind_impressions[i]\n",
    "            for key in region:    \n",
    "                old = cur_cum_impressions[key['region']]\n",
    "                region_name = key['region']\n",
    "                try: \n",
    "                    cur_cum_impressions[region_name] = old+(float(impr['lower_bound']) + float(impr['upper_bound']))/2\n",
    "                except:\n",
    "                    cur_cum_impressions[region_name] = old+(float(impr['lower_bound']))/2\n",
    "\n",
    "        cum_impressions.append(dict(cur_cum_impressions))\n",
    "        \n",
    "        cum_spend.append(cur_cum_spend)\n",
    "    return cum_spend, cum_impressions"
   ]
  },
  {
   "cell_type": "code",
   "execution_count": 26,
   "id": "94edc162",
   "metadata": {},
   "outputs": [
    {
     "data": {
      "text/html": [
       "<div>\n",
       "<style scoped>\n",
       "    .dataframe tbody tr th:only-of-type {\n",
       "        vertical-align: middle;\n",
       "    }\n",
       "\n",
       "    .dataframe tbody tr th {\n",
       "        vertical-align: top;\n",
       "    }\n",
       "\n",
       "    .dataframe thead th {\n",
       "        text-align: right;\n",
       "    }\n",
       "</style>\n",
       "<table border=\"1\" class=\"dataframe\">\n",
       "  <thead>\n",
       "    <tr style=\"text-align: right;\">\n",
       "      <th></th>\n",
       "      <th>ad_creative_bodies</th>\n",
       "      <th>demographic_distribution</th>\n",
       "      <th>delivery_by_region</th>\n",
       "      <th>estimated_audience_size</th>\n",
       "      <th>spend</th>\n",
       "      <th>impressions</th>\n",
       "      <th>cumulative_impressions_by_region</th>\n",
       "      <th>cum_spend</th>\n",
       "    </tr>\n",
       "  </thead>\n",
       "  <tbody>\n",
       "    <tr>\n",
       "      <th>0</th>\n",
       "      <td></td>\n",
       "      <td>[[{'percentage': '0.001006', 'age': '13-17', '...</td>\n",
       "      <td>[[{'percentage': '0.001516', 'region': 'Rhode ...</td>\n",
       "      <td>[{'lower_bound': '5001', 'upper_bound': '10000...</td>\n",
       "      <td>[{'lower_bound': '1000', 'upper_bound': '1499'...</td>\n",
       "      <td>[{'lower_bound': '25000', 'upper_bound': '2999...</td>\n",
       "      <td>{'Rhode Island': 2231992.5, 'Oregon': 2231992....</td>\n",
       "      <td>48641.0</td>\n",
       "    </tr>\n",
       "    <tr>\n",
       "      <th>1</th>\n",
       "      <td>!!!!!!!!!!!!!!!!!!!!</td>\n",
       "      <td>[[{'percentage': '4.9E-5', 'age': '18-24', 'ge...</td>\n",
       "      <td>[[{'percentage': '0.034184', 'region': 'Alabam...</td>\n",
       "      <td>[{'lower_bound': '1000001'}]</td>\n",
       "      <td>[{'lower_bound': '0', 'upper_bound': '99'}]</td>\n",
       "      <td>[{'lower_bound': '25000', 'upper_bound': '2999...</td>\n",
       "      <td>{'Alabama': 27499.5, 'Rhode Island': 27499.5, ...</td>\n",
       "      <td>49.5</td>\n",
       "    </tr>\n",
       "    <tr>\n",
       "      <th>2</th>\n",
       "      <td>\"'Safe, potent, &amp; effective' - those three wor...</td>\n",
       "      <td>[[{'percentage': '5.4E-5', 'age': '13-17', 'ge...</td>\n",
       "      <td>[[{'percentage': '0.000163', 'region': 'Unknow...</td>\n",
       "      <td>[{'lower_bound': '1000001'}]</td>\n",
       "      <td>[{'lower_bound': '300', 'upper_bound': '399'}]</td>\n",
       "      <td>[{'lower_bound': '15000', 'upper_bound': '1999...</td>\n",
       "      <td>{'Unknown': 17499.5, 'Pennsylvania': 17499.5, ...</td>\n",
       "      <td>349.5</td>\n",
       "    </tr>\n",
       "    <tr>\n",
       "      <th>3</th>\n",
       "      <td>\"1 in 500 Americans have died from COVID-19. O...</td>\n",
       "      <td>[[{'percentage': '0.000943', 'age': '45-54', '...</td>\n",
       "      <td>[[{'percentage': '1', 'region': 'Texas'}], [{'...</td>\n",
       "      <td>[{'lower_bound': '10001', 'upper_bound': '5000...</td>\n",
       "      <td>[{'lower_bound': '0', 'upper_bound': '99'}, {'...</td>\n",
       "      <td>[{'lower_bound': '1000', 'upper_bound': '1999'...</td>\n",
       "      <td>{'Texas': 17496.5}</td>\n",
       "      <td>346.5</td>\n",
       "    </tr>\n",
       "    <tr>\n",
       "      <th>4</th>\n",
       "      <td>\"A patent seizure is largely symbolic rather t...</td>\n",
       "      <td>[[{'percentage': '0.000456', 'age': '18-24', '...</td>\n",
       "      <td>[[{'percentage': '0.01887', 'region': 'Alabama...</td>\n",
       "      <td>[{'lower_bound': '1000001'}]</td>\n",
       "      <td>[{'lower_bound': '200', 'upper_bound': '299'}]</td>\n",
       "      <td>[{'lower_bound': '20000', 'upper_bound': '2499...</td>\n",
       "      <td>{'Alabama': 22499.5, 'Rhode Island': 22499.5, ...</td>\n",
       "      <td>249.5</td>\n",
       "    </tr>\n",
       "  </tbody>\n",
       "</table>\n",
       "</div>"
      ],
      "text/plain": [
       "                                  ad_creative_bodies  \\\n",
       "0                                                      \n",
       "1                               !!!!!!!!!!!!!!!!!!!!   \n",
       "2  \"'Safe, potent, & effective' - those three wor...   \n",
       "3  \"1 in 500 Americans have died from COVID-19. O...   \n",
       "4  \"A patent seizure is largely symbolic rather t...   \n",
       "\n",
       "                            demographic_distribution  \\\n",
       "0  [[{'percentage': '0.001006', 'age': '13-17', '...   \n",
       "1  [[{'percentage': '4.9E-5', 'age': '18-24', 'ge...   \n",
       "2  [[{'percentage': '5.4E-5', 'age': '13-17', 'ge...   \n",
       "3  [[{'percentage': '0.000943', 'age': '45-54', '...   \n",
       "4  [[{'percentage': '0.000456', 'age': '18-24', '...   \n",
       "\n",
       "                                  delivery_by_region  \\\n",
       "0  [[{'percentage': '0.001516', 'region': 'Rhode ...   \n",
       "1  [[{'percentage': '0.034184', 'region': 'Alabam...   \n",
       "2  [[{'percentage': '0.000163', 'region': 'Unknow...   \n",
       "3  [[{'percentage': '1', 'region': 'Texas'}], [{'...   \n",
       "4  [[{'percentage': '0.01887', 'region': 'Alabama...   \n",
       "\n",
       "                             estimated_audience_size  \\\n",
       "0  [{'lower_bound': '5001', 'upper_bound': '10000...   \n",
       "1                       [{'lower_bound': '1000001'}]   \n",
       "2                       [{'lower_bound': '1000001'}]   \n",
       "3  [{'lower_bound': '10001', 'upper_bound': '5000...   \n",
       "4                       [{'lower_bound': '1000001'}]   \n",
       "\n",
       "                                               spend  \\\n",
       "0  [{'lower_bound': '1000', 'upper_bound': '1499'...   \n",
       "1        [{'lower_bound': '0', 'upper_bound': '99'}]   \n",
       "2     [{'lower_bound': '300', 'upper_bound': '399'}]   \n",
       "3  [{'lower_bound': '0', 'upper_bound': '99'}, {'...   \n",
       "4     [{'lower_bound': '200', 'upper_bound': '299'}]   \n",
       "\n",
       "                                         impressions  \\\n",
       "0  [{'lower_bound': '25000', 'upper_bound': '2999...   \n",
       "1  [{'lower_bound': '25000', 'upper_bound': '2999...   \n",
       "2  [{'lower_bound': '15000', 'upper_bound': '1999...   \n",
       "3  [{'lower_bound': '1000', 'upper_bound': '1999'...   \n",
       "4  [{'lower_bound': '20000', 'upper_bound': '2499...   \n",
       "\n",
       "                    cumulative_impressions_by_region  cum_spend  \n",
       "0  {'Rhode Island': 2231992.5, 'Oregon': 2231992....    48641.0  \n",
       "1  {'Alabama': 27499.5, 'Rhode Island': 27499.5, ...       49.5  \n",
       "2  {'Unknown': 17499.5, 'Pennsylvania': 17499.5, ...      349.5  \n",
       "3                                 {'Texas': 17496.5}      346.5  \n",
       "4  {'Alabama': 22499.5, 'Rhode Island': 22499.5, ...      249.5  "
      ]
     },
     "execution_count": 26,
     "metadata": {},
     "output_type": "execute_result"
    }
   ],
   "source": [
    "cum_spend, cum_impressions = get_cumulative_spend(df2_grouped)\n",
    "df2_grouped['cumulative_impressions_by_region'] = cum_impressions\n",
    "df2_grouped['cum_spend'] = cum_spend\n",
    "df2_grouped.head()"
   ]
  },
  {
   "cell_type": "code",
   "execution_count": 27,
   "id": "f66756f0",
   "metadata": {},
   "outputs": [],
   "source": [
    "df2_grouped.to_csv('emily_vaccine.csv')"
   ]
  },
  {
   "cell_type": "code",
   "execution_count": 28,
   "id": "0dbefdb1",
   "metadata": {},
   "outputs": [
    {
     "data": {
      "text/plain": [
       "(7248, 8)"
      ]
     },
     "execution_count": 28,
     "metadata": {},
     "output_type": "execute_result"
    }
   ],
   "source": [
    "df2_grouped.shape"
   ]
  },
  {
   "cell_type": "code",
   "execution_count": null,
   "id": "7c1655a5",
   "metadata": {},
   "outputs": [],
   "source": []
  }
 ],
 "metadata": {
  "kernelspec": {
   "display_name": "Python 3 (ipykernel)",
   "language": "python",
   "name": "python3"
  },
  "language_info": {
   "codemirror_mode": {
    "name": "ipython",
    "version": 3
   },
   "file_extension": ".py",
   "mimetype": "text/x-python",
   "name": "python",
   "nbconvert_exporter": "python",
   "pygments_lexer": "ipython3",
   "version": "3.7.9"
  }
 },
 "nbformat": 4,
 "nbformat_minor": 5
}
