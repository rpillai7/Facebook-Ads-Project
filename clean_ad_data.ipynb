{
 "cells": [
  {
   "cell_type": "code",
   "execution_count": 2,
   "id": "83a51535",
   "metadata": {},
   "outputs": [],
   "source": [
    "import pickle\n",
    "import pandas as pd\n",
    "from collections import defaultdict"
   ]
  },
  {
   "cell_type": "markdown",
   "id": "9ff912cf",
   "metadata": {},
   "source": [
    "# For Josh: Remove duplicates"
   ]
  },
  {
   "cell_type": "code",
   "execution_count": 1,
   "id": "853d7251",
   "metadata": {},
   "outputs": [],
   "source": [
    "f = open(\"Ads10000_vaccine\", \"rb\")\n",
    "ads = pickle.load(f)\n",
    "f.close()"
   ]
  },
  {
   "cell_type": "code",
   "execution_count": 20,
   "id": "e330deee",
   "metadata": {},
   "outputs": [],
   "source": [
    "f = open(\"Ads10000_election\", \"rb\")\n",
    "ads_election = pickle.load(f)\n",
    "f.close()"
   ]
  },
  {
   "cell_type": "code",
   "execution_count": 24,
   "id": "25260812",
   "metadata": {},
   "outputs": [],
   "source": [
    "df = pd.DataFrame.from_records(ads)\n",
    "df['ad_creative_bodies'] = df['ad_creative_bodies'].str[0]\n",
    "df=df.drop_duplicates(subset=['ad_creative_bodies'])\n",
    "df=df.sample(frac=1)"
   ]
  },
  {
   "cell_type": "code",
   "execution_count": 26,
   "id": "f73e55cd",
   "metadata": {},
   "outputs": [],
   "source": [
    "df_election = pd.DataFrame.from_records(ads_election)\n",
    "df_election['ad_creative_bodies'] = df_election['ad_creative_bodies'].str[0]\n",
    "df_election=df_election.drop_duplicates(subset=['ad_creative_bodies'])\n",
    "df_election=df_election.sample(frac=1)"
   ]
  },
  {
   "cell_type": "code",
   "execution_count": 27,
   "id": "9cdc0531",
   "metadata": {},
   "outputs": [],
   "source": [
    "df.to_csv('Ads_vaccine_sample.csv')"
   ]
  },
  {
   "cell_type": "code",
   "execution_count": null,
   "id": "7d1497a9",
   "metadata": {},
   "outputs": [],
   "source": [
    "df_election.to_csv('Ads_election_sample.csv')"
   ]
  },
  {
   "cell_type": "markdown",
   "id": "24ce48e2",
   "metadata": {},
   "source": [
    "# For emily: combine duplicates"
   ]
  },
  {
   "cell_type": "code",
   "execution_count": 8,
   "id": "dde092bf",
   "metadata": {},
   "outputs": [],
   "source": [
    "f = open(\"Ads10000_election\", \"rb\")\n",
    "ads_emily_election = pickle.load(f)\n",
    "f.close()"
   ]
  },
  {
   "cell_type": "code",
   "execution_count": 9,
   "id": "333c2d90",
   "metadata": {},
   "outputs": [],
   "source": [
    "f = open(\"Ads10000_vaccine\", \"rb\")\n",
    "ads_emily_vaccine = pickle.load(f)\n",
    "f.close()"
   ]
  },
  {
   "cell_type": "code",
   "execution_count": 10,
   "id": "ae4e835e",
   "metadata": {},
   "outputs": [],
   "source": [
    "df2 = pd.DataFrame.from_records(ads_emily_election)\n",
    "df2=df2.drop(['id', 'ad_delivery_start_time', 'ad_delivery_stop_time', 'ad_creation_time'], axis=1)\n",
    "df2 = df2.dropna(subset=['delivery_by_region'])\n",
    "df2['ad_creative_bodies'] = df2['ad_creative_bodies'].str[0]\n",
    "df2_grouped = df2.groupby('ad_creative_bodies').agg({'demographic_distribution':lambda x: list(x), \n",
    "                                       'delivery_by_region':lambda x: list(x), \n",
    "                                      'demographic_distribution':lambda x: list(x), \n",
    "                                      'estimated_audience_size':lambda x: list(x), \n",
    "                                      'spend': lambda x: list(x), \n",
    "                                      'impressions': lambda x: list(x)}).reset_index()"
   ]
  },
  {
   "cell_type": "code",
   "execution_count": 19,
   "id": "bd4910b9",
   "metadata": {},
   "outputs": [
    {
     "data": {
      "text/html": [
       "<div>\n",
       "<style scoped>\n",
       "    .dataframe tbody tr th:only-of-type {\n",
       "        vertical-align: middle;\n",
       "    }\n",
       "\n",
       "    .dataframe tbody tr th {\n",
       "        vertical-align: top;\n",
       "    }\n",
       "\n",
       "    .dataframe thead th {\n",
       "        text-align: right;\n",
       "    }\n",
       "</style>\n",
       "<table border=\"1\" class=\"dataframe\">\n",
       "  <thead>\n",
       "    <tr style=\"text-align: right;\">\n",
       "      <th></th>\n",
       "      <th>ad_creative_bodies</th>\n",
       "      <th>demographic_distribution</th>\n",
       "      <th>delivery_by_region</th>\n",
       "      <th>estimated_audience_size</th>\n",
       "      <th>spend</th>\n",
       "      <th>impressions</th>\n",
       "    </tr>\n",
       "  </thead>\n",
       "  <tbody>\n",
       "    <tr>\n",
       "      <th>0</th>\n",
       "      <td></td>\n",
       "      <td>[[{'percentage': '0.000876', 'age': '45-54', '...</td>\n",
       "      <td>[[{'percentage': '1', 'region': 'New York'}], ...</td>\n",
       "      <td>[{'lower_bound': '10001', 'upper_bound': '5000...</td>\n",
       "      <td>[{'lower_bound': '300', 'upper_bound': '399'},...</td>\n",
       "      <td>[{'lower_bound': '8000', 'upper_bound': '8999'...</td>\n",
       "    </tr>\n",
       "    <tr>\n",
       "      <th>1</th>\n",
       "      <td>!!!The government cannot fight CORRUPTION - th...</td>\n",
       "      <td>[[{'percentage': '0.000933', 'age': '18-24', '...</td>\n",
       "      <td>[[{'percentage': '0.00185', 'region': 'Rhode I...</td>\n",
       "      <td>[{'lower_bound': '1000001'}]</td>\n",
       "      <td>[{'lower_bound': '0', 'upper_bound': '99'}]</td>\n",
       "      <td>[{'lower_bound': '1000', 'upper_bound': '1999'}]</td>\n",
       "    </tr>\n",
       "    <tr>\n",
       "      <th>2</th>\n",
       "      <td>!!🚨Endorsement Alert🚨!! \\n\\nThank you Byron Po...</td>\n",
       "      <td>[[{'percentage': '0.004039', 'age': '65+', 'ge...</td>\n",
       "      <td>[[{'percentage': '0.002281', 'region': 'Unknow...</td>\n",
       "      <td>[{'lower_bound': '100001', 'upper_bound': '500...</td>\n",
       "      <td>[{'lower_bound': '100', 'upper_bound': '199'}]</td>\n",
       "      <td>[{'lower_bound': '2000', 'upper_bound': '2999'}]</td>\n",
       "    </tr>\n",
       "    <tr>\n",
       "      <th>3</th>\n",
       "      <td>\" An astute CPA told me 45 years ago, Math nev...</td>\n",
       "      <td>[[{'percentage': '0.00112', 'age': '18-24', 'g...</td>\n",
       "      <td>[[{'percentage': '1', 'region': 'Ohio'}], [{'p...</td>\n",
       "      <td>[{'lower_bound': '100001', 'upper_bound': '500...</td>\n",
       "      <td>[{'lower_bound': '0', 'upper_bound': '99'}, {'...</td>\n",
       "      <td>[{'lower_bound': '2000', 'upper_bound': '2999'...</td>\n",
       "    </tr>\n",
       "    <tr>\n",
       "      <th>4</th>\n",
       "      <td>\"....Framingham should not go back to the ways...</td>\n",
       "      <td>[[{'percentage': '0.004255', 'age': '45-54', '...</td>\n",
       "      <td>[[{'percentage': '1', 'region': 'Massachusetts...</td>\n",
       "      <td>[{'lower_bound': '50001', 'upper_bound': '1000...</td>\n",
       "      <td>[{'lower_bound': '0', 'upper_bound': '99'}, {'...</td>\n",
       "      <td>[{'lower_bound': '0', 'upper_bound': '999'}, {...</td>\n",
       "    </tr>\n",
       "  </tbody>\n",
       "</table>\n",
       "</div>"
      ],
      "text/plain": [
       "                                  ad_creative_bodies  \\\n",
       "0                                                      \n",
       "1  !!!The government cannot fight CORRUPTION - th...   \n",
       "2  !!🚨Endorsement Alert🚨!! \\n\\nThank you Byron Po...   \n",
       "3  \" An astute CPA told me 45 years ago, Math nev...   \n",
       "4  \"....Framingham should not go back to the ways...   \n",
       "\n",
       "                            demographic_distribution  \\\n",
       "0  [[{'percentage': '0.000876', 'age': '45-54', '...   \n",
       "1  [[{'percentage': '0.000933', 'age': '18-24', '...   \n",
       "2  [[{'percentage': '0.004039', 'age': '65+', 'ge...   \n",
       "3  [[{'percentage': '0.00112', 'age': '18-24', 'g...   \n",
       "4  [[{'percentage': '0.004255', 'age': '45-54', '...   \n",
       "\n",
       "                                  delivery_by_region  \\\n",
       "0  [[{'percentage': '1', 'region': 'New York'}], ...   \n",
       "1  [[{'percentage': '0.00185', 'region': 'Rhode I...   \n",
       "2  [[{'percentage': '0.002281', 'region': 'Unknow...   \n",
       "3  [[{'percentage': '1', 'region': 'Ohio'}], [{'p...   \n",
       "4  [[{'percentage': '1', 'region': 'Massachusetts...   \n",
       "\n",
       "                             estimated_audience_size  \\\n",
       "0  [{'lower_bound': '10001', 'upper_bound': '5000...   \n",
       "1                       [{'lower_bound': '1000001'}]   \n",
       "2  [{'lower_bound': '100001', 'upper_bound': '500...   \n",
       "3  [{'lower_bound': '100001', 'upper_bound': '500...   \n",
       "4  [{'lower_bound': '50001', 'upper_bound': '1000...   \n",
       "\n",
       "                                               spend  \\\n",
       "0  [{'lower_bound': '300', 'upper_bound': '399'},...   \n",
       "1        [{'lower_bound': '0', 'upper_bound': '99'}]   \n",
       "2     [{'lower_bound': '100', 'upper_bound': '199'}]   \n",
       "3  [{'lower_bound': '0', 'upper_bound': '99'}, {'...   \n",
       "4  [{'lower_bound': '0', 'upper_bound': '99'}, {'...   \n",
       "\n",
       "                                         impressions  \n",
       "0  [{'lower_bound': '8000', 'upper_bound': '8999'...  \n",
       "1   [{'lower_bound': '1000', 'upper_bound': '1999'}]  \n",
       "2   [{'lower_bound': '2000', 'upper_bound': '2999'}]  \n",
       "3  [{'lower_bound': '2000', 'upper_bound': '2999'...  \n",
       "4  [{'lower_bound': '0', 'upper_bound': '999'}, {...  "
      ]
     },
     "execution_count": 19,
     "metadata": {},
     "output_type": "execute_result"
    }
   ],
   "source": [
    "df2_grouped.head()"
   ]
  },
  {
   "cell_type": "code",
   "execution_count": 17,
   "id": "e61c5392",
   "metadata": {},
   "outputs": [
    {
     "data": {
      "text/plain": [
       "[[{'percentage': '1', 'region': 'Washington'}],\n",
       " [{'percentage': '1', 'region': 'Washington'}],\n",
       " [{'percentage': '1', 'region': 'Washington'}]]"
      ]
     },
     "execution_count": 17,
     "metadata": {},
     "output_type": "execute_result"
    }
   ],
   "source": [
    "ind_region=df2_grouped.loc[6]['delivery_by_region']\n",
    "ind_region"
   ]
  },
  {
   "cell_type": "code",
   "execution_count": 18,
   "id": "a5c7e1d1",
   "metadata": {},
   "outputs": [
    {
     "data": {
      "text/plain": [
       "[{'lower_bound': '0', 'upper_bound': '999'},\n",
       " {'lower_bound': '1000', 'upper_bound': '1999'},\n",
       " {'lower_bound': '0', 'upper_bound': '999'}]"
      ]
     },
     "execution_count": 18,
     "metadata": {},
     "output_type": "execute_result"
    }
   ],
   "source": [
    "ind_impressions=df2_grouped.loc[6]['impressions']\n",
    "ind_impressions"
   ]
  },
  {
   "cell_type": "code",
   "execution_count": 29,
   "id": "2d117627",
   "metadata": {},
   "outputs": [],
   "source": [
    "\n",
    "for i in range(len(ind_region)):    \n",
    "    region = ind_region[i]\n",
    "    impr = ind_impressions[i]\n",
    "    for key in region:    \n",
    "        old = cur_cum_impressions[key['region']]\n",
    "        region_name = key['region']\n",
    "        cur_cum_impressions[region_name] = old+(float(impr['lower_bound']) + float(impr['upper_bound']))/2"
   ]
  },
  {
   "cell_type": "code",
   "execution_count": 30,
   "id": "9dbc189f",
   "metadata": {},
   "outputs": [
    {
     "data": {
      "text/plain": [
       "defaultdict(int, {'Washington': 2498.5})"
      ]
     },
     "execution_count": 30,
     "metadata": {},
     "output_type": "execute_result"
    }
   ],
   "source": [
    "cur_cum_impressions"
   ]
  },
  {
   "cell_type": "code",
   "execution_count": 38,
   "id": "91a49faa",
   "metadata": {},
   "outputs": [],
   "source": [
    "cum_impressions = []\n",
    "for row in df2_grouped.iterrows():\n",
    "    ind_region = row[1]['delivery_by_region']\n",
    "    ind_impressions = row[1]['impressions']\n",
    "    cur_cum_impressions = defaultdict(int)\n",
    "    for i in range(len(ind_region)):    \n",
    "        region = ind_region[i]\n",
    "        impr = ind_impressions[i]\n",
    "        for key in region:    \n",
    "            old = cur_cum_impressions[key['region']]\n",
    "            region_name = key['region']\n",
    "            try: \n",
    "                cur_cum_impressions[region_name] = old+(float(impr['lower_bound']) + float(impr['upper_bound']))/2\n",
    "            except:\n",
    "                cur_cum_impressions[region_name] = old+(float(impr['lower_bound']))/2\n",
    "            \n",
    "    cum_impressions.append(cur_cum_impressions)"
   ]
  },
  {
   "cell_type": "code",
   "execution_count": 40,
   "id": "94edc162",
   "metadata": {},
   "outputs": [
    {
     "data": {
      "text/html": [
       "<div>\n",
       "<style scoped>\n",
       "    .dataframe tbody tr th:only-of-type {\n",
       "        vertical-align: middle;\n",
       "    }\n",
       "\n",
       "    .dataframe tbody tr th {\n",
       "        vertical-align: top;\n",
       "    }\n",
       "\n",
       "    .dataframe thead th {\n",
       "        text-align: right;\n",
       "    }\n",
       "</style>\n",
       "<table border=\"1\" class=\"dataframe\">\n",
       "  <thead>\n",
       "    <tr style=\"text-align: right;\">\n",
       "      <th></th>\n",
       "      <th>ad_creative_bodies</th>\n",
       "      <th>demographic_distribution</th>\n",
       "      <th>delivery_by_region</th>\n",
       "      <th>estimated_audience_size</th>\n",
       "      <th>spend</th>\n",
       "      <th>impressions</th>\n",
       "      <th>cumulative_impressions_by_region</th>\n",
       "    </tr>\n",
       "  </thead>\n",
       "  <tbody>\n",
       "    <tr>\n",
       "      <th>0</th>\n",
       "      <td></td>\n",
       "      <td>[[{'percentage': '0.000876', 'age': '45-54', '...</td>\n",
       "      <td>[[{'percentage': '1', 'region': 'New York'}], ...</td>\n",
       "      <td>[{'lower_bound': '10001', 'upper_bound': '5000...</td>\n",
       "      <td>[{'lower_bound': '300', 'upper_bound': '399'},...</td>\n",
       "      <td>[{'lower_bound': '8000', 'upper_bound': '8999'...</td>\n",
       "      <td>{'New York': 28498.5, 'Georgia': 7999.0, 'Conn...</td>\n",
       "    </tr>\n",
       "    <tr>\n",
       "      <th>1</th>\n",
       "      <td>!!!The government cannot fight CORRUPTION - th...</td>\n",
       "      <td>[[{'percentage': '0.000933', 'age': '18-24', '...</td>\n",
       "      <td>[[{'percentage': '0.00185', 'region': 'Rhode I...</td>\n",
       "      <td>[{'lower_bound': '1000001'}]</td>\n",
       "      <td>[{'lower_bound': '0', 'upper_bound': '99'}]</td>\n",
       "      <td>[{'lower_bound': '1000', 'upper_bound': '1999'}]</td>\n",
       "      <td>{'Rhode Island': 1499.5, 'New York': 1499.5, '...</td>\n",
       "    </tr>\n",
       "    <tr>\n",
       "      <th>2</th>\n",
       "      <td>!!🚨Endorsement Alert🚨!! \\n\\nThank you Byron Po...</td>\n",
       "      <td>[[{'percentage': '0.004039', 'age': '65+', 'ge...</td>\n",
       "      <td>[[{'percentage': '0.002281', 'region': 'Unknow...</td>\n",
       "      <td>[{'lower_bound': '100001', 'upper_bound': '500...</td>\n",
       "      <td>[{'lower_bound': '100', 'upper_bound': '199'}]</td>\n",
       "      <td>[{'lower_bound': '2000', 'upper_bound': '2999'}]</td>\n",
       "      <td>{'Unknown': 2499.5, 'New Mexico': 2499.5}</td>\n",
       "    </tr>\n",
       "    <tr>\n",
       "      <th>3</th>\n",
       "      <td>\" An astute CPA told me 45 years ago, Math nev...</td>\n",
       "      <td>[[{'percentage': '0.00112', 'age': '18-24', 'g...</td>\n",
       "      <td>[[{'percentage': '1', 'region': 'Ohio'}], [{'p...</td>\n",
       "      <td>[{'lower_bound': '100001', 'upper_bound': '500...</td>\n",
       "      <td>[{'lower_bound': '0', 'upper_bound': '99'}, {'...</td>\n",
       "      <td>[{'lower_bound': '2000', 'upper_bound': '2999'...</td>\n",
       "      <td>{'Ohio': 5999.0}</td>\n",
       "    </tr>\n",
       "    <tr>\n",
       "      <th>4</th>\n",
       "      <td>\"....Framingham should not go back to the ways...</td>\n",
       "      <td>[[{'percentage': '0.004255', 'age': '45-54', '...</td>\n",
       "      <td>[[{'percentage': '1', 'region': 'Massachusetts...</td>\n",
       "      <td>[{'lower_bound': '50001', 'upper_bound': '1000...</td>\n",
       "      <td>[{'lower_bound': '0', 'upper_bound': '99'}, {'...</td>\n",
       "      <td>[{'lower_bound': '0', 'upper_bound': '999'}, {...</td>\n",
       "      <td>{'Massachusetts': 999.0, 'Connecticut': 499.5,...</td>\n",
       "    </tr>\n",
       "  </tbody>\n",
       "</table>\n",
       "</div>"
      ],
      "text/plain": [
       "                                  ad_creative_bodies  \\\n",
       "0                                                      \n",
       "1  !!!The government cannot fight CORRUPTION - th...   \n",
       "2  !!🚨Endorsement Alert🚨!! \\n\\nThank you Byron Po...   \n",
       "3  \" An astute CPA told me 45 years ago, Math nev...   \n",
       "4  \"....Framingham should not go back to the ways...   \n",
       "\n",
       "                            demographic_distribution  \\\n",
       "0  [[{'percentage': '0.000876', 'age': '45-54', '...   \n",
       "1  [[{'percentage': '0.000933', 'age': '18-24', '...   \n",
       "2  [[{'percentage': '0.004039', 'age': '65+', 'ge...   \n",
       "3  [[{'percentage': '0.00112', 'age': '18-24', 'g...   \n",
       "4  [[{'percentage': '0.004255', 'age': '45-54', '...   \n",
       "\n",
       "                                  delivery_by_region  \\\n",
       "0  [[{'percentage': '1', 'region': 'New York'}], ...   \n",
       "1  [[{'percentage': '0.00185', 'region': 'Rhode I...   \n",
       "2  [[{'percentage': '0.002281', 'region': 'Unknow...   \n",
       "3  [[{'percentage': '1', 'region': 'Ohio'}], [{'p...   \n",
       "4  [[{'percentage': '1', 'region': 'Massachusetts...   \n",
       "\n",
       "                             estimated_audience_size  \\\n",
       "0  [{'lower_bound': '10001', 'upper_bound': '5000...   \n",
       "1                       [{'lower_bound': '1000001'}]   \n",
       "2  [{'lower_bound': '100001', 'upper_bound': '500...   \n",
       "3  [{'lower_bound': '100001', 'upper_bound': '500...   \n",
       "4  [{'lower_bound': '50001', 'upper_bound': '1000...   \n",
       "\n",
       "                                               spend  \\\n",
       "0  [{'lower_bound': '300', 'upper_bound': '399'},...   \n",
       "1        [{'lower_bound': '0', 'upper_bound': '99'}]   \n",
       "2     [{'lower_bound': '100', 'upper_bound': '199'}]   \n",
       "3  [{'lower_bound': '0', 'upper_bound': '99'}, {'...   \n",
       "4  [{'lower_bound': '0', 'upper_bound': '99'}, {'...   \n",
       "\n",
       "                                         impressions  \\\n",
       "0  [{'lower_bound': '8000', 'upper_bound': '8999'...   \n",
       "1   [{'lower_bound': '1000', 'upper_bound': '1999'}]   \n",
       "2   [{'lower_bound': '2000', 'upper_bound': '2999'}]   \n",
       "3  [{'lower_bound': '2000', 'upper_bound': '2999'...   \n",
       "4  [{'lower_bound': '0', 'upper_bound': '999'}, {...   \n",
       "\n",
       "                    cumulative_impressions_by_region  \n",
       "0  {'New York': 28498.5, 'Georgia': 7999.0, 'Conn...  \n",
       "1  {'Rhode Island': 1499.5, 'New York': 1499.5, '...  \n",
       "2          {'Unknown': 2499.5, 'New Mexico': 2499.5}  \n",
       "3                                   {'Ohio': 5999.0}  \n",
       "4  {'Massachusetts': 999.0, 'Connecticut': 499.5,...  "
      ]
     },
     "execution_count": 40,
     "metadata": {},
     "output_type": "execute_result"
    }
   ],
   "source": [
    "df2_grouped['cumulative_impressions_by_region'] = cum_impressions\n",
    "df2_grouped.head()"
   ]
  },
  {
   "cell_type": "code",
   "execution_count": 41,
   "id": "f66756f0",
   "metadata": {},
   "outputs": [],
   "source": [
    "df2_grouped.to_csv('emily.csv')"
   ]
  },
  {
   "cell_type": "code",
   "execution_count": null,
   "id": "cc472c95",
   "metadata": {},
   "outputs": [],
   "source": []
  }
 ],
 "metadata": {
  "kernelspec": {
   "display_name": "Python 3 (ipykernel)",
   "language": "python",
   "name": "python3"
  },
  "language_info": {
   "codemirror_mode": {
    "name": "ipython",
    "version": 3
   },
   "file_extension": ".py",
   "mimetype": "text/x-python",
   "name": "python",
   "nbconvert_exporter": "python",
   "pygments_lexer": "ipython3",
   "version": "3.7.9"
  }
 },
 "nbformat": 4,
 "nbformat_minor": 5
}
